{
 "cells": [
  {
   "cell_type": "markdown",
   "metadata": {},
   "source": [
    "## Pages List (Buy)"
   ]
  },
  {
   "cell_type": "code",
   "execution_count": 1,
   "metadata": {},
   "outputs": [],
   "source": [
    "#import requests\n",
    "#import regex\n",
    "#from bs4 import BeautifulSoup\n",
    "\n",
    "#pages_list = []\n",
    "#for i in range(1, 838):\n",
    "    #page = requests.get('https://www.fincaraiz.com.co/finca-raiz/venta/medellin/?ad=30|'+ str(i) +'||||1||8,9,3,4,22,2,5,7,19,23,21,18,20|||55|5500006||||||||||||||||1|||1||griddate%20desc||||-1||')\n",
    "    #pages_list.append(page)"
   ]
  },
  {
   "cell_type": "markdown",
   "metadata": {},
   "source": [
    "## Properties Pages List (Buy)"
   ]
  },
  {
   "cell_type": "code",
   "execution_count": null,
   "metadata": {},
   "outputs": [],
   "source": [
    "import requests\n",
    "import regex\n",
    "from bs4 import BeautifulSoup\n",
    "\n",
    "pages_list = []\n",
    "for i in range(0, 21):\n",
    "    pages_list.append(requests.get('https://www.fincaraiz.com.co/finca-raiz/venta/medellin/?ad=30|'+ str(i) +'||||1||8,9,3,4,22,2,5,7,19,23,21,18,20|||55|5500006||||||||||||||||1|||1||griddate%20desc||||-1||'))\n",
    "print()\n",
    "soup = BeautifulSoup(page.content, 'html.parser')\n",
    "division = soup.find(id='divAdverts')\n",
    "properties_pages_list = []\n",
    "for i in range(0, 34):\n",
    "    properties = division.find(id='rowIndex_' + str(i))\n",
    "    property = ''\n",
    "    if (i == 0):\n",
    "        property = properties.find('li', class_='media')\n",
    "        property = property.find('span').attrs.get('onclick')\n",
    "    else:\n",
    "        property = properties.find('li', class_='media').attrs.get('onclick')\n",
    "    url_property = str(property).replace('javascript:window.location=', '')\n",
    "    url_property = 'https://www.fincaraiz.com.co' + url_property.replace(\"'\", \"\")\n",
    "    print('Property #' + str(i) + \": \" + str(url_property))\n",
    "    properties_pages_list.append(url_property)"
   ]
  },
  {
   "cell_type": "code",
   "execution_count": null,
   "metadata": {},
   "outputs": [],
   "source": []
  }
 ],
 "metadata": {
  "kernelspec": {
   "display_name": "Python 3",
   "language": "python",
   "name": "python3"
  },
  "language_info": {
   "codemirror_mode": {
    "name": "ipython",
    "version": 3
   },
   "file_extension": ".py",
   "mimetype": "text/x-python",
   "name": "python",
   "nbconvert_exporter": "python",
   "pygments_lexer": "ipython3",
   "version": "3.6.9"
  }
 },
 "nbformat": 4,
 "nbformat_minor": 2
}
