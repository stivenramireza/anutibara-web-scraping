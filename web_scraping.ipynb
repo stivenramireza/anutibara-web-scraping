{
 "cells": [
  {
   "cell_type": "markdown",
   "metadata": {},
   "source": [
    "## Pages List (Buy)"
   ]
  },
  {
   "cell_type": "code",
   "execution_count": 230,
   "metadata": {},
   "outputs": [],
   "source": [
    "import requests\n",
    "from bs4 import BeautifulSoup\n",
    "\n",
    "pages_list = []\n",
    "for i in range(1, 839):\n",
    "    pages_list.append('https://www.fincaraiz.com.co/finca-raiz/venta/medellin/?ad=30|'+ str(i) +'||||1||8,9,3,4,22,2,5,7,19,23,21,18,20|||55|5500006||||||||||||||||1|||1||griddate%20desc||||-1||')\n",
    "    #print('Paginator #' + str(i) + \": \" + pages_list[i-1])"
   ]
  },
  {
   "cell_type": "markdown",
   "metadata": {},
   "source": [
    "## Properties Pages List (Buy)"
   ]
  },
  {
   "cell_type": "code",
   "execution_count": 231,
   "metadata": {},
   "outputs": [
    {
     "name": "stdout",
     "output_type": "stream",
     "text": [
      "25,135 properties in total\n",
      "\n"
     ]
    }
   ],
   "source": [
    "paginator_url = 'https://www.fincaraiz.com.co/finca-raiz/venta/medellin/?ad=30|1||||1||8,9,3,4,22,2,5,7,19,23,21,18,20|||55|5500006||||||||||||||||1|||1||griddate%20desc||||-1||'\n",
    "page = requests.get(paginator_url)\n",
    "soup = BeautifulSoup(page.content, 'html.parser')\n",
    "properties_number = soup.find(id='lblNumInm').get_text()\n",
    "print (properties_number + 'properties in total\\n')\n",
    "division = soup.find(id='divAdverts')\n",
    "properties_pages_list = []\n",
    "for i in range(0, 34):\n",
    "    properties = division.find(id='rowIndex_' + str(i))\n",
    "    property = ''\n",
    "    if (i == 0):\n",
    "        property = properties.find('li', class_='media')\n",
    "        property = property.find('span').attrs.get('onclick')\n",
    "    else:\n",
    "        property = properties.find('li', class_='media').attrs.get('onclick')\n",
    "    url_property = str(property).replace('javascript:window.location=', '')\n",
    "    url_property = 'https://www.fincaraiz.com.co' + url_property.replace(\"'\", \"\")\n",
    "    #print('Property #' + str(i) + \": \" + str(url_property))\n",
    "    properties_pages_list.append(url_property)"
   ]
  },
  {
   "cell_type": "markdown",
   "metadata": {},
   "source": [
    "## Property Scraping"
   ]
  },
  {
   "cell_type": "code",
   "execution_count": 232,
   "metadata": {},
   "outputs": [],
   "source": [
    "paginator_url = 'https://www.fincaraiz.com.co/casa-en-venta/medellin/loma_los_bernal-det-4843507.aspx'\n",
    "page = requests.get(paginator_url)\n",
    "soup = BeautifulSoup(page.content, 'html.parser')\n",
    "\n",
    "# Extract Detail Header\n",
    "detail_header = soup.find('div', class_='row detailheader')\n",
    "property_price = detail_header.find('div', class_='price').find('h2').get_text()\n",
    "\n",
    "# Extract Image Content\n",
    "image_content = soup.find('div', class_='row imageContent')\n",
    "property_use = image_content.find('div', id='ctl00_phMasterPage_cAdvert_ucMultimedias_icoUsed').get_text()\n",
    "\n",
    "# Extract Small Features\n",
    "small_features = soup.find('div', class_='features clearfix')\n",
    "property_sqrt_meters = small_features.find('span', class_='advertSurface').get_text().split()\n",
    "property_sqrt_meters = float(\" \".join(sqrt_meters)[0:-3].replace(\",\", \".\"))\n",
    "property_rooms = small_features.find('span', class_='advertRooms').get_text().split()\n",
    "property_rooms = int(\" \".join(property_rooms)[-1])\n",
    "property_baths = small_features.find('span', class_='advertBaths').get_text().split()\n",
    "property_baths = int(\" \".join(property_baths)[-1])\n",
    "property_parks = small_features.find('span', class_='advertGarages').get_text().split()\n",
    "property_parks = int(\" \".join(property_parks)[-1])\n",
    "property_small_features = []\n",
    "property_small_features.append(property_sqrt_meters)\n",
    "property_small_features.append(property_rooms)\n",
    "property_small_features.append(property_baths)\n",
    "property_small_features.append(property_parks)\n",
    "\n",
    "# Estract Big Features\n",
    "big_features = soup.find('ul', class_='boxcube')\n",
    "property_admon = ''\n",
    "for li in big_features.find_all('li'):\n",
    "    value = li.get_text().split()\n",
    "    value = \" \".join(value)\n",
    "    if(value.find('Área privada') == 0):\n",
    "        property_private_area = value.replace('Área privada: ', '')[0:-3]\n",
    "    elif(value.find('Área Const') == 0):\n",
    "        property_const_area = value.replace('Área Const.: ', '')[0:-3]\n",
    "    elif(value.find('Precio m²') == 0):\n",
    "        property_sqrt_meters_price = value.replace('Precio m²: ', '')[0:-3]\n",
    "    elif(value.find('Estrato') == 0):\n",
    "        property_stratum = value.replace('Estrato: ', '')\n",
    "    elif(value.find('Estado') == 0):\n",
    "        property_feature_status = value.replace('Estado: ', '')\n",
    "    elif(value.find('Antigüedad') == 0):\n",
    "        property_old = value.replace('Antigüedad: ', '')\n",
    "    elif(value.find('Piso No') == 0):\n",
    "        property_floor = value.replace('Piso No: ', '')[0:-1]\n",
    "    elif(value.find('Sector') == 0):\n",
    "        property_floor = value.replace('Sector: ', '')\n",
    "    elif(value.find('Clima') == 0):\n",
    "        property_weather = value.replace('Clima: ', '')\n",
    "    elif(value.find('Admón') == 0):\n",
    "        property_admon = value.replace('Admón: ', '')\n",
    "\n",
    "# Extract Description\n",
    "description = soup.find('div', class_='description')\n",
    "property_code = int(description.find('span').find('b').get_text())\n",
    "property_description = description.find('p').get_text()\n",
    "\n",
    "# Extract Interior Features\n",
    "interior_features = soup.find('ul', id='tblInitialInteriores')\n",
    "property_interior_features = [li.get_text() for li in interior_features.find_all('li')]\n",
    "\n",
    "# Extract Exterior Features\n",
    "exterior_features = soup.find('ul', id='tblInitialExteriores')\n",
    "property_exterior_features = [li.get_text() for li in exterior_features.find_all('li')]\n",
    "\n",
    "# Extract Sector Features\n",
    "sector_features = soup.find('ul', id='tblInitialdelSector')\n",
    "property_sector_features = [li.get_text() for li in sector_features.find_all('li')]"
   ]
  },
  {
   "cell_type": "markdown",
   "metadata": {},
   "source": [
    "## Create JSON"
   ]
  },
  {
   "cell_type": "code",
   "execution_count": 233,
   "metadata": {},
   "outputs": [],
   "source": [
    "import json\n",
    "\n",
    "property_dict = {\n",
    "    'code': property_code,\n",
    "    'status': 'Venta',\n",
    "    'use': property_use,\n",
    "    'price': property_price\n",
    "}\n",
    "\n",
    "#print(json.dumps(property_dict, indent = 4, sort_keys=True))"
   ]
  }
 ],
 "metadata": {
  "kernelspec": {
   "display_name": "Python 3",
   "language": "python",
   "name": "python3"
  },
  "language_info": {
   "codemirror_mode": {
    "name": "ipython",
    "version": 3
   },
   "file_extension": ".py",
   "mimetype": "text/x-python",
   "name": "python",
   "nbconvert_exporter": "python",
   "pygments_lexer": "ipython3",
   "version": "3.7.3"
  }
 },
 "nbformat": 4,
 "nbformat_minor": 2
}
