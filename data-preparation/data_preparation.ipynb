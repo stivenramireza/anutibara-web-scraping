{
 "cells": [
  {
   "cell_type": "markdown",
   "execution_count": 7,
   "metadata": {},
   "outputs": [],
   "source": [
    "## Data Preparation"
   ]
  },
  {
   "cell_type": "code",
   "execution_count": 393,
   "metadata": {},
   "outputs": [],
   "source": [
    "import pandas as pd\n",
    "import numpy as np\n",
    "from pandas.io.json import json_normalize\n",
    "from pymongo import MongoClient\n",
    "import json, re"
   ]
  },
  {
   "cell_type": "markdown",
   "execution_count": 9,
   "metadata": {},
   "outputs": [],
   "source": [
    "### Database Connection"
   ]
  },
  {
   "cell_type": "code",
   "execution_count": 394,
   "metadata": {},
   "outputs": [
    {
     "name": "stdout",
     "output_type": "stream",
     "text": "Database connected successfully\n"
    }
   ],
   "source": [
    "DB_USER = 'anutibara'\n",
    "DB_PASS = 'anutibara'\n",
    "DB_HOST = 'scraping-cluster-7dtgt.gcp.mongodb.net'\n",
    "DB_NAME = 'scraping_db'\n",
    "\n",
    "try:\n",
    "    client = MongoClient(f'mongodb+srv://{DB_USER}:{DB_PASS}@{DB_HOST}/{DB_NAME}')\n",
    "    print(\"Database connected successfully\")\n",
    "except Exception as e:\n",
    "    print(\"Error to connect to database: \", e)\n",
    "db = client.get_database(DB_NAME)\n",
    "properties = db.properties"
   ]
  },
  {
   "cell_type": "markdown",
   "execution_count": 32,
   "metadata": {},
   "outputs": [],
   "source": [
    "### Database Queries"
   ]
  },
  {
   "cell_type": "code",
   "execution_count": 395,
   "metadata": {},
   "outputs": [
    {
     "data": {
      "text/plain": "102"
     },
     "execution_count": 395,
     "metadata": {},
     "output_type": "execute_result"
    }
   ],
   "source": [
    "properties.count_documents({})"
   ]
  },
  {
   "cell_type": "markdown",
   "execution_count": 2,
   "metadata": {},
   "outputs": [],
   "source": [
    "### Convert Mongo Collection to DataFrame"
   ]
  },
  {
   "cell_type": "code",
   "execution_count": 396,
   "metadata": {},
   "outputs": [],
   "source": [
    "new_properties_json = list(properties.find({ 'use': 'Nuevo' }))\n",
    "df_general_info = pd.DataFrame(new_properties_json, \n",
    "                                    columns=['_id', \n",
    "                                    'urlProperty', \n",
    "                                    'scrapingDate', \n",
    "                                    'scrapingHour', \n",
    "                                    'modifyDate',\n",
    "                                    'modifyHour', \n",
    "                                    'code', \n",
    "                                    'status', \n",
    "                                    'type', \n",
    "                                    'use', \n",
    "                                    'nameProject', \n",
    "                                    'description',\n",
    "                                    'offersType'])\n",
    "df_location = json_normalize(new_properties_json, 'location')\n",
    "df_owner_property = json_normalize(new_properties_json, 'ownerProperty')\n",
    "df_features = json_normalize(new_properties_json, 'features')\n",
    "df_more_features = json_normalize(new_properties_json, 'moreFeatures')\n",
    "df_new_properties = pd.concat([df_general_info, df_location, df_owner_property, \n",
    "                df_features, df_more_features], axis=1)"
   ]
  },
  {
   "cell_type": "code",
   "execution_count": 397,
   "metadata": {},
   "outputs": [],
   "source": [
    "old_properties_json = list(properties.find({ 'use': 'Usado' }))\n",
    "df_general_info = pd.DataFrame(old_properties_json, \n",
    "                                    columns=['_id', \n",
    "                                    'urlProperty', \n",
    "                                    'scrapingDate', \n",
    "                                    'scrapingHour', \n",
    "                                    'modifyDate',\n",
    "                                    'modifyHour', \n",
    "                                    'code', \n",
    "                                    'status', \n",
    "                                    'type', \n",
    "                                    'use', \n",
    "                                    'nameProject', \n",
    "                                    'description',\n",
    "                                    'offersType'])\n",
    "df_location = json_normalize(old_properties_json, 'location')\n",
    "df_owner_property = json_normalize(old_properties_json, 'ownerProperty')\n",
    "df_features = json_normalize(old_properties_json, 'features')\n",
    "df_more_features = json_normalize(old_properties_json, 'moreFeatures')\n",
    "df_old_properties = pd.concat([df_general_info, df_location, df_owner_property, \n",
    "                df_features, df_more_features], axis=1)"
   ]
  },
  {
   "cell_type": "markdown",
   "execution_count": null,
   "metadata": {},
   "outputs": [],
   "source": [
    "### Rename DataFrame Columns"
   ]
  },
  {
   "cell_type": "code",
   "execution_count": 398,
   "metadata": {},
   "outputs": [],
   "source": [
    "df_new_properties.rename(columns= {\n",
    "                        \"_id\": \"id_mongoose\", \n",
    "                        \"urlProperty\":\"id_property\",\n",
    "                        \"scrapingDate\": \"scraping_date\",\n",
    "                        \"scrapingHour\": \"scraping_hour\",\n",
    "                        \"modifyDate\": \"modify_date\",\n",
    "                        \"modifyHour\": \"modify_hour\",\n",
    "                        \"status\": \"active\",\n",
    "                        \"use\": \"new_property\",\n",
    "                        \"nameProject\": \"name_project\",\n",
    "                        \"offersType\": \"offers_type\",\n",
    "                        \"id\": \"id_owner_property\",\n",
    "                        \"name\": \"name_owner_property\",\n",
    "                        \"contractType\": \"contract_type_owner_property\",\n",
    "                        \"financing\": \"financing_owner_property\",\n",
    "                        \"schedule\": \"schedule_owner_property\",\n",
    "                        \"squareMeters\": \"square_meters\",\n",
    "                        \"privateArea\": \"private_area\",\n",
    "                        \"constructionArea\": \"construction_area\",\n",
    "                        \"squareMetersPrice\": \"square_meters_price\",\n",
    "                        \"interiorFloors\": \"interior_floors\",\n",
    "                        \"includesAdministration\": \"includes_administration\",\n",
    "                        \"admonPrice\": \"admon_price\",\n",
    "                        \"interiorFeatures\": \"interior_features\",\n",
    "                        \"exteriorFeatures\": \"exterior_features\",\n",
    "                        \"sectorFeatures\": \"sector_features\"\n",
    "                    }, \n",
    "          inplace = True)\n",
    "\n",
    "df_old_properties.rename(columns= {\n",
    "                        \"_id\": \"id_mongoose\", \n",
    "                        \"urlProperty\":\"id_property\",\n",
    "                        \"scrapingDate\": \"scraping_date\",\n",
    "                        \"scrapingHour\": \"scraping_hour\",\n",
    "                        \"modifyDate\": \"modify_date\",\n",
    "                        \"modifyHour\": \"modify_hour\",\n",
    "                        \"status\": \"active\",\n",
    "                        \"use\": \"new_property\",\n",
    "                        \"nameProject\": \"name_project\",\n",
    "                        \"offersType\": \"offers_type\",\n",
    "                        \"id\": \"id_owner_property\",\n",
    "                        \"name\": \"name_owner_property\",\n",
    "                        \"contractType\": \"contract_type_owner_property\",\n",
    "                        \"financing\": \"financing_owner_property\",\n",
    "                        \"schedule\": \"schedule_owner_property\",\n",
    "                        \"squareMeters\": \"square_meters\",\n",
    "                        \"privateArea\": \"private_area\",\n",
    "                        \"constructionArea\": \"construction_area\",\n",
    "                        \"squareMetersPrice\": \"square_meters_price\",\n",
    "                        \"interiorFloors\": \"interior_floors\",\n",
    "                        \"includesAdministration\": \"includes_administration\",\n",
    "                        \"admonPrice\": \"admon_price\",\n",
    "                        \"interiorFeatures\": \"interior_features\",\n",
    "                        \"exteriorFeatures\": \"exterior_features\",\n",
    "                        \"sectorFeatures\": \"sector_features\"\n",
    "                    }, \n",
    "          inplace = True)"
   ]
  },
  {
   "cell_type": "markdown",
   "execution_count": 181,
   "metadata": {},
   "outputs": [],
   "source": [
    "### Data Cleaning"
   ]
  },
  {
   "cell_type": "markdown",
   "execution_count": 182,
   "metadata": {},
   "outputs": [],
   "source": [
    "#### New Properties"
   ]
  },
  {
   "cell_type": "code",
   "execution_count": 406,
   "metadata": {},
   "outputs": [],
   "source": [
    "df_new_properties['active'] = df_new_properties['active'].apply(lambda status: True if (status == 'Active') else False)\n",
    "df_new_properties['new_property'] = df_new_properties['new_property'].apply(lambda status: True if (status == 'Nuevo') else False)\n",
    "df_new_properties['includes_administration'] = df_new_properties['includes_administration'].apply(lambda status: True if (status == 'Nuevo') else False)\n",
    "df_new_properties['garages'] = df_new_properties['garages'].replace('', value = 0, regex = True).astype(int)\n",
    "df_new_properties['stratum'] = df_new_properties['stratum'].replace('', value = 0, regex = True).astype(int)\n",
    "df_new_properties['floor'] = df_new_properties['floor'].astype(int)"
   ]
  },
  {
   "cell_type": "markdown",
   "execution_count": null,
   "metadata": {},
   "outputs": [],
   "source": [
    "#### Old Properties"
   ]
  },
  {
   "cell_type": "code",
   "execution_count": 400,
   "metadata": {},
   "outputs": [],
   "source": [
    "df_old_properties['active'] = df_old_properties['active'].apply(lambda status: True if (status == 'Active') else False)\n",
    "df_old_properties['new_property'] = df_old_properties['new_property'].apply(lambda status: True if (status == 'Nuevo') else False)\n",
    "df_old_properties['includes_administration'] = df_old_properties['includes_administration'].apply(lambda status: True if (status == 'Nuevo') else False)\n",
    "df_old_properties['garages'] = df_old_properties['garages'].replace('', value = 0, regex = True)\n",
    "df_old_properties['garages'] = df_old_properties['garages'].replace('Más de 10', value = 0, regex = True)\n",
    "df_old_properties['garages'] = df_old_properties['garages'].astype(int)\n",
    "df_old_properties['stratum'] = df_old_properties['stratum'].replace('', value = 0, regex = True)\n",
    "df_old_properties['stratum'] = df_old_properties['stratum'].replace('Campestre', value = 0, regex = True)\n",
    "df_old_properties['stratum'] = df_old_properties['stratum'].astype(int)\n",
    "\n",
    "df_old_properties['price'] = (df_old_properties['price'].str.split('$')).str.join('')\n",
    "df_old_properties['price'] = (df_old_properties['price'].str.split('.')).str.join('')\n",
    "df_old_properties['square_meters'] = df_old_properties['square_meters'].str.replace(',','.')\n",
    "df_old_properties['private_area'] = df_old_properties['private_area'].str.replace(',','.')\n",
    "df_old_properties['construction_area'] = df_old_properties['construction_area'].str.replace(',','.')\n",
    "df_old_properties['floor'] = df_old_properties['floor'].str.split('°')).str.join('')"
   ]
  },
  {
   "cell_type": "markdown",
   "execution_count": null,
   "metadata": {},
   "outputs": [],
   "source": [
    "#### New Properties DataFrame"
   ]
  },
  {
   "cell_type": "code",
   "execution_count": 408,
   "metadata": {},
   "outputs": [
    {
     "data": {
      "text/plain": "0     0\n1     0\n2     0\n3     0\n4     0\n5     0\n6     0\n7     0\n8     0\n9     0\n10    0\n11    0\n12    0\n13    0\n14    0\n15    0\n16    0\n17    0\n18    0\n19    0\n20    0\n21    0\n22    0\n23    0\n24    0\n25    0\n26    0\n27    0\n28    0\n29    0\n30    0\n31    0\n32    0\n33    0\n34    0\n35    0\nName: floor, dtype: int64"
     },
     "execution_count": 408,
     "metadata": {},
     "output_type": "execute_result"
    }
   ],
   "source": [
    "df_new_properties['floor']"
   ]
  },
  {
   "cell_type": "markdown",
   "execution_count": null,
   "metadata": {},
   "outputs": [],
   "source": [
    "#### Old Properties DataFrame"
   ]
  },
  {
   "cell_type": "code",
   "execution_count": 405,
   "metadata": {},
   "outputs": [
    {
     "data": {
      "text/plain": "0      0\n1      0\n2     11\n3      2\n4     15\n      ..\n61     0\n62     0\n63     0\n64     0\n65     0\nName: floor, Length: 66, dtype: object"
     },
     "execution_count": 405,
     "metadata": {},
     "output_type": "execute_result"
    }
   ],
   "source": [
    "df_old_properties['floor']"
   ]
  },
  {
   "cell_type": "code",
   "execution_count": null,
   "metadata": {},
   "outputs": [],
   "source": []
  }
 ],
 "metadata": {
  "kernelspec": {
   "display_name": "Python 3",
   "language": "python",
   "name": "python3"
  },
  "language_info": {
   "codemirror_mode": {
    "name": "ipython",
    "version": 3
   },
   "file_extension": ".py",
   "mimetype": "text/x-python",
   "name": "python",
   "nbconvert_exporter": "python",
   "pygments_lexer": "ipython3",
   "version": "3.7.3"
  }
 },
 "nbformat": 4,
 "nbformat_minor": 4
}