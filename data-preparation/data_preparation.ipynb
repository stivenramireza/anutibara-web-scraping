{
 "cells": [
  {
   "cell_type": "markdown",
   "execution_count": 7,
   "metadata": {},
   "outputs": [],
   "source": [
    "## Data Preparation"
   ]
  },
  {
   "cell_type": "code",
   "execution_count": 204,
   "metadata": {},
   "outputs": [],
   "source": [
    "import pandas as pd\n",
    "from pandas.io.json import json_normalize\n",
    "from pymongo import MongoClient\n",
    "import json"
   ]
  },
  {
   "cell_type": "markdown",
   "execution_count": 9,
   "metadata": {},
   "outputs": [],
   "source": [
    "### Database Connection"
   ]
  },
  {
   "cell_type": "code",
   "execution_count": 205,
   "metadata": {},
   "outputs": [
    {
     "name": "stdout",
     "output_type": "stream",
     "text": "Database connected successfully\n"
    }
   ],
   "source": [
    "DB_USER = 'anutibara'\n",
    "DB_PASS = 'anutibara'\n",
    "DB_HOST = 'scraping-cluster-7dtgt.gcp.mongodb.net'\n",
    "DB_NAME = 'scraping_db'\n",
    "\n",
    "try:\n",
    "    client = MongoClient(f'mongodb+srv://{DB_USER}:{DB_PASS}@{DB_HOST}/{DB_NAME}')\n",
    "    print(\"Database connected successfully\")\n",
    "except Exception as e:\n",
    "    print(\"Error to connect to database: \", e)\n",
    "db = client.get_database(DB_NAME)\n",
    "properties = db.properties"
   ]
  },
  {
   "cell_type": "markdown",
   "execution_count": 32,
   "metadata": {},
   "outputs": [],
   "source": [
    "### Database Queries"
   ]
  },
  {
   "cell_type": "code",
   "execution_count": 206,
   "metadata": {},
   "outputs": [
    {
     "data": {
      "text/plain": "13813"
     },
     "execution_count": 206,
     "metadata": {},
     "output_type": "execute_result"
    }
   ],
   "source": [
    "properties.count_documents({})"
   ]
  },
  {
   "cell_type": "markdown",
   "execution_count": 2,
   "metadata": {},
   "outputs": [],
   "source": [
    "### Convert Mongo Collection to DataFrame"
   ]
  },
  {
   "cell_type": "code",
   "execution_count": 207,
   "metadata": {},
   "outputs": [],
   "source": [
    "new_properties_json = list(properties.find({ 'use': 'Nuevo' }))\n",
    "df_general_info = pd.DataFrame(new_properties_json, \n",
    "                                    columns=['_id', \n",
    "                                    'urlProperty', \n",
    "                                    'scrapingDate', \n",
    "                                    'scrapingHour', \n",
    "                                    'modifyDate',\n",
    "                                    'modifyHour', \n",
    "                                    'code', \n",
    "                                    'status', \n",
    "                                    'type', \n",
    "                                    'use', \n",
    "                                    'nameProject', \n",
    "                                    'description',\n",
    "                                    'offersType'])\n",
    "df_location = json_normalize(new_properties_json, 'location')\n",
    "df_owner_property = json_normalize(new_properties_json, 'ownerProperty')\n",
    "df_features = json_normalize(new_properties_json, 'features')\n",
    "df_more_features = json_normalize(new_properties_json, 'moreFeatures')\n",
    "df_new_properties = pd.concat([df_general_info, df_location, df_owner_property, \n",
    "                df_features, df_more_features], axis=1)"
   ]
  },
  {
   "cell_type": "code",
   "execution_count": 208,
   "metadata": {},
   "outputs": [],
   "source": [
    "old_properties_json = list(properties.find({ 'use': 'Usado' }))\n",
    "df_general_info = pd.DataFrame(old_properties_json, \n",
    "                                    columns=['_id', \n",
    "                                    'urlProperty', \n",
    "                                    'scrapingDate', \n",
    "                                    'scrapingHour', \n",
    "                                    'modifyDate',\n",
    "                                    'modifyHour', \n",
    "                                    'code', \n",
    "                                    'status', \n",
    "                                    'type', \n",
    "                                    'use', \n",
    "                                    'nameProject', \n",
    "                                    'description',\n",
    "                                    'offersType'])\n",
    "df_location = json_normalize(old_properties_json, 'location')\n",
    "df_owner_property = json_normalize(old_properties_json, 'ownerProperty')\n",
    "df_features = json_normalize(old_properties_json, 'features')\n",
    "df_more_features = json_normalize(old_properties_json, 'moreFeatures')\n",
    "df_old_properties = pd.concat([df_general_info, df_location, df_owner_property, \n",
    "                df_features, df_more_features], axis=1)"
   ]
  },
  {
   "cell_type": "markdown",
   "execution_count": null,
   "metadata": {},
   "outputs": [],
   "source": [
    "### Rename DataFrame Columns"
   ]
  },
  {
   "cell_type": "code",
   "execution_count": 209,
   "metadata": {},
   "outputs": [],
   "source": [
    "df_new_properties.rename(columns= {\n",
    "                        \"_id\": \"id_mongoose\", \n",
    "                        \"urlProperty\":\"id_property\",\n",
    "                        \"scrapingDate\": \"scraping_date\",\n",
    "                        \"scrapingHour\": \"scraping_hour\",\n",
    "                        \"modifyDate\": \"modify_date\",\n",
    "                        \"modifyHour\": \"modify_hour\",\n",
    "                        \"status\": \"active\",\n",
    "                        \"use\": \"new_property\",\n",
    "                        \"nameProject\": \"name_project\",\n",
    "                        \"offersType\": \"offers_type\",\n",
    "                        \"id\": \"id_owner_property\",\n",
    "                        \"name\": \"name_owner_property\",\n",
    "                        \"contractType\": \"contract_type_owner_property\",\n",
    "                        \"financing\": \"financing_owner_property\",\n",
    "                        \"schedule\": \"schedule_owner_property\",\n",
    "                        \"squareMeters\": \"square_meters\",\n",
    "                        \"privateArea\": \"private_area\",\n",
    "                        \"constructionArea\": \"construction_area\",\n",
    "                        \"squareMetersPrice\": \"square_meters_price\",\n",
    "                        \"interiorFloors\": \"interior_floors\",\n",
    "                        \"includesAdministration\": \"includes_administration\",\n",
    "                        \"admonPrice\": \"admon_price\",\n",
    "                        \"interiorFeatures\": \"interior_features\",\n",
    "                        \"exteriorFeatures\": \"exterior_features\",\n",
    "                        \"sectorFeatures\": \"sector_features\"\n",
    "                    }, \n",
    "          inplace = True)\n",
    "\n",
    "df_old_properties.rename(columns= {\n",
    "                        \"_id\": \"id_mongoose\", \n",
    "                        \"urlProperty\":\"id_property\",\n",
    "                        \"scrapingDate\": \"scraping_date\",\n",
    "                        \"scrapingHour\": \"scraping_hour\",\n",
    "                        \"modifyDate\": \"modify_date\",\n",
    "                        \"modifyHour\": \"modify_hour\",\n",
    "                        \"status\": \"active\",\n",
    "                        \"use\": \"new_property\",\n",
    "                        \"nameProject\": \"name_project\",\n",
    "                        \"offersType\": \"offers_type\",\n",
    "                        \"id\": \"id_owner_property\",\n",
    "                        \"name\": \"name_owner_property\",\n",
    "                        \"contractType\": \"contract_type_owner_property\",\n",
    "                        \"financing\": \"financing_owner_property\",\n",
    "                        \"schedule\": \"schedule_owner_property\",\n",
    "                        \"squareMeters\": \"square_meters\",\n",
    "                        \"privateArea\": \"private_area\",\n",
    "                        \"constructionArea\": \"construction_area\",\n",
    "                        \"squareMetersPrice\": \"square_meters_price\",\n",
    "                        \"interiorFloors\": \"interior_floors\",\n",
    "                        \"includesAdministration\": \"includes_administration\",\n",
    "                        \"admonPrice\": \"admon_price\",\n",
    "                        \"interiorFeatures\": \"interior_features\",\n",
    "                        \"exteriorFeatures\": \"exterior_features\",\n",
    "                        \"sectorFeatures\": \"sector_features\"\n",
    "                    }, \n",
    "          inplace = True)"
   ]
  },
  {
   "cell_type": "markdown",
   "execution_count": 49,
   "metadata": {},
   "outputs": [],
   "source": [
    "### Data Cleaning"
   ]
  },
  {
   "cell_type": "code",
   "execution_count": 234,
   "metadata": {},
   "outputs": [],
   "source": [
    "df_new_properties['active'] = df_new_properties['active'].apply(lambda status: True if (status == 'Active') else False)\n",
    "df_old_properties['active'] = df_old_properties['active'].apply(lambda status: True if (status == 'Active') else False)\n",
    "\n",
    "df_new_properties['new_property'] = df_new_properties['new_property'].apply(lambda status: True if (status == 'Nuevo') else False)\n",
    "df_old_properties['new_property'] = df_old_properties['new_property'].apply(lambda status: True if (status == 'Nuevo') else False)\n",
    "\n",
    "df_new_properties['includes_administration'] = df_new_properties['includes_administration'].apply(lambda status: True if (status == 'Nuevo') else False)\n",
    "df_old_properties['includes_administration'] = df_old_properties['includes_administration'].apply(lambda status: True if (status == 'Nuevo') else False)\n",
    "\n",
    "df_new_properties['garages'] = df_new_properties['garages'].fillna(0).astype(int)\n",
    "df_old_properties['garages'] = df_old_properties['garages'].fillna(0).astype(int)"
   ]
  },
  {
   "cell_type": "markdown",
   "execution_count": null,
   "metadata": {},
   "outputs": [],
   "source": [
    "#### New Properties DataFrame"
   ]
  },
  {
   "cell_type": "code",
   "execution_count": 235,
   "metadata": {},
   "outputs": [
    {
     "data": {
      "text/plain": "0       1\n1       0\n2       1\n3       0\n4       0\n       ..\n4453    1\n4454    2\n4455    2\n4456    1\n4457    1\nName: garages, Length: 4458, dtype: int64"
     },
     "execution_count": 235,
     "metadata": {},
     "output_type": "execute_result"
    }
   ],
   "source": [
    "df_new_properties['garages']"
   ]
  },
  {
   "cell_type": "markdown",
   "execution_count": null,
   "metadata": {},
   "outputs": [],
   "source": [
    "#### Old Properties DataFrame"
   ]
  },
  {
   "cell_type": "code",
   "execution_count": 212,
   "metadata": {},
   "outputs": [
    {
     "data": {
      "text/html": "<div>\n<style scoped>\n    .dataframe tbody tr th:only-of-type {\n        vertical-align: middle;\n    }\n\n    .dataframe tbody tr th {\n        vertical-align: top;\n    }\n\n    .dataframe thead th {\n        text-align: right;\n    }\n</style>\n<table border=\"1\" class=\"dataframe\">\n  <thead>\n    <tr style=\"text-align: right;\">\n      <th></th>\n      <th>id_mongoose</th>\n      <th>id_property</th>\n      <th>scraping_date</th>\n      <th>scraping_hour</th>\n      <th>modify_date</th>\n      <th>modify_hour</th>\n      <th>code</th>\n      <th>active</th>\n      <th>type</th>\n      <th>new_property</th>\n      <th>...</th>\n      <th>condition</th>\n      <th>antiquity</th>\n      <th>floors</th>\n      <th>interior_floors</th>\n      <th>weather</th>\n      <th>includes_administration</th>\n      <th>admon_price</th>\n      <th>interior_features</th>\n      <th>exterior_features</th>\n      <th>sector_features</th>\n    </tr>\n  </thead>\n  <tbody>\n    <tr>\n      <td>0</td>\n      <td>5db702b51b085a1faacb7398</td>\n      <td>https://www.fincaraiz.com.co/apartamento-en-ve...</td>\n      <td>28/10/2019</td>\n      <td>09:53:56</td>\n      <td>26/10/2019</td>\n      <td>14:16:47</td>\n      <td>5029447</td>\n      <td>True</td>\n      <td>Venta</td>\n      <td>False</td>\n      <td>...</td>\n      <td>Bueno</td>\n      <td></td>\n      <td>1º</td>\n      <td>0</td>\n      <td></td>\n      <td>False</td>\n      <td>0.0</td>\n      <td>[Balcón, Baño Auxiliar, Baño Independiente, Ca...</td>\n      <td>[Acceso Pavimentado, Árboles frutales, Asador,...</td>\n      <td>[Cerca de Zona Urbana, Colegios / Universidade...</td>\n    </tr>\n    <tr>\n      <td>1</td>\n      <td>5db702b41c622f09edcb7398</td>\n      <td>https://www.fincaraiz.com.co/apartamento-en-ve...</td>\n      <td>28/10/2019</td>\n      <td>09:53:56</td>\n      <td>18/10/2019</td>\n      <td>20:46:07</td>\n      <td>4553024</td>\n      <td>True</td>\n      <td>Venta</td>\n      <td>False</td>\n      <td>...</td>\n      <td>Excelente</td>\n      <td></td>\n      <td>10º</td>\n      <td>0</td>\n      <td></td>\n      <td>False</td>\n      <td>285000.0</td>\n      <td>[Balcón, Baño Auxiliar, Barra estilo americano...</td>\n      <td>[Ascensor, En conjunto cerrado, Garaje(s), Par...</td>\n      <td>[Colegios / Universidades, Parques cercanos, S...</td>\n    </tr>\n    <tr>\n      <td>2</td>\n      <td>5db702b5d7ea0271dacb7398</td>\n      <td>https://www.fincaraiz.com.co/apartamento-en-ve...</td>\n      <td>28/10/2019</td>\n      <td>09:53:56</td>\n      <td>21/10/2019</td>\n      <td>20:34:17</td>\n      <td>4826576</td>\n      <td>True</td>\n      <td>Venta</td>\n      <td>False</td>\n      <td>...</td>\n      <td>Excelente</td>\n      <td>1 a 8 años</td>\n      <td></td>\n      <td>0</td>\n      <td></td>\n      <td>False</td>\n      <td>275000.0</td>\n      <td>[Balcón, Cuarto de Servicio, Estudio, Sauna / ...</td>\n      <td>[En conjunto cerrado, Garaje / Parqueadero(s),...</td>\n      <td>[]</td>\n    </tr>\n    <tr>\n      <td>3</td>\n      <td>5db702b5a7c97f5afacb7398</td>\n      <td>https://www.fincaraiz.com.co/apartamento-en-ve...</td>\n      <td>28/10/2019</td>\n      <td>09:53:56</td>\n      <td>23/10/2019</td>\n      <td>20:06:28</td>\n      <td>4292477</td>\n      <td>True</td>\n      <td>Venta</td>\n      <td>False</td>\n      <td>...</td>\n      <td></td>\n      <td></td>\n      <td></td>\n      <td>0</td>\n      <td></td>\n      <td>False</td>\n      <td>0.0</td>\n      <td>[Alarma, Balcón, Baño Auxiliar, Baño Independi...</td>\n      <td>[Acceso Pavimentado, Árboles frutales, Bósque ...</td>\n      <td>[Colegios / Universidades, Zona Campestre, Zon...</td>\n    </tr>\n    <tr>\n      <td>4</td>\n      <td>5db702b4979c6c79fccb7398</td>\n      <td>https://www.fincaraiz.com.co/casa-en-venta/med...</td>\n      <td>28/10/2019</td>\n      <td>09:53:56</td>\n      <td>18/10/2019</td>\n      <td>20:44:05</td>\n      <td>4800198</td>\n      <td>True</td>\n      <td>Venta</td>\n      <td>False</td>\n      <td>...</td>\n      <td>Excelente</td>\n      <td></td>\n      <td>1º</td>\n      <td>0</td>\n      <td></td>\n      <td>False</td>\n      <td>685050.0</td>\n      <td>[Balcón, Baño Auxiliar, Baño de Servicio, Cale...</td>\n      <td>[Ascensor, Portería / Recepción]</td>\n      <td>[Colegios / Universidades, Parques cercanos, S...</td>\n    </tr>\n  </tbody>\n</table>\n<p>5 rows × 45 columns</p>\n</div>",
      "text/plain": "                id_mongoose  \\\n0  5db702b51b085a1faacb7398   \n1  5db702b41c622f09edcb7398   \n2  5db702b5d7ea0271dacb7398   \n3  5db702b5a7c97f5afacb7398   \n4  5db702b4979c6c79fccb7398   \n\n                                         id_property scraping_date  \\\n0  https://www.fincaraiz.com.co/apartamento-en-ve...    28/10/2019   \n1  https://www.fincaraiz.com.co/apartamento-en-ve...    28/10/2019   \n2  https://www.fincaraiz.com.co/apartamento-en-ve...    28/10/2019   \n3  https://www.fincaraiz.com.co/apartamento-en-ve...    28/10/2019   \n4  https://www.fincaraiz.com.co/casa-en-venta/med...    28/10/2019   \n\n  scraping_hour modify_date modify_hour     code  active   type  new_property  \\\n0      09:53:56  26/10/2019    14:16:47  5029447    True  Venta         False   \n1      09:53:56  18/10/2019    20:46:07  4553024    True  Venta         False   \n2      09:53:56  21/10/2019    20:34:17  4826576    True  Venta         False   \n3      09:53:56  23/10/2019    20:06:28  4292477    True  Venta         False   \n4      09:53:56  18/10/2019    20:44:05  4800198    True  Venta         False   \n\n   ...  condition   antiquity floors interior_floors weather  \\\n0  ...      Bueno                 1º               0           \n1  ...  Excelente                10º               0           \n2  ...  Excelente  1 a 8 años                      0           \n3  ...                                             0           \n4  ...  Excelente                 1º               0           \n\n  includes_administration admon_price  \\\n0                   False         0.0   \n1                   False    285000.0   \n2                   False    275000.0   \n3                   False         0.0   \n4                   False    685050.0   \n\n                                   interior_features  \\\n0  [Balcón, Baño Auxiliar, Baño Independiente, Ca...   \n1  [Balcón, Baño Auxiliar, Barra estilo americano...   \n2  [Balcón, Cuarto de Servicio, Estudio, Sauna / ...   \n3  [Alarma, Balcón, Baño Auxiliar, Baño Independi...   \n4  [Balcón, Baño Auxiliar, Baño de Servicio, Cale...   \n\n                                   exterior_features  \\\n0  [Acceso Pavimentado, Árboles frutales, Asador,...   \n1  [Ascensor, En conjunto cerrado, Garaje(s), Par...   \n2  [En conjunto cerrado, Garaje / Parqueadero(s),...   \n3  [Acceso Pavimentado, Árboles frutales, Bósque ...   \n4                   [Ascensor, Portería / Recepción]   \n\n                                     sector_features  \n0  [Cerca de Zona Urbana, Colegios / Universidade...  \n1  [Colegios / Universidades, Parques cercanos, S...  \n2                                                 []  \n3  [Colegios / Universidades, Zona Campestre, Zon...  \n4  [Colegios / Universidades, Parques cercanos, S...  \n\n[5 rows x 45 columns]"
     },
     "execution_count": 212,
     "metadata": {},
     "output_type": "execute_result"
    }
   ],
   "source": [
    "df_old_properties.head(5)"
   ]
  }
 ],
 "metadata": {
  "kernelspec": {
   "display_name": "Python 3",
   "language": "python",
   "name": "python3"
  },
  "language_info": {
   "codemirror_mode": {
    "name": "ipython",
    "version": 3
   },
   "file_extension": ".py",
   "mimetype": "text/x-python",
   "name": "python",
   "nbconvert_exporter": "python",
   "pygments_lexer": "ipython3",
   "version": "3.7.3"
  }
 },
 "nbformat": 4,
 "nbformat_minor": 4
}