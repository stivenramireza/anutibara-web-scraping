{
 "cells": [
  {
   "cell_type": "markdown",
   "execution_count": 7,
   "metadata": {},
   "outputs": [],
   "source": [
    "## Data Preparation"
   ]
  },
  {
   "cell_type": "code",
   "execution_count": 284,
   "metadata": {},
   "outputs": [],
   "source": [
    "import pandas as pd\n",
    "import numpy as np\n",
    "from pandas.io.json import json_normalize\n",
    "from pymongo import MongoClient\n",
    "import json, re"
   ]
  },
  {
   "cell_type": "markdown",
   "execution_count": 9,
   "metadata": {},
   "outputs": [],
   "source": [
    "### Database Connection"
   ]
  },
  {
   "cell_type": "code",
   "execution_count": 285,
   "metadata": {},
   "outputs": [
    {
     "name": "stdout",
     "output_type": "stream",
     "text": "Database connected successfully\n"
    }
   ],
   "source": [
    "DB_USER = 'anutibara'\n",
    "DB_PASS = 'anutibara'\n",
    "DB_HOST = 'scraping-cluster-7dtgt.gcp.mongodb.net'\n",
    "DB_NAME = 'scraping_db'\n",
    "\n",
    "try:\n",
    "    client = MongoClient(f'mongodb+srv://{DB_USER}:{DB_PASS}@{DB_HOST}/{DB_NAME}')\n",
    "    print(\"Database connected successfully\")\n",
    "except Exception as e:\n",
    "    print(\"Error to connect to database: \", e)\n",
    "db = client.get_database(DB_NAME)\n",
    "properties = db.properties"
   ]
  },
  {
   "cell_type": "markdown",
   "execution_count": 32,
   "metadata": {},
   "outputs": [],
   "source": [
    "### Database Queries"
   ]
  },
  {
   "cell_type": "code",
   "execution_count": 286,
   "metadata": {},
   "outputs": [
    {
     "data": {
      "text/plain": "25220"
     },
     "execution_count": 286,
     "metadata": {},
     "output_type": "execute_result"
    }
   ],
   "source": [
    "properties.count_documents({})"
   ]
  },
  {
   "cell_type": "markdown",
   "execution_count": 2,
   "metadata": {},
   "outputs": [],
   "source": [
    "### Convert Mongo Collection to DataFrame"
   ]
  },
  {
   "cell_type": "code",
   "execution_count": 287,
   "metadata": {},
   "outputs": [],
   "source": [
    "new_properties_json = list(properties.find({ 'use': 'Nuevo' }))\n",
    "df_general_info = pd.DataFrame(new_properties_json, \n",
    "                                    columns=['_id', \n",
    "                                    'urlProperty', \n",
    "                                    'scrapingDate', \n",
    "                                    'scrapingHour', \n",
    "                                    'modifyDate',\n",
    "                                    'modifyHour', \n",
    "                                    'code', \n",
    "                                    'status', \n",
    "                                    'type', \n",
    "                                    'use', \n",
    "                                    'nameProject', \n",
    "                                    'description',\n",
    "                                    'offersType'])\n",
    "df_location = json_normalize(new_properties_json, 'location')\n",
    "df_owner_property = json_normalize(new_properties_json, 'ownerProperty')\n",
    "df_features = json_normalize(new_properties_json, 'features')\n",
    "df_more_features = json_normalize(new_properties_json, 'moreFeatures')\n",
    "df_new_properties = pd.concat([df_general_info, df_location, df_owner_property, \n",
    "                df_features, df_more_features], axis=1)"
   ]
  },
  {
   "cell_type": "code",
   "execution_count": 288,
   "metadata": {},
   "outputs": [],
   "source": [
    "old_properties_json = list(properties.find({ 'use': 'Usado' }))\n",
    "df_general_info = pd.DataFrame(old_properties_json, \n",
    "                                    columns=['_id', \n",
    "                                    'urlProperty', \n",
    "                                    'scrapingDate', \n",
    "                                    'scrapingHour', \n",
    "                                    'modifyDate',\n",
    "                                    'modifyHour', \n",
    "                                    'code', \n",
    "                                    'status', \n",
    "                                    'type', \n",
    "                                    'use', \n",
    "                                    'nameProject', \n",
    "                                    'description',\n",
    "                                    'offersType'])\n",
    "df_location = json_normalize(old_properties_json, 'location')\n",
    "df_owner_property = json_normalize(old_properties_json, 'ownerProperty')\n",
    "df_features = json_normalize(old_properties_json, 'features')\n",
    "df_more_features = json_normalize(old_properties_json, 'moreFeatures')\n",
    "df_old_properties = pd.concat([df_general_info, df_location, df_owner_property, \n",
    "                df_features, df_more_features], axis=1)"
   ]
  },
  {
   "cell_type": "markdown",
   "execution_count": null,
   "metadata": {},
   "outputs": [],
   "source": [
    "### Rename DataFrame Columns"
   ]
  },
  {
   "cell_type": "code",
   "execution_count": 306,
   "metadata": {},
   "outputs": [],
   "source": [
    "df_new_properties.rename(columns= {\n",
    "                        \"_id\": \"id_mongoose\", \n",
    "                        \"urlProperty\":\"id_property\",\n",
    "                        \"scrapingDate\": \"scraping_date\",\n",
    "                        \"scrapingHour\": \"scraping_hour\",\n",
    "                        \"modifyDate\": \"modify_date\",\n",
    "                        \"modifyHour\": \"modify_hour\",\n",
    "                        \"status\": \"active\",\n",
    "                        \"use\": \"new_property\",\n",
    "                        \"nameProject\": \"name_project\",\n",
    "                        \"offersType\": \"offers_type\",\n",
    "                        \"id\": \"id_owner_property\",\n",
    "                        \"name\": \"name_owner_property\",\n",
    "                        \"contractType\": \"contract_type_owner_property\",\n",
    "                        \"financing\": \"financing_owner_property\",\n",
    "                        \"schedule\": \"schedule_owner_property\",\n",
    "                        \"squareMeters\": \"square_meters\",\n",
    "                        \"privateArea\": \"private_area\",\n",
    "                        \"constructionArea\": \"construction_area\",\n",
    "                        \"squareMetersPrice\": \"square_meters_price\",\n",
    "                        \"interiorFloors\": \"interior_floors\",\n",
    "                        \"includesAdministration\": \"includes_administration\",\n",
    "                        \"admonPrice\": \"admon_price\",\n",
    "                        \"interiorFeatures\": \"interior_features\",\n",
    "                        \"exteriorFeatures\": \"exterior_features\",\n",
    "                        \"sectorFeatures\": \"sector_features\"\n",
    "                    }, \n",
    "          inplace = True)\n",
    "\n",
    "df_old_properties.rename(columns= {\n",
    "                        \"_id\": \"id_mongoose\", \n",
    "                        \"urlProperty\":\"id_property\",\n",
    "                        \"scrapingDate\": \"scraping_date\",\n",
    "                        \"scrapingHour\": \"scraping_hour\",\n",
    "                        \"modifyDate\": \"modify_date\",\n",
    "                        \"modifyHour\": \"modify_hour\",\n",
    "                        \"status\": \"active\",\n",
    "                        \"use\": \"new_property\",\n",
    "                        \"nameProject\": \"name_project\",\n",
    "                        \"offersType\": \"offers_type\",\n",
    "                        \"id\": \"id_owner_property\",\n",
    "                        \"name\": \"name_owner_property\",\n",
    "                        \"contractType\": \"contract_type_owner_property\",\n",
    "                        \"financing\": \"financing_owner_property\",\n",
    "                        \"schedule\": \"schedule_owner_property\",\n",
    "                        \"squareMeters\": \"square_meters\",\n",
    "                        \"privateArea\": \"private_area\",\n",
    "                        \"constructionArea\": \"construction_area\",\n",
    "                        \"squareMetersPrice\": \"square_meters_price\",\n",
    "                        \"interiorFloors\": \"interior_floors\",\n",
    "                        \"includesAdministration\": \"includes_administration\",\n",
    "                        \"admonPrice\": \"admon_price\",\n",
    "                        \"interiorFeatures\": \"interior_features\",\n",
    "                        \"exteriorFeatures\": \"exterior_features\",\n",
    "                        \"sectorFeatures\": \"sector_features\"\n",
    "                    }, \n",
    "          inplace = True)"
   ]
  },
  {
   "cell_type": "markdown",
   "execution_count": 181,
   "metadata": {},
   "outputs": [],
   "source": [
    "### Data Cleaning"
   ]
  },
  {
   "cell_type": "markdown",
   "execution_count": 182,
   "metadata": {},
   "outputs": [],
   "source": [
    "#### New Properties"
   ]
  },
  {
   "cell_type": "code",
   "execution_count": 307,
   "metadata": {},
   "outputs": [],
   "source": [
    "df_new_properties['active'] = df_new_properties['active'].apply(lambda status: True if (status == 'Active') else False)\n",
    "df_new_properties['new_property'] = df_new_properties['new_property'].apply(lambda status: True if (status == 'Nuevo') else False)\n",
    "df_new_properties['includes_administration'] = df_new_properties['includes_administration'].apply(lambda status: True if (status == 'Nuevo') else False)\n",
    "df_new_properties['garages'] = df_new_properties['garages'].replace('', value = 0, regex = True).astype(int)\n",
    "df_new_properties['stratum'] = df_new_properties['stratum'].replace('', value = 0, regex = True).astype(int)\n",
    "df_new_properties['floors'] = df_new_properties['floors'].replace('', value = 0, regex = True).astype(int)"
   ]
  },
  {
   "cell_type": "markdown",
   "execution_count": null,
   "metadata": {},
   "outputs": [],
   "source": [
    "#### Old Properties"
   ]
  },
  {
   "cell_type": "code",
   "execution_count": 308,
   "metadata": {},
   "outputs": [
    {
     "ename": "AttributeError",
     "evalue": "Can only use .str accessor with string values!",
     "output_type": "error",
     "traceback": [
      "\u001b[0;31m---------------------------------------------------------------------------\u001b[0m",
      "\u001b[0;31mAttributeError\u001b[0m                            Traceback (most recent call last)",
      "\u001b[0;32m<ipython-input-308-c473f1b7746b>\u001b[0m in \u001b[0;36m<module>\u001b[0;34m\u001b[0m\n\u001b[1;32m      5\u001b[0m \u001b[0mdf_old_properties\u001b[0m\u001b[0;34m[\u001b[0m\u001b[0;34m'stratum'\u001b[0m\u001b[0;34m]\u001b[0m \u001b[0;34m=\u001b[0m \u001b[0mdf_old_properties\u001b[0m\u001b[0;34m[\u001b[0m\u001b[0;34m'stratum'\u001b[0m\u001b[0;34m]\u001b[0m\u001b[0;34m.\u001b[0m\u001b[0mreplace\u001b[0m\u001b[0;34m(\u001b[0m\u001b[0;34m''\u001b[0m \u001b[0;32mor\u001b[0m \u001b[0;34m'Campestre'\u001b[0m\u001b[0;34m,\u001b[0m \u001b[0mvalue\u001b[0m \u001b[0;34m=\u001b[0m \u001b[0;36m0\u001b[0m\u001b[0;34m,\u001b[0m \u001b[0mregex\u001b[0m \u001b[0;34m=\u001b[0m \u001b[0;32mTrue\u001b[0m\u001b[0;34m)\u001b[0m\u001b[0;34m\u001b[0m\u001b[0;34m\u001b[0m\u001b[0m\n\u001b[1;32m      6\u001b[0m \u001b[0;34m\u001b[0m\u001b[0m\n\u001b[0;32m----> 7\u001b[0;31m \u001b[0mdf_old_properties\u001b[0m\u001b[0;34m[\u001b[0m\u001b[0;34m'price'\u001b[0m\u001b[0;34m]\u001b[0m \u001b[0;34m=\u001b[0m \u001b[0mdf_old_properties\u001b[0m\u001b[0;34m[\u001b[0m\u001b[0;34m'price'\u001b[0m\u001b[0;34m]\u001b[0m\u001b[0;34m.\u001b[0m\u001b[0mstr\u001b[0m\u001b[0;34m.\u001b[0m\u001b[0msplit\u001b[0m\u001b[0;34m(\u001b[0m\u001b[0;34m'$'\u001b[0m\u001b[0;34m)\u001b[0m\u001b[0;34m\u001b[0m\u001b[0;34m\u001b[0m\u001b[0m\n\u001b[0m\u001b[1;32m      8\u001b[0m \u001b[0;34m\u001b[0m\u001b[0m\n\u001b[1;32m      9\u001b[0m \u001b[0;31m# square_meters\u001b[0m\u001b[0;34m\u001b[0m\u001b[0;34m\u001b[0m\u001b[0;34m\u001b[0m\u001b[0m\n",
      "\u001b[0;32m~/anaconda3/lib/python3.7/site-packages/pandas/core/generic.py\u001b[0m in \u001b[0;36m__getattr__\u001b[0;34m(self, name)\u001b[0m\n\u001b[1;32m   5173\u001b[0m             \u001b[0;32mor\u001b[0m \u001b[0mname\u001b[0m \u001b[0;32min\u001b[0m \u001b[0mself\u001b[0m\u001b[0;34m.\u001b[0m\u001b[0m_accessors\u001b[0m\u001b[0;34m\u001b[0m\u001b[0;34m\u001b[0m\u001b[0m\n\u001b[1;32m   5174\u001b[0m         ):\n\u001b[0;32m-> 5175\u001b[0;31m             \u001b[0;32mreturn\u001b[0m \u001b[0mobject\u001b[0m\u001b[0;34m.\u001b[0m\u001b[0m__getattribute__\u001b[0m\u001b[0;34m(\u001b[0m\u001b[0mself\u001b[0m\u001b[0;34m,\u001b[0m \u001b[0mname\u001b[0m\u001b[0;34m)\u001b[0m\u001b[0;34m\u001b[0m\u001b[0;34m\u001b[0m\u001b[0m\n\u001b[0m\u001b[1;32m   5176\u001b[0m         \u001b[0;32melse\u001b[0m\u001b[0;34m:\u001b[0m\u001b[0;34m\u001b[0m\u001b[0;34m\u001b[0m\u001b[0m\n\u001b[1;32m   5177\u001b[0m             \u001b[0;32mif\u001b[0m \u001b[0mself\u001b[0m\u001b[0;34m.\u001b[0m\u001b[0m_info_axis\u001b[0m\u001b[0;34m.\u001b[0m\u001b[0m_can_hold_identifiers_and_holds_name\u001b[0m\u001b[0;34m(\u001b[0m\u001b[0mname\u001b[0m\u001b[0;34m)\u001b[0m\u001b[0;34m:\u001b[0m\u001b[0;34m\u001b[0m\u001b[0;34m\u001b[0m\u001b[0m\n",
      "\u001b[0;32m~/anaconda3/lib/python3.7/site-packages/pandas/core/accessor.py\u001b[0m in \u001b[0;36m__get__\u001b[0;34m(self, obj, cls)\u001b[0m\n\u001b[1;32m    173\u001b[0m             \u001b[0;31m# we're accessing the attribute of the class, i.e., Dataset.geo\u001b[0m\u001b[0;34m\u001b[0m\u001b[0;34m\u001b[0m\u001b[0;34m\u001b[0m\u001b[0m\n\u001b[1;32m    174\u001b[0m             \u001b[0;32mreturn\u001b[0m \u001b[0mself\u001b[0m\u001b[0;34m.\u001b[0m\u001b[0m_accessor\u001b[0m\u001b[0;34m\u001b[0m\u001b[0;34m\u001b[0m\u001b[0m\n\u001b[0;32m--> 175\u001b[0;31m         \u001b[0maccessor_obj\u001b[0m \u001b[0;34m=\u001b[0m \u001b[0mself\u001b[0m\u001b[0;34m.\u001b[0m\u001b[0m_accessor\u001b[0m\u001b[0;34m(\u001b[0m\u001b[0mobj\u001b[0m\u001b[0;34m)\u001b[0m\u001b[0;34m\u001b[0m\u001b[0;34m\u001b[0m\u001b[0m\n\u001b[0m\u001b[1;32m    176\u001b[0m         \u001b[0;31m# Replace the property with the accessor object. Inspired by:\u001b[0m\u001b[0;34m\u001b[0m\u001b[0;34m\u001b[0m\u001b[0;34m\u001b[0m\u001b[0m\n\u001b[1;32m    177\u001b[0m         \u001b[0;31m# http://www.pydanny.com/cached-property.html\u001b[0m\u001b[0;34m\u001b[0m\u001b[0;34m\u001b[0m\u001b[0;34m\u001b[0m\u001b[0m\n",
      "\u001b[0;32m~/anaconda3/lib/python3.7/site-packages/pandas/core/strings.py\u001b[0m in \u001b[0;36m__init__\u001b[0;34m(self, data)\u001b[0m\n\u001b[1;32m   1915\u001b[0m \u001b[0;34m\u001b[0m\u001b[0m\n\u001b[1;32m   1916\u001b[0m     \u001b[0;32mdef\u001b[0m \u001b[0m__init__\u001b[0m\u001b[0;34m(\u001b[0m\u001b[0mself\u001b[0m\u001b[0;34m,\u001b[0m \u001b[0mdata\u001b[0m\u001b[0;34m)\u001b[0m\u001b[0;34m:\u001b[0m\u001b[0;34m\u001b[0m\u001b[0;34m\u001b[0m\u001b[0m\n\u001b[0;32m-> 1917\u001b[0;31m         \u001b[0mself\u001b[0m\u001b[0;34m.\u001b[0m\u001b[0m_inferred_dtype\u001b[0m \u001b[0;34m=\u001b[0m \u001b[0mself\u001b[0m\u001b[0;34m.\u001b[0m\u001b[0m_validate\u001b[0m\u001b[0;34m(\u001b[0m\u001b[0mdata\u001b[0m\u001b[0;34m)\u001b[0m\u001b[0;34m\u001b[0m\u001b[0;34m\u001b[0m\u001b[0m\n\u001b[0m\u001b[1;32m   1918\u001b[0m         \u001b[0mself\u001b[0m\u001b[0;34m.\u001b[0m\u001b[0m_is_categorical\u001b[0m \u001b[0;34m=\u001b[0m \u001b[0mis_categorical_dtype\u001b[0m\u001b[0;34m(\u001b[0m\u001b[0mdata\u001b[0m\u001b[0;34m)\u001b[0m\u001b[0;34m\u001b[0m\u001b[0;34m\u001b[0m\u001b[0m\n\u001b[1;32m   1919\u001b[0m \u001b[0;34m\u001b[0m\u001b[0m\n",
      "\u001b[0;32m~/anaconda3/lib/python3.7/site-packages/pandas/core/strings.py\u001b[0m in \u001b[0;36m_validate\u001b[0;34m(data)\u001b[0m\n\u001b[1;32m   1965\u001b[0m \u001b[0;34m\u001b[0m\u001b[0m\n\u001b[1;32m   1966\u001b[0m         \u001b[0;32mif\u001b[0m \u001b[0minferred_dtype\u001b[0m \u001b[0;32mnot\u001b[0m \u001b[0;32min\u001b[0m \u001b[0mallowed_types\u001b[0m\u001b[0;34m:\u001b[0m\u001b[0;34m\u001b[0m\u001b[0;34m\u001b[0m\u001b[0m\n\u001b[0;32m-> 1967\u001b[0;31m             \u001b[0;32mraise\u001b[0m \u001b[0mAttributeError\u001b[0m\u001b[0;34m(\u001b[0m\u001b[0;34m\"Can only use .str accessor with string \"\u001b[0m \u001b[0;34m\"values!\"\u001b[0m\u001b[0;34m)\u001b[0m\u001b[0;34m\u001b[0m\u001b[0;34m\u001b[0m\u001b[0m\n\u001b[0m\u001b[1;32m   1968\u001b[0m         \u001b[0;32mreturn\u001b[0m \u001b[0minferred_dtype\u001b[0m\u001b[0;34m\u001b[0m\u001b[0;34m\u001b[0m\u001b[0m\n\u001b[1;32m   1969\u001b[0m \u001b[0;34m\u001b[0m\u001b[0m\n",
      "\u001b[0;31mAttributeError\u001b[0m: Can only use .str accessor with string values!"
     ]
    }
   ],
   "source": [
    "df_old_properties['active'] = df_old_properties['active'].apply(lambda status: True if (status == 'Active') else False)\n",
    "df_old_properties['new_property'] = df_old_properties['new_property'].apply(lambda status: True if (status == 'Nuevo') else False)\n",
    "df_old_properties['includes_administration'] = df_old_properties['includes_administration'].apply(lambda status: True if (status == 'Nuevo') else False)\n",
    "df_old_properties['garages'] = df_old_properties['garages'].replace('' or 'Más de 10', value = 0, regex = True)\n",
    "df_old_properties['stratum'] = df_old_properties['stratum'].replace('' or 'Campestre', value = 0, regex = True)\n",
    "\n",
    "df_old_properties['price'] = df_old_properties['price'].str.split('$')\n",
    "\n",
    "# square_meters\n",
    "# private_area\n",
    "# construction_area\n",
    "# floors"
   ]
  },
  {
   "cell_type": "markdown",
   "execution_count": null,
   "metadata": {},
   "outputs": [],
   "source": [
    "#### New Properties DataFrame"
   ]
  },
  {
   "cell_type": "code",
   "execution_count": 309,
   "metadata": {},
   "outputs": [],
   "source": [
    "#df_new_properties['floors'].head(20)"
   ]
  },
  {
   "cell_type": "markdown",
   "execution_count": null,
   "metadata": {},
   "outputs": [],
   "source": [
    "#### Old Properties DataFrame"
   ]
  },
  {
   "cell_type": "code",
   "execution_count": 310,
   "metadata": {},
   "outputs": [
    {
     "data": {
      "text/plain": "0    NaN\n1    NaN\n2    NaN\n3    NaN\n4    NaN\n5    NaN\n6    NaN\n7    NaN\n8    NaN\n9    NaN\n10   NaN\n11   NaN\n12   NaN\n13   NaN\n14   NaN\n15   NaN\n16   NaN\n17   NaN\n18   NaN\n19   NaN\nName: price, dtype: float64"
     },
     "execution_count": 310,
     "metadata": {},
     "output_type": "execute_result"
    }
   ],
   "source": [
    "df_old_properties['price'].head(20)"
   ]
  },
  {
   "cell_type": "code",
   "execution_count": null,
   "metadata": {},
   "outputs": [],
   "source": []
  }
 ],
 "metadata": {
  "kernelspec": {
   "display_name": "Python 3",
   "language": "python",
   "name": "python3"
  },
  "language_info": {
   "codemirror_mode": {
    "name": "ipython",
    "version": 3
   },
   "file_extension": ".py",
   "mimetype": "text/x-python",
   "name": "python",
   "nbconvert_exporter": "python",
   "pygments_lexer": "ipython3",
   "version": "3.7.3"
  }
 },
 "nbformat": 4,
 "nbformat_minor": 4
}