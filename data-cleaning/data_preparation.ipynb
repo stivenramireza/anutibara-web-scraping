{
 "cells": [
  {
   "cell_type": "markdown",
   "metadata": {},
   "source": [
    "## Data Preparation"
   ]
  },
  {
   "cell_type": "code",
   "execution_count": 1,
   "metadata": {},
   "outputs": [],
   "source": [
    "import pandas as pd\n",
    "import numpy as np\n",
    "from pandas.io.json import json_normalize\n",
    "from pymongo import MongoClient\n",
    "import json, re\n",
    "from re import sub\n",
    "from decimal import Decimal\n",
    "import dask.dataframe as dd\n",
    "from dask.distributed import Client, progress\n",
    "import dask.dataframe as dd\n",
    "from dask.delayed import delayed"
   ]
  },
  {
   "cell_type": "markdown",
   "metadata": {},
   "source": [
    "### Dask Client"
   ]
  },
  {
   "cell_type": "code",
   "execution_count": 2,
   "metadata": {},
   "outputs": [
    {
     "data": {
      "text/html": [
       "<table style=\"border: 2px solid white;\">\n",
       "<tr>\n",
       "<td style=\"vertical-align: top; border: 0px solid white\">\n",
       "<h3 style=\"text-align: left;\">Client</h3>\n",
       "<ul style=\"text-align: left; list-style: none; margin: 0; padding: 0;\">\n",
       "  <li><b>Scheduler: </b>tcp://127.0.0.1:42511</li>\n",
       "  <li><b>Dashboard: </b><a href='http://127.0.0.1:8787/status' target='_blank'>http://127.0.0.1:8787/status</a>\n",
       "</ul>\n",
       "</td>\n",
       "<td style=\"vertical-align: top; border: 0px solid white\">\n",
       "<h3 style=\"text-align: left;\">Cluster</h3>\n",
       "<ul style=\"text-align: left; list-style:none; margin: 0; padding: 0;\">\n",
       "  <li><b>Workers: </b>4</li>\n",
       "  <li><b>Cores: </b>4</li>\n",
       "  <li><b>Memory: </b>16.63 GB</li>\n",
       "</ul>\n",
       "</td>\n",
       "</tr>\n",
       "</table>"
      ],
      "text/plain": [
       "<Client: 'tcp://127.0.0.1:42511' processes=4 threads=4, memory=16.63 GB>"
      ]
     },
     "execution_count": 2,
     "metadata": {},
     "output_type": "execute_result"
    }
   ],
   "source": [
    "client = Client(n_workers=4, threads_per_worker=1)\n",
    "client"
   ]
  },
  {
   "cell_type": "markdown",
   "metadata": {},
   "source": [
    "### Database Connection"
   ]
  },
  {
   "cell_type": "code",
   "execution_count": 3,
   "metadata": {},
   "outputs": [
    {
     "name": "stdout",
     "output_type": "stream",
     "text": [
      "Database connected successfully\n"
     ]
    }
   ],
   "source": [
    "DB_USER = 'anutibara'\n",
    "DB_PASS = 'anutibara'\n",
    "DB_HOST = 'scraping-cluster-7dtgt.gcp.mongodb.net'\n",
    "DB_NAME = 'scraping_db'\n",
    "\n",
    "try:\n",
    "    client = MongoClient(f'mongodb+srv://{DB_USER}:{DB_PASS}@{DB_HOST}/{DB_NAME}')\n",
    "    print(\"Database connected successfully\")\n",
    "except Exception as e:\n",
    "    print(\"Error to connect to database: \", e)\n",
    "db = client.get_database(DB_NAME)\n",
    "properties = db.properties"
   ]
  },
  {
   "cell_type": "markdown",
   "metadata": {},
   "source": [
    "### Database Queries"
   ]
  },
  {
   "cell_type": "code",
   "execution_count": 4,
   "metadata": {},
   "outputs": [
    {
     "data": {
      "text/plain": [
       "14209"
      ]
     },
     "execution_count": 4,
     "metadata": {},
     "output_type": "execute_result"
    }
   ],
   "source": [
    "properties.count_documents({})"
   ]
  },
  {
   "cell_type": "markdown",
   "metadata": {},
   "source": [
    "### Convert Mongo Collection to DataFrame"
   ]
  },
  {
   "cell_type": "markdown",
   "metadata": {},
   "source": [
    "#### New Properties"
   ]
  },
  {
   "cell_type": "code",
   "execution_count": 5,
   "metadata": {},
   "outputs": [],
   "source": [
    "new_properties_json = list(properties.find({ 'use': 'Nuevo' }))"
   ]
  },
  {
   "cell_type": "code",
   "execution_count": 130,
   "metadata": {},
   "outputs": [],
   "source": [
    "df_general_info = json_normalize(new_properties_json, record_path='offersType', \n",
    "                                meta=['_id', \n",
    "                                    'urlProperty',\n",
    "                                    'scrapingDate', \n",
    "                                    'scrapingHour', \n",
    "                                    'modifyDate',\n",
    "                                    'modifyHour', \n",
    "                                    'code', \n",
    "                                    'status', \n",
    "                                    'type', \n",
    "                                    'use', \n",
    "                                    'nameProject', \n",
    "                                    'description'])\n",
    "ddf_general_info = dd.from_pandas(df_general_info, npartitions=200)"
   ]
  },
  {
   "cell_type": "code",
   "execution_count": 131,
   "metadata": {},
   "outputs": [],
   "source": [
    "df_location = json_normalize(new_properties_json, record_path='location', meta='urlProperty')\n",
    "ddf_location = dd.from_pandas(df_location, npartitions=200)"
   ]
  },
  {
   "cell_type": "code",
   "execution_count": 132,
   "metadata": {},
   "outputs": [],
   "source": [
    "ddf_1 = ddf_general_info.merge(ddf_location, on='urlProperty', how='outer')"
   ]
  },
  {
   "cell_type": "code",
   "execution_count": 133,
   "metadata": {},
   "outputs": [],
   "source": [
    "df_owner_property = json_normalize(new_properties_json, record_path='ownerProperty', meta='urlProperty')\n",
    "ddf_owner_property = dd.from_pandas(df_owner_property, npartitions=200)"
   ]
  },
  {
   "cell_type": "code",
   "execution_count": 134,
   "metadata": {},
   "outputs": [],
   "source": [
    "ddf_2 = dd.concat([ddf_general_info, ddf_owner_property], axis=1, join='inner')\n",
    "ddf_2 = ddf_2.loc[:,~ddf_2.columns.duplicated(keep='first')]"
   ]
  },
  {
   "cell_type": "code",
   "execution_count": 135,
   "metadata": {},
   "outputs": [],
   "source": [
    "df_features = json_normalize(new_properties_json, record_path='features', meta='urlProperty')\n",
    "ddf_features = dd.from_pandas(df_features, npartitions=200)"
   ]
  },
  {
   "cell_type": "code",
   "execution_count": 136,
   "metadata": {},
   "outputs": [],
   "source": [
    "ddf_features = ddf_features.rename(columns={\n",
    "    'price':'range_prices',\n",
    "    'rooms': 'general_rooms',\n",
    "    'bathrooms': 'general_bathrooms',\n",
    "    'privateArea': 'range_private_area'\n",
    "})"
   ]
  },
  {
   "cell_type": "code",
   "execution_count": 137,
   "metadata": {},
   "outputs": [],
   "source": [
    "ddf_3 = dd.concat([ddf_general_info, ddf_features], axis=1, join='inner')\n",
    "ddf_3 = ddf_3.loc[:,~ddf_3.columns.duplicated(keep='first')]"
   ]
  },
  {
   "cell_type": "code",
   "execution_count": 138,
   "metadata": {},
   "outputs": [],
   "source": [
    "df_more_features = json_normalize(new_properties_json, record_path='moreFeatures', meta='urlProperty')\n",
    "ddf_more_features = dd.from_pandas(df_more_features, npartitions=200)"
   ]
  },
  {
   "cell_type": "code",
   "execution_count": 139,
   "metadata": {},
   "outputs": [],
   "source": [
    "ddf_4 = dd.concat([ddf_general_info, ddf_more_features], axis=1, join='inner')\n",
    "ddf_4 = ddf_4.loc[:,~ddf_4.columns.duplicated(keep='first')]"
   ]
  },
  {
   "cell_type": "code",
   "execution_count": 140,
   "metadata": {},
   "outputs": [],
   "source": [
    "ddf_1 = ddf_1.repartition(npartitions=200)"
   ]
  },
  {
   "cell_type": "code",
   "execution_count": 141,
   "metadata": {},
   "outputs": [],
   "source": [
    "ddf_2 = ddf_2.repartition(npartitions=200)"
   ]
  },
  {
   "cell_type": "code",
   "execution_count": 142,
   "metadata": {},
   "outputs": [],
   "source": [
    "ddf_3 = ddf_3.repartition(npartitions=200)"
   ]
  },
  {
   "cell_type": "code",
   "execution_count": 143,
   "metadata": {},
   "outputs": [],
   "source": [
    "ddf_4 = ddf_4.repartition(npartitions=200)"
   ]
  },
  {
   "cell_type": "code",
   "execution_count": 148,
   "metadata": {},
   "outputs": [
    {
     "ename": "ValueError",
     "evalue": "Unable to concatenate DataFrame with unknown division specifying axis=1",
     "output_type": "error",
     "traceback": [
      "\u001b[0;31m---------------------------------------------------------------------------\u001b[0m",
      "\u001b[0;31mValueError\u001b[0m                                Traceback (most recent call last)",
      "\u001b[0;32m<ipython-input-148-86ee61fd392e>\u001b[0m in \u001b[0;36m<module>\u001b[0;34m\u001b[0m\n\u001b[0;32m----> 1\u001b[0;31m \u001b[0mddf\u001b[0m \u001b[0;34m=\u001b[0m \u001b[0mdd\u001b[0m\u001b[0;34m.\u001b[0m\u001b[0mconcat\u001b[0m\u001b[0;34m(\u001b[0m\u001b[0;34m[\u001b[0m\u001b[0mddf_1\u001b[0m\u001b[0;34m,\u001b[0m \u001b[0mddf_2\u001b[0m\u001b[0;34m,\u001b[0m \u001b[0mddf_3\u001b[0m\u001b[0;34m,\u001b[0m \u001b[0mddf_4\u001b[0m\u001b[0;34m]\u001b[0m\u001b[0;34m,\u001b[0m \u001b[0maxis\u001b[0m\u001b[0;34m=\u001b[0m\u001b[0;36m1\u001b[0m\u001b[0;34m,\u001b[0m \u001b[0mjoin\u001b[0m\u001b[0;34m=\u001b[0m\u001b[0;34m'inner'\u001b[0m\u001b[0;34m)\u001b[0m\u001b[0;34m\u001b[0m\u001b[0;34m\u001b[0m\u001b[0m\n\u001b[0m\u001b[1;32m      2\u001b[0m \u001b[0mddf_new_properties\u001b[0m \u001b[0;34m=\u001b[0m \u001b[0mddf\u001b[0m\u001b[0;34m.\u001b[0m\u001b[0mloc\u001b[0m\u001b[0;34m[\u001b[0m\u001b[0;34m:\u001b[0m\u001b[0;34m,\u001b[0m\u001b[0;34m~\u001b[0m\u001b[0mddf\u001b[0m\u001b[0;34m.\u001b[0m\u001b[0mcolumns\u001b[0m\u001b[0;34m.\u001b[0m\u001b[0mduplicated\u001b[0m\u001b[0;34m(\u001b[0m\u001b[0mkeep\u001b[0m\u001b[0;34m=\u001b[0m\u001b[0;34m'first'\u001b[0m\u001b[0;34m)\u001b[0m\u001b[0;34m]\u001b[0m\u001b[0;34m\u001b[0m\u001b[0;34m\u001b[0m\u001b[0m\n",
      "\u001b[0;32m~/anaconda3/lib/python3.7/site-packages/dask/dataframe/multi.py\u001b[0m in \u001b[0;36mconcat\u001b[0;34m(dfs, axis, join, interleave_partitions)\u001b[0m\n\u001b[1;32m   1060\u001b[0m         \u001b[0;32melse\u001b[0m\u001b[0;34m:\u001b[0m\u001b[0;34m\u001b[0m\u001b[0;34m\u001b[0m\u001b[0m\n\u001b[1;32m   1061\u001b[0m             raise ValueError(\n\u001b[0;32m-> 1062\u001b[0;31m                 \u001b[0;34m\"Unable to concatenate DataFrame with unknown \"\u001b[0m\u001b[0;34m\u001b[0m\u001b[0;34m\u001b[0m\u001b[0m\n\u001b[0m\u001b[1;32m   1063\u001b[0m                 \u001b[0;34m\"division specifying axis=1\"\u001b[0m\u001b[0;34m\u001b[0m\u001b[0;34m\u001b[0m\u001b[0m\n\u001b[1;32m   1064\u001b[0m             )\n",
      "\u001b[0;31mValueError\u001b[0m: Unable to concatenate DataFrame with unknown division specifying axis=1"
     ]
    }
   ],
   "source": [
    "ddf = dd.concat([ddf_1, ddf_2, ddf_3, ddf_4], axis=1, join='inner')\n",
    "ddf_new_properties = ddf.loc[:,~ddf.columns.duplicated(keep='first')]"
   ]
  },
  {
   "cell_type": "code",
   "execution_count": 145,
   "metadata": {},
   "outputs": [],
   "source": [
    "ddf_new_properties = ddf_new_properties.dropna()"
   ]
  },
  {
   "cell_type": "code",
   "execution_count": 146,
   "metadata": {},
   "outputs": [
    {
     "data": {
      "text/plain": [
       "4512"
      ]
     },
     "execution_count": 146,
     "metadata": {},
     "output_type": "execute_result"
    }
   ],
   "source": [
    "len(ddf_new_properties)"
   ]
  },
  {
   "cell_type": "markdown",
   "metadata": {},
   "source": [
    "#### Old Properties"
   ]
  },
  {
   "cell_type": "code",
   "execution_count": 79,
   "metadata": {},
   "outputs": [],
   "source": [
    "old_properties_json = list(properties.find({ 'use': 'Usado' }))"
   ]
  },
  {
   "cell_type": "code",
   "execution_count": 80,
   "metadata": {},
   "outputs": [],
   "source": [
    "df_general_info = pd.DataFrame(old_properties_json, \n",
    "                                    columns=['_id', \n",
    "                                    'urlProperty', \n",
    "                                    'scrapingDate', \n",
    "                                    'scrapingHour', \n",
    "                                    'modifyDate',\n",
    "                                    'modifyHour', \n",
    "                                    'code', \n",
    "                                    'status', \n",
    "                                    'type', \n",
    "                                    'use', \n",
    "                                    'nameProject', \n",
    "                                    'description'])\n",
    "ddf_general_info = dd.from_pandas(df_general_info, npartitions=10)"
   ]
  },
  {
   "cell_type": "code",
   "execution_count": 81,
   "metadata": {},
   "outputs": [],
   "source": [
    "df_location = json_normalize(old_properties_json, 'location')\n",
    "ddf_location = dd.from_pandas(df_location, npartitions=10)"
   ]
  },
  {
   "cell_type": "code",
   "execution_count": 82,
   "metadata": {},
   "outputs": [],
   "source": [
    "df_owner_property = json_normalize(old_properties_json, 'ownerProperty')\n",
    "ddf_owner_property = dd.from_pandas(df_owner_property, npartitions=10)"
   ]
  },
  {
   "cell_type": "code",
   "execution_count": 83,
   "metadata": {},
   "outputs": [],
   "source": [
    "df_features = json_normalize(old_properties_json, 'features')\n",
    "ddf_features = dd.from_pandas(df_features, npartitions=10)"
   ]
  },
  {
   "cell_type": "code",
   "execution_count": 84,
   "metadata": {},
   "outputs": [],
   "source": [
    "df_more_features = json_normalize(old_properties_json, 'moreFeatures')\n",
    "ddf_more_features = dd.from_pandas(df_more_features, npartitions=10)"
   ]
  },
  {
   "cell_type": "code",
   "execution_count": 85,
   "metadata": {},
   "outputs": [
    {
     "data": {
      "text/html": [
       "<div><strong>Dask DataFrame Structure:</strong></div>\n",
       "<div>\n",
       "<style scoped>\n",
       "    .dataframe tbody tr th:only-of-type {\n",
       "        vertical-align: middle;\n",
       "    }\n",
       "\n",
       "    .dataframe tbody tr th {\n",
       "        vertical-align: top;\n",
       "    }\n",
       "\n",
       "    .dataframe thead th {\n",
       "        text-align: right;\n",
       "    }\n",
       "</style>\n",
       "<table border=\"1\" class=\"dataframe\">\n",
       "  <thead>\n",
       "    <tr style=\"text-align: right;\">\n",
       "      <th></th>\n",
       "      <th>index</th>\n",
       "      <th>_id</th>\n",
       "      <th>urlProperty</th>\n",
       "      <th>scrapingDate</th>\n",
       "      <th>scrapingHour</th>\n",
       "      <th>modifyDate</th>\n",
       "      <th>modifyHour</th>\n",
       "      <th>code</th>\n",
       "      <th>status</th>\n",
       "      <th>type</th>\n",
       "      <th>use</th>\n",
       "      <th>nameProject</th>\n",
       "      <th>description</th>\n",
       "      <th>country</th>\n",
       "      <th>department</th>\n",
       "      <th>city</th>\n",
       "      <th>sector</th>\n",
       "      <th>neighborhood</th>\n",
       "      <th>address</th>\n",
       "      <th>latitude</th>\n",
       "      <th>longitude</th>\n",
       "      <th>id</th>\n",
       "      <th>name</th>\n",
       "      <th>contractType</th>\n",
       "      <th>financing</th>\n",
       "      <th>schedule</th>\n",
       "      <th>price</th>\n",
       "      <th>squareMeters</th>\n",
       "      <th>rooms</th>\n",
       "      <th>bathrooms</th>\n",
       "      <th>garages</th>\n",
       "      <th>privateArea</th>\n",
       "      <th>constructionArea</th>\n",
       "      <th>squareMetersPrice</th>\n",
       "      <th>stratum</th>\n",
       "      <th>condition</th>\n",
       "      <th>antiquity</th>\n",
       "      <th>floor</th>\n",
       "      <th>interiorFloors</th>\n",
       "      <th>weather</th>\n",
       "      <th>includesAdministration</th>\n",
       "      <th>admonPrice</th>\n",
       "      <th>interiorFeatures</th>\n",
       "      <th>exteriorFeatures</th>\n",
       "      <th>sectorFeatures</th>\n",
       "    </tr>\n",
       "    <tr>\n",
       "      <th>npartitions=20</th>\n",
       "      <th></th>\n",
       "      <th></th>\n",
       "      <th></th>\n",
       "      <th></th>\n",
       "      <th></th>\n",
       "      <th></th>\n",
       "      <th></th>\n",
       "      <th></th>\n",
       "      <th></th>\n",
       "      <th></th>\n",
       "      <th></th>\n",
       "      <th></th>\n",
       "      <th></th>\n",
       "      <th></th>\n",
       "      <th></th>\n",
       "      <th></th>\n",
       "      <th></th>\n",
       "      <th></th>\n",
       "      <th></th>\n",
       "      <th></th>\n",
       "      <th></th>\n",
       "      <th></th>\n",
       "      <th></th>\n",
       "      <th></th>\n",
       "      <th></th>\n",
       "      <th></th>\n",
       "      <th></th>\n",
       "      <th></th>\n",
       "      <th></th>\n",
       "      <th></th>\n",
       "      <th></th>\n",
       "      <th></th>\n",
       "      <th></th>\n",
       "      <th></th>\n",
       "      <th></th>\n",
       "      <th></th>\n",
       "      <th></th>\n",
       "      <th></th>\n",
       "      <th></th>\n",
       "      <th></th>\n",
       "      <th></th>\n",
       "      <th></th>\n",
       "      <th></th>\n",
       "      <th></th>\n",
       "      <th></th>\n",
       "    </tr>\n",
       "  </thead>\n",
       "  <tbody>\n",
       "    <tr>\n",
       "      <th></th>\n",
       "      <td>int64</td>\n",
       "      <td>object</td>\n",
       "      <td>object</td>\n",
       "      <td>object</td>\n",
       "      <td>object</td>\n",
       "      <td>object</td>\n",
       "      <td>object</td>\n",
       "      <td>int64</td>\n",
       "      <td>object</td>\n",
       "      <td>object</td>\n",
       "      <td>object</td>\n",
       "      <td>object</td>\n",
       "      <td>object</td>\n",
       "      <td>object</td>\n",
       "      <td>object</td>\n",
       "      <td>object</td>\n",
       "      <td>object</td>\n",
       "      <td>object</td>\n",
       "      <td>object</td>\n",
       "      <td>float64</td>\n",
       "      <td>float64</td>\n",
       "      <td>int64</td>\n",
       "      <td>object</td>\n",
       "      <td>object</td>\n",
       "      <td>object</td>\n",
       "      <td>object</td>\n",
       "      <td>object</td>\n",
       "      <td>object</td>\n",
       "      <td>int64</td>\n",
       "      <td>int64</td>\n",
       "      <td>object</td>\n",
       "      <td>object</td>\n",
       "      <td>object</td>\n",
       "      <td>float64</td>\n",
       "      <td>object</td>\n",
       "      <td>object</td>\n",
       "      <td>object</td>\n",
       "      <td>object</td>\n",
       "      <td>int64</td>\n",
       "      <td>object</td>\n",
       "      <td>object</td>\n",
       "      <td>float64</td>\n",
       "      <td>object</td>\n",
       "      <td>object</td>\n",
       "      <td>object</td>\n",
       "    </tr>\n",
       "    <tr>\n",
       "      <th></th>\n",
       "      <td>...</td>\n",
       "      <td>...</td>\n",
       "      <td>...</td>\n",
       "      <td>...</td>\n",
       "      <td>...</td>\n",
       "      <td>...</td>\n",
       "      <td>...</td>\n",
       "      <td>...</td>\n",
       "      <td>...</td>\n",
       "      <td>...</td>\n",
       "      <td>...</td>\n",
       "      <td>...</td>\n",
       "      <td>...</td>\n",
       "      <td>...</td>\n",
       "      <td>...</td>\n",
       "      <td>...</td>\n",
       "      <td>...</td>\n",
       "      <td>...</td>\n",
       "      <td>...</td>\n",
       "      <td>...</td>\n",
       "      <td>...</td>\n",
       "      <td>...</td>\n",
       "      <td>...</td>\n",
       "      <td>...</td>\n",
       "      <td>...</td>\n",
       "      <td>...</td>\n",
       "      <td>...</td>\n",
       "      <td>...</td>\n",
       "      <td>...</td>\n",
       "      <td>...</td>\n",
       "      <td>...</td>\n",
       "      <td>...</td>\n",
       "      <td>...</td>\n",
       "      <td>...</td>\n",
       "      <td>...</td>\n",
       "      <td>...</td>\n",
       "      <td>...</td>\n",
       "      <td>...</td>\n",
       "      <td>...</td>\n",
       "      <td>...</td>\n",
       "      <td>...</td>\n",
       "      <td>...</td>\n",
       "      <td>...</td>\n",
       "      <td>...</td>\n",
       "      <td>...</td>\n",
       "    </tr>\n",
       "    <tr>\n",
       "      <th>...</th>\n",
       "      <td>...</td>\n",
       "      <td>...</td>\n",
       "      <td>...</td>\n",
       "      <td>...</td>\n",
       "      <td>...</td>\n",
       "      <td>...</td>\n",
       "      <td>...</td>\n",
       "      <td>...</td>\n",
       "      <td>...</td>\n",
       "      <td>...</td>\n",
       "      <td>...</td>\n",
       "      <td>...</td>\n",
       "      <td>...</td>\n",
       "      <td>...</td>\n",
       "      <td>...</td>\n",
       "      <td>...</td>\n",
       "      <td>...</td>\n",
       "      <td>...</td>\n",
       "      <td>...</td>\n",
       "      <td>...</td>\n",
       "      <td>...</td>\n",
       "      <td>...</td>\n",
       "      <td>...</td>\n",
       "      <td>...</td>\n",
       "      <td>...</td>\n",
       "      <td>...</td>\n",
       "      <td>...</td>\n",
       "      <td>...</td>\n",
       "      <td>...</td>\n",
       "      <td>...</td>\n",
       "      <td>...</td>\n",
       "      <td>...</td>\n",
       "      <td>...</td>\n",
       "      <td>...</td>\n",
       "      <td>...</td>\n",
       "      <td>...</td>\n",
       "      <td>...</td>\n",
       "      <td>...</td>\n",
       "      <td>...</td>\n",
       "      <td>...</td>\n",
       "      <td>...</td>\n",
       "      <td>...</td>\n",
       "      <td>...</td>\n",
       "      <td>...</td>\n",
       "      <td>...</td>\n",
       "    </tr>\n",
       "    <tr>\n",
       "      <th></th>\n",
       "      <td>...</td>\n",
       "      <td>...</td>\n",
       "      <td>...</td>\n",
       "      <td>...</td>\n",
       "      <td>...</td>\n",
       "      <td>...</td>\n",
       "      <td>...</td>\n",
       "      <td>...</td>\n",
       "      <td>...</td>\n",
       "      <td>...</td>\n",
       "      <td>...</td>\n",
       "      <td>...</td>\n",
       "      <td>...</td>\n",
       "      <td>...</td>\n",
       "      <td>...</td>\n",
       "      <td>...</td>\n",
       "      <td>...</td>\n",
       "      <td>...</td>\n",
       "      <td>...</td>\n",
       "      <td>...</td>\n",
       "      <td>...</td>\n",
       "      <td>...</td>\n",
       "      <td>...</td>\n",
       "      <td>...</td>\n",
       "      <td>...</td>\n",
       "      <td>...</td>\n",
       "      <td>...</td>\n",
       "      <td>...</td>\n",
       "      <td>...</td>\n",
       "      <td>...</td>\n",
       "      <td>...</td>\n",
       "      <td>...</td>\n",
       "      <td>...</td>\n",
       "      <td>...</td>\n",
       "      <td>...</td>\n",
       "      <td>...</td>\n",
       "      <td>...</td>\n",
       "      <td>...</td>\n",
       "      <td>...</td>\n",
       "      <td>...</td>\n",
       "      <td>...</td>\n",
       "      <td>...</td>\n",
       "      <td>...</td>\n",
       "      <td>...</td>\n",
       "      <td>...</td>\n",
       "    </tr>\n",
       "    <tr>\n",
       "      <th></th>\n",
       "      <td>...</td>\n",
       "      <td>...</td>\n",
       "      <td>...</td>\n",
       "      <td>...</td>\n",
       "      <td>...</td>\n",
       "      <td>...</td>\n",
       "      <td>...</td>\n",
       "      <td>...</td>\n",
       "      <td>...</td>\n",
       "      <td>...</td>\n",
       "      <td>...</td>\n",
       "      <td>...</td>\n",
       "      <td>...</td>\n",
       "      <td>...</td>\n",
       "      <td>...</td>\n",
       "      <td>...</td>\n",
       "      <td>...</td>\n",
       "      <td>...</td>\n",
       "      <td>...</td>\n",
       "      <td>...</td>\n",
       "      <td>...</td>\n",
       "      <td>...</td>\n",
       "      <td>...</td>\n",
       "      <td>...</td>\n",
       "      <td>...</td>\n",
       "      <td>...</td>\n",
       "      <td>...</td>\n",
       "      <td>...</td>\n",
       "      <td>...</td>\n",
       "      <td>...</td>\n",
       "      <td>...</td>\n",
       "      <td>...</td>\n",
       "      <td>...</td>\n",
       "      <td>...</td>\n",
       "      <td>...</td>\n",
       "      <td>...</td>\n",
       "      <td>...</td>\n",
       "      <td>...</td>\n",
       "      <td>...</td>\n",
       "      <td>...</td>\n",
       "      <td>...</td>\n",
       "      <td>...</td>\n",
       "      <td>...</td>\n",
       "      <td>...</td>\n",
       "      <td>...</td>\n",
       "    </tr>\n",
       "  </tbody>\n",
       "</table>\n",
       "</div>\n",
       "<div>Dask Name: reset_index, 290 tasks</div>"
      ],
      "text/plain": [
       "Dask DataFrame Structure:\n",
       "                index     _id urlProperty scrapingDate scrapingHour modifyDate modifyHour   code  status    type     use nameProject description country department    city  sector neighborhood address latitude longitude     id    name contractType financing schedule   price squareMeters  rooms bathrooms garages privateArea constructionArea squareMetersPrice stratum condition antiquity   floor interiorFloors weather includesAdministration admonPrice interiorFeatures exteriorFeatures sectorFeatures\n",
       "npartitions=20                                                                                                                                                                                                                                                                                                                                                                                                                                                                                                       \n",
       "                int64  object      object       object       object     object     object  int64  object  object  object      object      object  object     object  object  object       object  object  float64   float64  int64  object       object    object   object  object       object  int64     int64  object      object           object           float64  object    object    object  object          int64  object                 object    float64           object           object         object\n",
       "                  ...     ...         ...          ...          ...        ...        ...    ...     ...     ...     ...         ...         ...     ...        ...     ...     ...          ...     ...      ...       ...    ...     ...          ...       ...      ...     ...          ...    ...       ...     ...         ...              ...               ...     ...       ...       ...     ...            ...     ...                    ...        ...              ...              ...            ...\n",
       "...               ...     ...         ...          ...          ...        ...        ...    ...     ...     ...     ...         ...         ...     ...        ...     ...     ...          ...     ...      ...       ...    ...     ...          ...       ...      ...     ...          ...    ...       ...     ...         ...              ...               ...     ...       ...       ...     ...            ...     ...                    ...        ...              ...              ...            ...\n",
       "                  ...     ...         ...          ...          ...        ...        ...    ...     ...     ...     ...         ...         ...     ...        ...     ...     ...          ...     ...      ...       ...    ...     ...          ...       ...      ...     ...          ...    ...       ...     ...         ...              ...               ...     ...       ...       ...     ...            ...     ...                    ...        ...              ...              ...            ...\n",
       "                  ...     ...         ...          ...          ...        ...        ...    ...     ...     ...     ...         ...         ...     ...        ...     ...     ...          ...     ...      ...       ...    ...     ...          ...       ...      ...     ...          ...    ...       ...     ...         ...              ...               ...     ...       ...       ...     ...            ...     ...                    ...        ...              ...              ...            ...\n",
       "Dask Name: reset_index, 290 tasks"
      ]
     },
     "execution_count": 85,
     "metadata": {},
     "output_type": "execute_result"
    }
   ],
   "source": [
    "ddf_list = [ddf_general_info, ddf_location, ddf_owner_property, ddf_features, ddf_more_features]\n",
    "ddf = dd.concat(ddf_list, axis=1)\n",
    "ddf.reset_index()"
   ]
  },
  {
   "cell_type": "code",
   "execution_count": 86,
   "metadata": {},
   "outputs": [],
   "source": [
    "ddf_old_properties = ddf.loc[:,~ddf.columns.duplicated()]"
   ]
  },
  {
   "cell_type": "markdown",
   "metadata": {},
   "source": [
    "### Rename DataFrame Columns"
   ]
  },
  {
   "cell_type": "markdown",
   "metadata": {},
   "source": [
    "#### New Properties"
   ]
  },
  {
   "cell_type": "code",
   "execution_count": 24,
   "metadata": {},
   "outputs": [],
   "source": [
    "ddf_new_properties = ddf_new_properties.rename(columns={\n",
    "                        \"_id\": \"id_mongoose\", \n",
    "                        \"urlProperty\":\"id_property\",\n",
    "                        \"scrapingDate\": \"scraping_date\",\n",
    "                        \"scrapingHour\": \"scraping_hour\",\n",
    "                        \"modifyDate\": \"modify_date\",\n",
    "                        \"modifyHour\": \"modify_hour\",\n",
    "                        \"status\": \"active\",\n",
    "                        \"use\": \"new_property\",\n",
    "                        \"nameProject\": \"name_project\",\n",
    "                        \"offersType\": \"offers_type\",\n",
    "                        \"id\": \"id_owner_property\",\n",
    "                        \"name\": \"name_owner_property\",\n",
    "                        \"contractType\": \"contract_type_owner_property\",\n",
    "                        \"financing\": \"financing_owner_property\",\n",
    "                        \"schedule\": \"schedule_owner_property\",\n",
    "                        \"squareMeters\": \"range_square_meters\",\n",
    "                        \"constructionArea\": \"range_construction_area\",\n",
    "                        \"squareMetersPrice\": \"square_meters_price\",\n",
    "                        \"interiorFloors\": \"interior_floors\",\n",
    "                        \"includesAdministration\": \"includes_administration\",\n",
    "                        \"admonPrice\": \"admon_price\",\n",
    "                        \"interiorFeatures\": \"interior_features\",\n",
    "                        \"exteriorFeatures\": \"exterior_features\",\n",
    "                        \"sectorFeatures\": \"sector_features\",\n",
    "                        \"offerType\": \"offer_type\",\n",
    "                        \"privateArea\": \"private_area\"\n",
    "})"
   ]
  },
  {
   "cell_type": "markdown",
   "metadata": {},
   "source": [
    "#### Old Properties"
   ]
  },
  {
   "cell_type": "code",
   "execution_count": 88,
   "metadata": {},
   "outputs": [],
   "source": [
    "ddf_old_properties = ddf_old_properties.rename(columns={\n",
    "                        \"_id\": \"id_mongoose\", \n",
    "                        \"urlProperty\":\"id_property\",\n",
    "                        \"scrapingDate\": \"scraping_date\",\n",
    "                        \"scrapingHour\": \"scraping_hour\",\n",
    "                        \"modifyDate\": \"modify_date\",\n",
    "                        \"modifyHour\": \"modify_hour\",\n",
    "                        \"status\": \"active\",\n",
    "                        \"use\": \"new_property\",\n",
    "                        \"nameProject\": \"name_project\",\n",
    "                        \"offersType\": \"offers_type\",\n",
    "                        \"id\": \"id_owner_property\",\n",
    "                        \"name\": \"name_owner_property\",\n",
    "                        \"contractType\": \"contract_type_owner_property\",\n",
    "                        \"financing\": \"financing_owner_property\",\n",
    "                        \"schedule\": \"schedule_owner_property\",\n",
    "                        \"squareMeters\": \"square_meters\",\n",
    "                        \"privateArea\": \"private_area\",\n",
    "                        \"constructionArea\": \"construction_area\",\n",
    "                        \"squareMetersPrice\": \"square_meters_price\",\n",
    "                        \"interiorFloors\": \"interior_floors\",\n",
    "                        \"includesAdministration\": \"includes_administration\",\n",
    "                        \"admonPrice\": \"admon_price\",\n",
    "                        \"interiorFeatures\": \"interior_features\",\n",
    "                        \"exteriorFeatures\": \"exterior_features\",\n",
    "                        \"sectorFeatures\": \"sector_features\"\n",
    "})"
   ]
  },
  {
   "cell_type": "markdown",
   "metadata": {},
   "source": [
    "### Data Cleaning"
   ]
  },
  {
   "cell_type": "markdown",
   "metadata": {},
   "source": [
    "#### New Properties"
   ]
  },
  {
   "cell_type": "code",
   "execution_count": 25,
   "metadata": {},
   "outputs": [],
   "source": [
    "ddf_new_properties['id_mongoose'] = ddf_new_properties['id_mongoose'].astype(str)\n",
    "ddf_new_properties['code'] = ddf_new_properties['code'].astype(int)\n",
    "ddf_new_properties['active'] = ddf_new_properties['active'].apply(lambda status: True if (status == 'Active') else False, meta=('active', 'bool'))\n",
    "ddf_new_properties['new_property'] = ddf_new_properties['new_property'].apply(lambda status: True if (status == 'Nuevo') else False, meta=('new_property', 'bool'))\n",
    "ddf_new_properties['includes_administration'] = ddf_new_properties['includes_administration'].apply(lambda status: True if (status == 'Nuevo') else False, meta=('includes_administration', 'bool'))\n",
    "ddf_new_properties['garages'] = ddf_new_properties['garages'].replace('', value = 0, regex = True).astype(int)\n",
    "ddf_new_properties['stratum'] = ddf_new_properties['stratum'].replace('', value = 0, regex = True).astype(int)\n",
    "ddf_new_properties['floor'] = ddf_new_properties['floor'].astype(int)\n",
    "ddf_new_properties['area'] = ddf_new_properties['area'].astype(float)\n",
    "ddf_new_properties['private_area'] = ddf_new_properties['private_area'].replace('', value = 0, regex = True)\n",
    "ddf_new_properties['private_area'] = ddf_new_properties['private_area'].astype(float)\n",
    "ddf_new_properties['rooms'] = ddf_new_properties['rooms'].astype(int)\n",
    "ddf_new_properties['bathrooms'] = ddf_new_properties['bathrooms'].astype(int)\n",
    "ddf_new_properties['price'] = ddf_new_properties['price'].apply(lambda price: Decimal(sub(r'[^\\d,]', '', price)), meta=('price', 'int'))\n",
    "ddf_new_properties['price'] = ddf_new_properties['price'].astype(int)"
   ]
  },
  {
   "cell_type": "markdown",
   "metadata": {},
   "source": [
    "#### Old Properties"
   ]
  },
  {
   "cell_type": "code",
   "execution_count": 90,
   "metadata": {},
   "outputs": [],
   "source": [
    "ddf_old_properties['id_mongoose'] = ddf_old_properties['id_mongoose'].astype(str)\n",
    "ddf_old_properties['code'] = ddf_old_properties['code'].astype(int)\n",
    "ddf_old_properties['active'] = ddf_old_properties['active'].apply(lambda status: True if (status == 'Active') else False, meta=('active', 'bool'))\n",
    "ddf_old_properties['new_property'] = ddf_old_properties['new_property'].apply(lambda status: True if (status == 'Nuevo') else False, meta=('new_property', 'bool'))\n",
    "ddf_old_properties['includes_administration'] = ddf_old_properties['includes_administration'].apply(lambda status: True if (status == 'Nuevo') else False, meta=('includes_administration', 'bool'))\n",
    "ddf_old_properties['garages'] = ddf_old_properties['garages'].replace('', value = 0, regex = True)\n",
    "ddf_old_properties['garages'] = ddf_old_properties['garages'].replace('Más de 10', value = 0, regex = True)\n",
    "ddf_old_properties['garages'] = ddf_old_properties['garages'].astype(int)\n",
    "ddf_old_properties['stratum'] = ddf_old_properties['stratum'].replace('', value = 0, regex = True)\n",
    "ddf_old_properties['stratum'] = ddf_old_properties['stratum'].replace('Campestre', value = 0, regex = True)\n",
    "ddf_old_properties['stratum'] = ddf_old_properties['stratum'].astype(int)\n",
    "ddf_old_properties['price'] = ddf_old_properties['price'].apply(lambda price: Decimal(sub(r'[^\\d,]', '', price)), meta=('price', 'int'))\n",
    "ddf_old_properties['price'] = ddf_old_properties['price'].astype(int)\n",
    "ddf_old_properties['square_meters'] = ddf_old_properties['square_meters'].str[0:-3]\n",
    "ddf_old_properties['square_meters'] = ddf_old_properties['square_meters'].apply(lambda meters: Decimal(sub(r'[^\\d,]', '', meters)), meta=('square_meters', 'float'))\n",
    "ddf_old_properties['square_meters'] = ddf_old_properties['square_meters'].astype(float)\n",
    "ddf_old_properties['private_area'] = ddf_old_properties['private_area'].str[0:-2]\n",
    "ddf_old_properties['private_area'] = ddf_old_properties['private_area'].replace('', value = '0', regex = True)\n",
    "ddf_old_properties['private_area'] = ddf_old_properties['private_area'].apply(lambda area: Decimal(sub(r'[^\\d.]', '', area)), meta=('private_area', 'float'))\n",
    "ddf_old_properties['private_area'] = ddf_old_properties['private_area'].astype(float)\n",
    "ddf_old_properties['construction_area'] = ddf_old_properties['construction_area'].str[0:-3]\n",
    "ddf_old_properties['construction_area'] = ddf_old_properties['construction_area'].apply(lambda area: Decimal(sub(r'[^\\d,]', '', area)), meta=('construction_area', 'float'))\n",
    "ddf_old_properties['construction_area'] = ddf_old_properties['construction_area'].astype(float)\n",
    "ddf_old_properties['floor'] = ddf_old_properties['floor'].astype(int)"
   ]
  },
  {
   "cell_type": "markdown",
   "metadata": {},
   "source": [
    "### Testing"
   ]
  },
  {
   "cell_type": "markdown",
   "metadata": {},
   "source": [
    "#### New Properties"
   ]
  },
  {
   "cell_type": "code",
   "execution_count": null,
   "metadata": {},
   "outputs": [],
   "source": [
    "ddf_new_properties.head(10)"
   ]
  },
  {
   "cell_type": "markdown",
   "metadata": {},
   "source": [
    "#### Old Properties"
   ]
  },
  {
   "cell_type": "code",
   "execution_count": 92,
   "metadata": {},
   "outputs": [
    {
     "data": {
      "text/html": [
       "<div>\n",
       "<style scoped>\n",
       "    .dataframe tbody tr th:only-of-type {\n",
       "        vertical-align: middle;\n",
       "    }\n",
       "\n",
       "    .dataframe tbody tr th {\n",
       "        vertical-align: top;\n",
       "    }\n",
       "\n",
       "    .dataframe thead th {\n",
       "        text-align: right;\n",
       "    }\n",
       "</style>\n",
       "<table border=\"1\" class=\"dataframe\">\n",
       "  <thead>\n",
       "    <tr style=\"text-align: right;\">\n",
       "      <th></th>\n",
       "      <th>code</th>\n",
       "      <th>latitude</th>\n",
       "      <th>longitude</th>\n",
       "      <th>id_owner_property</th>\n",
       "      <th>price</th>\n",
       "      <th>square_meters</th>\n",
       "      <th>rooms</th>\n",
       "      <th>bathrooms</th>\n",
       "      <th>garages</th>\n",
       "      <th>private_area</th>\n",
       "      <th>construction_area</th>\n",
       "      <th>square_meters_price</th>\n",
       "      <th>stratum</th>\n",
       "      <th>floor</th>\n",
       "      <th>interior_floors</th>\n",
       "      <th>admon_price</th>\n",
       "    </tr>\n",
       "  </thead>\n",
       "  <tbody>\n",
       "    <tr>\n",
       "      <td>count</td>\n",
       "      <td>9.695000e+03</td>\n",
       "      <td>9695.000000</td>\n",
       "      <td>9695.000000</td>\n",
       "      <td>9.695000e+03</td>\n",
       "      <td>9.695000e+03</td>\n",
       "      <td>9695.000000</td>\n",
       "      <td>9695.000000</td>\n",
       "      <td>9695.000000</td>\n",
       "      <td>9695.000000</td>\n",
       "      <td>9695.000000</td>\n",
       "      <td>9695.000000</td>\n",
       "      <td>9.695000e+03</td>\n",
       "      <td>9695.000000</td>\n",
       "      <td>9695.000000</td>\n",
       "      <td>9695.000000</td>\n",
       "      <td>9.695000e+03</td>\n",
       "    </tr>\n",
       "    <tr>\n",
       "      <td>mean</td>\n",
       "      <td>4.687646e+06</td>\n",
       "      <td>5.186471</td>\n",
       "      <td>-62.809221</td>\n",
       "      <td>6.277525e+05</td>\n",
       "      <td>1.568107e+09</td>\n",
       "      <td>326.020835</td>\n",
       "      <td>2.942238</td>\n",
       "      <td>2.717690</td>\n",
       "      <td>1.100155</td>\n",
       "      <td>95.362955</td>\n",
       "      <td>326.020835</td>\n",
       "      <td>9.317325e+07</td>\n",
       "      <td>4.701702</td>\n",
       "      <td>3.357710</td>\n",
       "      <td>0.031150</td>\n",
       "      <td>8.017401e+05</td>\n",
       "    </tr>\n",
       "    <tr>\n",
       "      <td>std</td>\n",
       "      <td>5.251392e+05</td>\n",
       "      <td>2.553210</td>\n",
       "      <td>28.510192</td>\n",
       "      <td>5.522708e+05</td>\n",
       "      <td>5.273308e+10</td>\n",
       "      <td>3956.851533</td>\n",
       "      <td>1.679856</td>\n",
       "      <td>1.734381</td>\n",
       "      <td>1.171658</td>\n",
       "      <td>119.438988</td>\n",
       "      <td>3956.851533</td>\n",
       "      <td>8.131541e+09</td>\n",
       "      <td>1.301129</td>\n",
       "      <td>5.120293</td>\n",
       "      <td>0.263013</td>\n",
       "      <td>2.081056e+07</td>\n",
       "    </tr>\n",
       "    <tr>\n",
       "      <td>min</td>\n",
       "      <td>1.783039e+06</td>\n",
       "      <td>-22.735910</td>\n",
       "      <td>-98.206558</td>\n",
       "      <td>5.260000e+02</td>\n",
       "      <td>1.900000e+06</td>\n",
       "      <td>1.000000</td>\n",
       "      <td>0.000000</td>\n",
       "      <td>0.000000</td>\n",
       "      <td>0.000000</td>\n",
       "      <td>0.000000</td>\n",
       "      <td>1.000000</td>\n",
       "      <td>1.111110e+03</td>\n",
       "      <td>0.000000</td>\n",
       "      <td>0.000000</td>\n",
       "      <td>0.000000</td>\n",
       "      <td>0.000000e+00</td>\n",
       "    </tr>\n",
       "    <tr>\n",
       "      <td>25%</td>\n",
       "      <td>4.808873e+06</td>\n",
       "      <td>6.201599</td>\n",
       "      <td>-75.582335</td>\n",
       "      <td>3.455800e+05</td>\n",
       "      <td>3.500000e+08</td>\n",
       "      <td>85.000000</td>\n",
       "      <td>3.000000</td>\n",
       "      <td>2.000000</td>\n",
       "      <td>0.000000</td>\n",
       "      <td>0.000000</td>\n",
       "      <td>85.000000</td>\n",
       "      <td>3.229864e+06</td>\n",
       "      <td>4.000000</td>\n",
       "      <td>0.000000</td>\n",
       "      <td>0.000000</td>\n",
       "      <td>0.000000e+00</td>\n",
       "    </tr>\n",
       "    <tr>\n",
       "      <td>50%</td>\n",
       "      <td>4.950364e+06</td>\n",
       "      <td>6.219785</td>\n",
       "      <td>-75.566360</td>\n",
       "      <td>5.051510e+05</td>\n",
       "      <td>5.427200e+08</td>\n",
       "      <td>129.000000</td>\n",
       "      <td>3.000000</td>\n",
       "      <td>3.000000</td>\n",
       "      <td>1.000000</td>\n",
       "      <td>93.000000</td>\n",
       "      <td>129.000000</td>\n",
       "      <td>4.059028e+06</td>\n",
       "      <td>5.000000</td>\n",
       "      <td>1.500000</td>\n",
       "      <td>0.000000</td>\n",
       "      <td>1.985000e+05</td>\n",
       "    </tr>\n",
       "    <tr>\n",
       "      <td>75%</td>\n",
       "      <td>5.018642e+06</td>\n",
       "      <td>6.245900</td>\n",
       "      <td>0.000000</td>\n",
       "      <td>1.178183e+06</td>\n",
       "      <td>8.837500e+08</td>\n",
       "      <td>226.000000</td>\n",
       "      <td>4.000000</td>\n",
       "      <td>4.000000</td>\n",
       "      <td>2.000000</td>\n",
       "      <td>176.500000</td>\n",
       "      <td>226.000000</td>\n",
       "      <td>5.460599e+06</td>\n",
       "      <td>6.000000</td>\n",
       "      <td>7.000000</td>\n",
       "      <td>0.000000</td>\n",
       "      <td>4.275000e+05</td>\n",
       "    </tr>\n",
       "    <tr>\n",
       "      <td>max</td>\n",
       "      <td>5.047436e+06</td>\n",
       "      <td>65.421509</td>\n",
       "      <td>227.812500</td>\n",
       "      <td>1.833631e+06</td>\n",
       "      <td>4.600000e+12</td>\n",
       "      <td>280000.000000</td>\n",
       "      <td>47.000000</td>\n",
       "      <td>48.000000</td>\n",
       "      <td>10.000000</td>\n",
       "      <td>995.000000</td>\n",
       "      <td>280000.000000</td>\n",
       "      <td>8.000000e+11</td>\n",
       "      <td>6.000000</td>\n",
       "      <td>18.000000</td>\n",
       "      <td>5.000000</td>\n",
       "      <td>1.200000e+09</td>\n",
       "    </tr>\n",
       "  </tbody>\n",
       "</table>\n",
       "</div>"
      ],
      "text/plain": [
       "               code     latitude    longitude  id_owner_property  \\\n",
       "count  9.695000e+03  9695.000000  9695.000000       9.695000e+03   \n",
       "mean   4.687646e+06     5.186471   -62.809221       6.277525e+05   \n",
       "std    5.251392e+05     2.553210    28.510192       5.522708e+05   \n",
       "min    1.783039e+06   -22.735910   -98.206558       5.260000e+02   \n",
       "25%    4.808873e+06     6.201599   -75.582335       3.455800e+05   \n",
       "50%    4.950364e+06     6.219785   -75.566360       5.051510e+05   \n",
       "75%    5.018642e+06     6.245900     0.000000       1.178183e+06   \n",
       "max    5.047436e+06    65.421509   227.812500       1.833631e+06   \n",
       "\n",
       "              price  square_meters        rooms    bathrooms      garages  \\\n",
       "count  9.695000e+03    9695.000000  9695.000000  9695.000000  9695.000000   \n",
       "mean   1.568107e+09     326.020835     2.942238     2.717690     1.100155   \n",
       "std    5.273308e+10    3956.851533     1.679856     1.734381     1.171658   \n",
       "min    1.900000e+06       1.000000     0.000000     0.000000     0.000000   \n",
       "25%    3.500000e+08      85.000000     3.000000     2.000000     0.000000   \n",
       "50%    5.427200e+08     129.000000     3.000000     3.000000     1.000000   \n",
       "75%    8.837500e+08     226.000000     4.000000     4.000000     2.000000   \n",
       "max    4.600000e+12  280000.000000    47.000000    48.000000    10.000000   \n",
       "\n",
       "       private_area  construction_area  square_meters_price      stratum  \\\n",
       "count   9695.000000        9695.000000         9.695000e+03  9695.000000   \n",
       "mean      95.362955         326.020835         9.317325e+07     4.701702   \n",
       "std      119.438988        3956.851533         8.131541e+09     1.301129   \n",
       "min        0.000000           1.000000         1.111110e+03     0.000000   \n",
       "25%        0.000000          85.000000         3.229864e+06     4.000000   \n",
       "50%       93.000000         129.000000         4.059028e+06     5.000000   \n",
       "75%      176.500000         226.000000         5.460599e+06     6.000000   \n",
       "max      995.000000      280000.000000         8.000000e+11     6.000000   \n",
       "\n",
       "             floor  interior_floors   admon_price  \n",
       "count  9695.000000      9695.000000  9.695000e+03  \n",
       "mean      3.357710         0.031150  8.017401e+05  \n",
       "std       5.120293         0.263013  2.081056e+07  \n",
       "min       0.000000         0.000000  0.000000e+00  \n",
       "25%       0.000000         0.000000  0.000000e+00  \n",
       "50%       1.500000         0.000000  1.985000e+05  \n",
       "75%       7.000000         0.000000  4.275000e+05  \n",
       "max      18.000000         5.000000  1.200000e+09  "
      ]
     },
     "execution_count": 92,
     "metadata": {},
     "output_type": "execute_result"
    }
   ],
   "source": [
    "ddf_old_properties.describe().head(10)"
   ]
  }
 ],
 "metadata": {
  "file_extension": ".py",
  "kernelspec": {
   "display_name": "Python 3",
   "language": "python",
   "name": "python3"
  },
  "language_info": {
   "codemirror_mode": {
    "name": "ipython",
    "version": 3
   },
   "file_extension": ".py",
   "mimetype": "text/x-python",
   "name": "python",
   "nbconvert_exporter": "python",
   "pygments_lexer": "ipython3",
   "version": "3.7.3"
  },
  "mimetype": "text/x-python",
  "name": "python",
  "npconvert_exporter": "python",
  "pygments_lexer": "ipython3",
  "version": 3
 },
 "nbformat": 4,
 "nbformat_minor": 4
}
