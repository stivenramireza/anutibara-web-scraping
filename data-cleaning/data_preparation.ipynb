{
 "cells": [
  {
   "cell_type": "markdown",
   "metadata": {},
   "source": [
    "## Data Preparation"
   ]
  },
  {
   "cell_type": "code",
   "execution_count": 4,
   "metadata": {},
   "outputs": [],
   "source": [
    "import pandas as pd\n",
    "import numpy as np\n",
    "from pandas.io.json import json_normalize\n",
    "from pymongo import MongoClient\n",
    "import json, re\n",
    "from re import sub\n",
    "from decimal import Decimal\n",
    "import dask.dataframe as dd\n",
    "from dask.distributed import Client, progress\n",
    "import dask.dataframe as dd\n",
    "from dask.delayed import delayed"
   ]
  },
  {
   "cell_type": "markdown",
   "metadata": {},
   "source": [
    "### Dask Client"
   ]
  },
  {
   "cell_type": "code",
   "execution_count": 5,
   "metadata": {},
   "outputs": [
    {
     "data": {
      "text/html": [
       "<table style=\"border: 2px solid white;\">\n",
       "<tr>\n",
       "<td style=\"vertical-align: top; border: 0px solid white\">\n",
       "<h3>Client</h3>\n",
       "<ul>\n",
       "  <li><b>Scheduler: </b>tcp://127.0.0.1:40679\n",
       "  <li><b>Dashboard: </b><a href='http://127.0.0.1:37127/status' target='_blank'>http://127.0.0.1:37127/status</a>\n",
       "</ul>\n",
       "</td>\n",
       "<td style=\"vertical-align: top; border: 0px solid white\">\n",
       "<h3>Cluster</h3>\n",
       "<ul>\n",
       "  <li><b>Workers: </b>4</li>\n",
       "  <li><b>Cores: </b>4</li>\n",
       "  <li><b>Memory: </b>8.26 GB</li>\n",
       "</ul>\n",
       "</td>\n",
       "</tr>\n",
       "</table>"
      ],
      "text/plain": [
       "<Client: scheduler='tcp://127.0.0.1:40679' processes=4 cores=4>"
      ]
     },
     "execution_count": 5,
     "metadata": {},
     "output_type": "execute_result"
    }
   ],
   "source": [
    "client = Client(n_workers=4, threads_per_worker=1)\n",
    "client"
   ]
  },
  {
   "cell_type": "markdown",
   "metadata": {},
   "source": [
    "### Database Connection"
   ]
  },
  {
   "cell_type": "code",
   "execution_count": 6,
   "metadata": {},
   "outputs": [
    {
     "name": "stdout",
     "output_type": "stream",
     "text": [
      "Database connected successfully\n"
     ]
    }
   ],
   "source": [
    "DB_USER = 'anutibara'\n",
    "DB_PASS = 'anutibara'\n",
    "DB_HOST = 'scraping-cluster-7dtgt.gcp.mongodb.net'\n",
    "DB_NAME = 'scraping_db'\n",
    "\n",
    "try:\n",
    "    client = MongoClient(f'mongodb+srv://{DB_USER}:{DB_PASS}@{DB_HOST}/{DB_NAME}')\n",
    "    print(\"Database connected successfully\")\n",
    "except Exception as e:\n",
    "    print(\"Error to connect to database: \", e)\n",
    "db = client.get_database(DB_NAME)\n",
    "properties = db.properties"
   ]
  },
  {
   "cell_type": "markdown",
   "metadata": {},
   "source": [
    "### Database Queries"
   ]
  },
  {
   "cell_type": "code",
   "execution_count": 7,
   "metadata": {},
   "outputs": [
    {
     "data": {
      "text/plain": [
       "14209"
      ]
     },
     "execution_count": 7,
     "metadata": {},
     "output_type": "execute_result"
    }
   ],
   "source": [
    "properties.count_documents({})"
   ]
  },
  {
   "cell_type": "markdown",
   "metadata": {},
   "source": [
    "### Convert Mongo Collection to DataFrame"
   ]
  },
  {
   "cell_type": "markdown",
   "metadata": {},
   "source": [
    "#### New Properties"
   ]
  },
  {
   "cell_type": "code",
   "execution_count": 8,
   "metadata": {},
   "outputs": [],
   "source": [
    "new_properties_json = list(properties.find({ 'use': 'Nuevo' }))"
   ]
  },
  {
   "cell_type": "code",
   "execution_count": 22,
   "metadata": {},
   "outputs": [],
   "source": [
    "df_general_info = json_normalize(new_properties_json, record_path='offersType', \n",
    "                                meta=['_id', \n",
    "                                    'scrapingDate', \n",
    "                                    'scrapingHour', \n",
    "                                    'modifyDate',\n",
    "                                    'modifyHour', \n",
    "                                    'code', \n",
    "                                    'status', \n",
    "                                    'type', \n",
    "                                    'use', \n",
    "                                    'nameProject', \n",
    "                                    'description'])\n",
    "ddf_general_info = dd.from_pandas(df_general_info, npartitions=10)"
   ]
  },
  {
   "cell_type": "code",
   "execution_count": 24,
   "metadata": {},
   "outputs": [],
   "source": [
    "df_location = json_normalize(new_properties_json, record_path='location', meta='urlProperty')\n",
    "ddf_location = dd.from_pandas(df_location, npartitions=10)"
   ]
  },
  {
   "cell_type": "code",
   "execution_count": 11,
   "metadata": {},
   "outputs": [],
   "source": [
    "ddf_new_properties = dd.merge(ddf_general_info, ddf_location)"
   ]
  },
  {
   "cell_type": "code",
   "execution_count": 12,
   "metadata": {},
   "outputs": [],
   "source": [
    "df_owner_property = json_normalize(new_properties_json, record_path='ownerProperty', meta='urlProperty')\n",
    "ddf_owner_property = dd.from_pandas(df_owner_property, npartitions=10)"
   ]
  },
  {
   "cell_type": "code",
   "execution_count": 13,
   "metadata": {},
   "outputs": [],
   "source": [
    "ddf_new_properties = dd.merge(ddf_new_properties, ddf_owner_property)"
   ]
  },
  {
   "cell_type": "code",
   "execution_count": 14,
   "metadata": {},
   "outputs": [],
   "source": [
    "df_features = json_normalize(new_properties_json, record_path='features', meta='urlProperty')\n",
    "ddf_features = dd.from_pandas(df_features, npartitions=10)\n",
    "new_columns = ['admon_price', 'antiquity', 'general_bathrooms', 'condition', 'construction_area',\n",
    "               'floor', 'garages', 'includes_administration', 'interior_floors', 'range_prices', \n",
    "               'range_private_area', 'general_rooms', 'square_meters', 'square_meters_price', 'stratum', \n",
    "               'weather', 'urlProperty']\n",
    "ddf_features = ddf_features.rename(columns=dict(zip(ddf_features.columns, new_columns)))"
   ]
  },
  {
   "cell_type": "code",
   "execution_count": 15,
   "metadata": {},
   "outputs": [],
   "source": [
    "ddf_new_properties = dd.merge(ddf_new_properties, ddf_features)"
   ]
  },
  {
   "cell_type": "code",
   "execution_count": 16,
   "metadata": {},
   "outputs": [],
   "source": [
    "df_more_features = json_normalize(new_properties_json, record_path='moreFeatures', meta='urlProperty')\n",
    "ddf_more_features = dd.from_pandas(df_more_features, npartitions=10)"
   ]
  },
  {
   "cell_type": "code",
   "execution_count": 17,
   "metadata": {},
   "outputs": [],
   "source": [
    "ddf_new_properties = dd.merge(ddf_new_properties, ddf_more_features)"
   ]
  },
  {
   "cell_type": "markdown",
   "metadata": {},
   "source": [
    "#### Old Properties"
   ]
  },
  {
   "cell_type": "code",
   "execution_count": 18,
   "metadata": {},
   "outputs": [],
   "source": [
    "old_properties_json = list(properties.find({ 'use': 'Usado' }))\n",
    "df_general_info = pd.DataFrame(old_properties_json, \n",
    "                                    columns=['_id', \n",
    "                                    'urlProperty', \n",
    "                                    'scrapingDate', \n",
    "                                    'scrapingHour', \n",
    "                                    'modifyDate',\n",
    "                                    'modifyHour', \n",
    "                                    'code', \n",
    "                                    'status', \n",
    "                                    'type', \n",
    "                                    'use', \n",
    "                                    'nameProject', \n",
    "                                    'description',\n",
    "                                    'offersType'])\n",
    "df_location = json_normalize(old_properties_json, 'location')\n",
    "df_owner_property = json_normalize(old_properties_json, 'ownerProperty')\n",
    "df_features = json_normalize(old_properties_json, 'features')\n",
    "df_more_features = json_normalize(old_properties_json, 'moreFeatures')\n",
    "df_old_properties = pd.concat([df_general_info, df_location, df_owner_property, \n",
    "                df_features, df_more_features], axis=1)"
   ]
  },
  {
   "cell_type": "markdown",
   "metadata": {},
   "source": [
    "### Rename DataFrame Columns"
   ]
  },
  {
   "cell_type": "markdown",
   "metadata": {},
   "source": [
    "#### New Properties"
   ]
  },
  {
   "cell_type": "code",
   "execution_count": 19,
   "metadata": {},
   "outputs": [
    {
     "ename": "NameError",
     "evalue": "name 'df_new_properties' is not defined",
     "output_type": "error",
     "traceback": [
      "\u001b[0;31m---------------------------------------------------------------------------\u001b[0m",
      "\u001b[0;31mNameError\u001b[0m                                 Traceback (most recent call last)",
      "\u001b[0;32m<ipython-input-19-3eba05e274be>\u001b[0m in \u001b[0;36m<module>\u001b[0;34m\u001b[0m\n\u001b[0;32m----> 1\u001b[0;31m df_new_properties.rename(columns= {\n\u001b[0m\u001b[1;32m      2\u001b[0m                         \u001b[0;34m\"_id\"\u001b[0m\u001b[0;34m:\u001b[0m \u001b[0;34m\"id_mongoose\"\u001b[0m\u001b[0;34m,\u001b[0m\u001b[0;34m\u001b[0m\u001b[0;34m\u001b[0m\u001b[0m\n\u001b[1;32m      3\u001b[0m                         \u001b[0;34m\"urlProperty\"\u001b[0m\u001b[0;34m:\u001b[0m\u001b[0;34m\"id_property\"\u001b[0m\u001b[0;34m,\u001b[0m\u001b[0;34m\u001b[0m\u001b[0;34m\u001b[0m\u001b[0m\n\u001b[1;32m      4\u001b[0m                         \u001b[0;34m\"scrapingDate\"\u001b[0m\u001b[0;34m:\u001b[0m \u001b[0;34m\"scraping_date\"\u001b[0m\u001b[0;34m,\u001b[0m\u001b[0;34m\u001b[0m\u001b[0;34m\u001b[0m\u001b[0m\n\u001b[1;32m      5\u001b[0m                         \u001b[0;34m\"scrapingHour\"\u001b[0m\u001b[0;34m:\u001b[0m \u001b[0;34m\"scraping_hour\"\u001b[0m\u001b[0;34m,\u001b[0m\u001b[0;34m\u001b[0m\u001b[0;34m\u001b[0m\u001b[0m\n",
      "\u001b[0;31mNameError\u001b[0m: name 'df_new_properties' is not defined"
     ]
    }
   ],
   "source": [
    "df_new_properties.rename(columns= {\n",
    "                        \"_id\": \"id_mongoose\", \n",
    "                        \"urlProperty\":\"id_property\",\n",
    "                        \"scrapingDate\": \"scraping_date\",\n",
    "                        \"scrapingHour\": \"scraping_hour\",\n",
    "                        \"modifyDate\": \"modify_date\",\n",
    "                        \"modifyHour\": \"modify_hour\",\n",
    "                        \"status\": \"active\",\n",
    "                        \"use\": \"new_property\",\n",
    "                        \"nameProject\": \"name_project\",\n",
    "                        \"offersType\": \"offers_type\",\n",
    "                        \"id\": \"id_owner_property\",\n",
    "                        \"name\": \"name_owner_property\",\n",
    "                        \"contractType\": \"contract_type_owner_property\",\n",
    "                        \"financing\": \"financing_owner_property\",\n",
    "                        \"schedule\": \"schedule_owner_property\",\n",
    "                        \"squareMeters\": \"range_square_meters\",\n",
    "                        \"constructionArea\": \"range_construction_area\",\n",
    "                        \"squareMetersPrice\": \"square_meters_price\",\n",
    "                        \"interiorFloors\": \"interior_floors\",\n",
    "                        \"includesAdministration\": \"includes_administration\",\n",
    "                        \"admonPrice\": \"admon_price\",\n",
    "                        \"interiorFeatures\": \"interior_features\",\n",
    "                        \"exteriorFeatures\": \"exterior_features\",\n",
    "                        \"sectorFeatures\": \"sector_features\",\n",
    "                        \"offerType\": \"offer_type\",\n",
    "                        \"privateArea\": \"private_area\"\n",
    "                    }, \n",
    "          inplace = True)"
   ]
  },
  {
   "cell_type": "markdown",
   "metadata": {},
   "source": [
    "#### Old Properties"
   ]
  },
  {
   "cell_type": "code",
   "execution_count": null,
   "metadata": {},
   "outputs": [],
   "source": [
    "df_old_properties.rename(columns= {\n",
    "                        \"_id\": \"id_mongoose\", \n",
    "                        \"urlProperty\":\"id_property\",\n",
    "                        \"scrapingDate\": \"scraping_date\",\n",
    "                        \"scrapingHour\": \"scraping_hour\",\n",
    "                        \"modifyDate\": \"modify_date\",\n",
    "                        \"modifyHour\": \"modify_hour\",\n",
    "                        \"status\": \"active\",\n",
    "                        \"use\": \"new_property\",\n",
    "                        \"nameProject\": \"name_project\",\n",
    "                        \"offersType\": \"offers_type\",\n",
    "                        \"id\": \"id_owner_property\",\n",
    "                        \"name\": \"name_owner_property\",\n",
    "                        \"contractType\": \"contract_type_owner_property\",\n",
    "                        \"financing\": \"financing_owner_property\",\n",
    "                        \"schedule\": \"schedule_owner_property\",\n",
    "                        \"squareMeters\": \"square_meters\",\n",
    "                        \"privateArea\": \"private_area\",\n",
    "                        \"constructionArea\": \"construction_area\",\n",
    "                        \"squareMetersPrice\": \"square_meters_price\",\n",
    "                        \"interiorFloors\": \"interior_floors\",\n",
    "                        \"includesAdministration\": \"includes_administration\",\n",
    "                        \"admonPrice\": \"admon_price\",\n",
    "                        \"interiorFeatures\": \"interior_features\",\n",
    "                        \"exteriorFeatures\": \"exterior_features\",\n",
    "                        \"sectorFeatures\": \"sector_features\"\n",
    "                    }, \n",
    "          inplace = True)"
   ]
  },
  {
   "cell_type": "markdown",
   "metadata": {},
   "source": [
    "### Data Cleaning"
   ]
  },
  {
   "cell_type": "markdown",
   "metadata": {},
   "source": [
    "#### New Properties"
   ]
  },
  {
   "cell_type": "code",
   "execution_count": null,
   "metadata": {},
   "outputs": [],
   "source": [
    "df_new_properties['active'] = df_new_properties['active'].apply(lambda status: True if (status == 'Active') else False)\n",
    "df_new_properties['new_property'] = df_new_properties['new_property'].apply(lambda status: True if (status == 'Nuevo') else False)\n",
    "df_new_properties['includes_administration'] = df_new_properties['includes_administration'].apply(lambda status: True if (status == 'Nuevo') else False)\n",
    "df_new_properties['garages'] = df_new_properties['garages'].replace('', value = 0, regex = True).astype(int)\n",
    "df_new_properties['stratum'] = df_new_properties['stratum'].replace('', value = 0, regex = True).astype(int)\n",
    "df_new_properties['floor'] = df_new_properties['floor'].astype(int)\n",
    "df_new_properties['area'] = df_new_properties['area'].astype(float)\n",
    "df_new_properties['private_area'] = df_new_properties['private_area'].replace('', value = 0, regex = True)\n",
    "df_new_properties['private_area'] = df_new_properties['private_area'].astype(float)\n",
    "df_new_properties['rooms'] = df_new_properties['rooms'].astype(int)\n",
    "df_new_properties['bathrooms'] = df_new_properties['bathrooms'].astype(int)\n",
    "df_new_properties['price'] = df_new_properties['price'].apply(lambda price: Decimal(sub(r'[^\\d,]', '', price))).astype(int)"
   ]
  },
  {
   "cell_type": "markdown",
   "metadata": {},
   "source": [
    "#### Old Properties"
   ]
  },
  {
   "cell_type": "code",
   "execution_count": null,
   "metadata": {},
   "outputs": [],
   "source": [
    "df_old_properties['active'] = df_old_properties['active'].apply(lambda status: True if (status == 'Active') else False)\n",
    "df_old_properties['new_property'] = df_old_properties['new_property'].apply(lambda status: True if (status == 'Nuevo') else False)\n",
    "df_old_properties['includes_administration'] = df_old_properties['includes_administration'].apply(lambda status: True if (status == 'Nuevo') else False)\n",
    "df_old_properties['garages'] = df_old_properties['garages'].replace('', value = 0, regex = True)\n",
    "df_old_properties['garages'] = df_old_properties['garages'].replace('Más de 10', value = 0, regex = True)\n",
    "df_old_properties['garages'] = df_old_properties['garages'].astype(int)\n",
    "df_old_properties['stratum'] = df_old_properties['stratum'].replace('', value = 0, regex = True)\n",
    "df_old_properties['stratum'] = df_old_properties['stratum'].replace('Campestre', value = 0, regex = True)\n",
    "df_old_properties['stratum'] = df_old_properties['stratum'].astype(int)\n",
    "df_old_properties['price'] = df_old_properties['price'].apply(lambda price: Decimal(sub(r'[^\\d,]', '', price))).astype(int)\n",
    "df_old_properties['square_meters'] = df_old_properties['square_meters'].str[0:-3]\n",
    "df_old_properties['square_meters'] = df_old_properties['square_meters'].apply(lambda meters: Decimal(sub(r'[^\\d,]', '', meters))).astype(float)\n",
    "df_old_properties['private_area'] = df_old_properties['private_area'].str[0:-2]\n",
    "df_old_properties['private_area'] = df_old_properties['private_area'].replace('', value = '0', regex = True)\n",
    "df_old_properties['private_area'] = df_old_properties['private_area'].apply(lambda area: Decimal(sub(r'[^\\d.]', '', area))).astype(float)\n",
    "df_old_properties['construction_area'] = df_old_properties['construction_area'].str[0:-3]\n",
    "df_old_properties['construction_area'] = df_old_properties['construction_area'].apply(lambda area: Decimal(sub(r'[^\\d,]', '', area))).astype(float)\n",
    "df_old_properties['floor'] = df_old_properties['floor'].astype(int)"
   ]
  },
  {
   "cell_type": "markdown",
   "metadata": {},
   "source": [
    "### Testing"
   ]
  },
  {
   "cell_type": "markdown",
   "metadata": {},
   "source": [
    "#### New Properties"
   ]
  },
  {
   "cell_type": "code",
   "execution_count": null,
   "metadata": {},
   "outputs": [],
   "source": [
    "df_new_properties"
   ]
  },
  {
   "cell_type": "markdown",
   "metadata": {},
   "source": [
    "#### Old Properties"
   ]
  },
  {
   "cell_type": "code",
   "execution_count": null,
   "metadata": {},
   "outputs": [],
   "source": [
    "df_old_properties"
   ]
  }
 ],
 "metadata": {
  "file_extension": ".py",
  "kernelspec": {
   "display_name": "Python 3",
   "language": "python",
   "name": "python3"
  },
  "language_info": {
   "codemirror_mode": {
    "name": "ipython",
    "version": 3
   },
   "file_extension": ".py",
   "mimetype": "text/x-python",
   "name": "python",
   "nbconvert_exporter": "python",
   "pygments_lexer": "ipython3",
   "version": "3.7.3"
  },
  "mimetype": "text/x-python",
  "name": "python",
  "npconvert_exporter": "python",
  "pygments_lexer": "ipython3",
  "version": 3
 },
 "nbformat": 4,
 "nbformat_minor": 4
}
