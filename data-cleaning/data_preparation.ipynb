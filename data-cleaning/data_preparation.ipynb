{
 "nbformat": 4,
 "nbformat_minor": 2,
 "metadata": {
  "language_info": {
   "name": "python",
   "codemirror_mode": {
    "name": "ipython",
    "version": 3
   }
  },
  "orig_nbformat": 2,
  "file_extension": ".py",
  "mimetype": "text/x-python",
  "name": "python",
  "npconvert_exporter": "python",
  "pygments_lexer": "ipython3",
  "version": 3
 },
 "cells": [
  {
   "cell_type": "markdown",
   "execution_count": null,
   "metadata": {},
   "outputs": [],
   "source": [
    "## Data Preparation"
   ]
  },
  {
   "cell_type": "code",
   "execution_count": 1,
   "metadata": {},
   "outputs": [],
   "source": [
    "import pandas as pd\n",
    "import numpy as np\n",
    "from pandas.io.json import json_normalize\n",
    "from pymongo import MongoClient\n",
    "import json, re\n",
    "from re import sub\n",
    "from decimal import Decimal"
   ]
  },
  {
   "cell_type": "markdown",
   "execution_count": null,
   "metadata": {},
   "outputs": [],
   "source": [
    "### Database Connection"
   ]
  },
  {
   "cell_type": "code",
   "execution_count": 2,
   "metadata": {},
   "outputs": [
    {
     "name": "stdout",
     "output_type": "stream",
     "text": "Database connected successfully\n"
    }
   ],
   "source": [
    "DB_USER = 'anutibara'\n",
    "DB_PASS = 'anutibara'\n",
    "DB_HOST = 'scraping-cluster-7dtgt.gcp.mongodb.net'\n",
    "DB_NAME = 'scraping_db'\n",
    "\n",
    "try:\n",
    "    client = MongoClient(f'mongodb+srv://{DB_USER}:{DB_PASS}@{DB_HOST}/{DB_NAME}')\n",
    "    print(\"Database connected successfully\")\n",
    "except Exception as e:\n",
    "    print(\"Error to connect to database: \", e)\n",
    "db = client.get_database(DB_NAME)\n",
    "properties = db.properties"
   ]
  },
  {
   "cell_type": "markdown",
   "execution_count": null,
   "metadata": {},
   "outputs": [],
   "source": [
    "### Database Queries"
   ]
  },
  {
   "cell_type": "code",
   "execution_count": 3,
   "metadata": {},
   "outputs": [
    {
     "data": {
      "text/plain": "14209"
     },
     "execution_count": 3,
     "metadata": {},
     "output_type": "execute_result"
    }
   ],
   "source": [
    "properties.count_documents({})"
   ]
  },
  {
   "cell_type": "markdown",
   "execution_count": 0,
   "metadata": {},
   "outputs": [],
   "source": [
    "### Convert Mongo Collection to DataFrame"
   ]
  },
  {
   "cell_type": "markdown",
   "execution_count": null,
   "metadata": {},
   "outputs": [],
   "source": [
    "#### New Properties"
   ]
  },
  {
   "cell_type": "code",
   "execution_count": 4,
   "metadata": {},
   "outputs": [],
   "source": [
    "new_properties_json = list(properties.find({ 'use': 'Nuevo' }))\n",
    "df_general_info = json_normalize(new_properties_json, record_path='offersType', \n",
    "                            meta=['_id', \n",
    "                                    'urlProperty', \n",
    "                                    'scrapingDate', \n",
    "                                    'scrapingHour', \n",
    "                                    'modifyDate',\n",
    "                                    'modifyHour', \n",
    "                                    'code', \n",
    "                                    'status', \n",
    "                                    'type', \n",
    "                                    'use', \n",
    "                                    'nameProject', \n",
    "                                    'description'])\n",
    "df_location = json_normalize(new_properties_json, record_path='location', meta='urlProperty')\n",
    "df_owner_property = json_normalize(new_properties_json, record_path='ownerProperty', meta='urlProperty')\n",
    "df_features = json_normalize(new_properties_json, record_path='features', meta='urlProperty')\n",
    "df_features.rename(columns= {\n",
    "                        \"price\": \"range_prices\", \n",
    "                        \"rooms\":\"general_rooms\",\n",
    "                        \"bathrooms\": \"general_bathrooms\",\n",
    "                        \"privateArea\": \"range_private_area\"\n",
    "                    }, \n",
    "          inplace = True)\n",
    "df_more_features = json_normalize(new_properties_json, record_path='moreFeatures', meta='urlProperty')\n",
    "df_new_properties = df_general_info.set_index('urlProperty').join(df_location.set_index('urlProperty')).join(df_owner_property.set_index('urlProperty')).join(df_features.set_index('urlProperty')).join(df_more_features.set_index('urlProperty'))"
   ]
  },
  {
   "cell_type": "markdown",
   "execution_count": null,
   "metadata": {},
   "outputs": [],
   "source": [
    "#### Old Properties"
   ]
  },
  {
   "cell_type": "code",
   "execution_count": 0,
   "metadata": {},
   "outputs": [],
   "source": [
    "old_properties_json = list(properties.find({ 'use': 'Usado' }))\n",
    "df_general_info = pd.DataFrame(old_properties_json, \n",
    "                                    columns=['_id', \n",
    "                                    'urlProperty', \n",
    "                                    'scrapingDate', \n",
    "                                    'scrapingHour', \n",
    "                                    'modifyDate',\n",
    "                                    'modifyHour', \n",
    "                                    'code', \n",
    "                                    'status', \n",
    "                                    'type', \n",
    "                                    'use', \n",
    "                                    'nameProject', \n",
    "                                    'description',\n",
    "                                    'offersType'])\n",
    "df_location = json_normalize(old_properties_json, 'location')\n",
    "df_owner_property = json_normalize(old_properties_json, 'ownerProperty')\n",
    "df_features = json_normalize(old_properties_json, 'features')\n",
    "df_more_features = json_normalize(old_properties_json, 'moreFeatures')\n",
    "df_old_properties = pd.concat([df_general_info, df_location, df_owner_property, \n",
    "                df_features, df_more_features], axis=1)"
   ]
  },
  {
   "cell_type": "markdown",
   "execution_count": null,
   "metadata": {},
   "outputs": [],
   "source": [
    "### Rename DataFrame Columns"
   ]
  },
  {
   "cell_type": "markdown",
   "execution_count": 6,
   "metadata": {},
   "outputs": [],
   "source": [
    "#### New Properties"
   ]
  },
  {
   "cell_type": "code",
   "execution_count": 0,
   "metadata": {},
   "outputs": [],
   "source": [
    "df_new_properties.rename(columns= {\n",
    "                        \"_id\": \"id_mongoose\", \n",
    "                        \"urlProperty\":\"id_property\",\n",
    "                        \"scrapingDate\": \"scraping_date\",\n",
    "                        \"scrapingHour\": \"scraping_hour\",\n",
    "                        \"modifyDate\": \"modify_date\",\n",
    "                        \"modifyHour\": \"modify_hour\",\n",
    "                        \"status\": \"active\",\n",
    "                        \"use\": \"new_property\",\n",
    "                        \"nameProject\": \"name_project\",\n",
    "                        \"offersType\": \"offers_type\",\n",
    "                        \"id\": \"id_owner_property\",\n",
    "                        \"name\": \"name_owner_property\",\n",
    "                        \"contractType\": \"contract_type_owner_property\",\n",
    "                        \"financing\": \"financing_owner_property\",\n",
    "                        \"schedule\": \"schedule_owner_property\",\n",
    "                        \"squareMeters\": \"range_square_meters\",\n",
    "                        \"constructionArea\": \"range_construction_area\",\n",
    "                        \"squareMetersPrice\": \"square_meters_price\",\n",
    "                        \"interiorFloors\": \"interior_floors\",\n",
    "                        \"includesAdministration\": \"includes_administration\",\n",
    "                        \"admonPrice\": \"admon_price\",\n",
    "                        \"interiorFeatures\": \"interior_features\",\n",
    "                        \"exteriorFeatures\": \"exterior_features\",\n",
    "                        \"sectorFeatures\": \"sector_features\",\n",
    "                        \"offerType\": \"offer_type\",\n",
    "                        \"privateArea\": \"private_area\"\n",
    "                    }, \n",
    "          inplace = True)"
   ]
  },
  {
   "cell_type": "markdown",
   "execution_count": null,
   "metadata": {},
   "outputs": [],
   "source": [
    "#### Old Properties"
   ]
  },
  {
   "cell_type": "code",
   "execution_count": 0,
   "metadata": {},
   "outputs": [],
   "source": [
    "df_old_properties.rename(columns= {\n",
    "                        \"_id\": \"id_mongoose\", \n",
    "                        \"urlProperty\":\"id_property\",\n",
    "                        \"scrapingDate\": \"scraping_date\",\n",
    "                        \"scrapingHour\": \"scraping_hour\",\n",
    "                        \"modifyDate\": \"modify_date\",\n",
    "                        \"modifyHour\": \"modify_hour\",\n",
    "                        \"status\": \"active\",\n",
    "                        \"use\": \"new_property\",\n",
    "                        \"nameProject\": \"name_project\",\n",
    "                        \"offersType\": \"offers_type\",\n",
    "                        \"id\": \"id_owner_property\",\n",
    "                        \"name\": \"name_owner_property\",\n",
    "                        \"contractType\": \"contract_type_owner_property\",\n",
    "                        \"financing\": \"financing_owner_property\",\n",
    "                        \"schedule\": \"schedule_owner_property\",\n",
    "                        \"squareMeters\": \"square_meters\",\n",
    "                        \"privateArea\": \"private_area\",\n",
    "                        \"constructionArea\": \"construction_area\",\n",
    "                        \"squareMetersPrice\": \"square_meters_price\",\n",
    "                        \"interiorFloors\": \"interior_floors\",\n",
    "                        \"includesAdministration\": \"includes_administration\",\n",
    "                        \"admonPrice\": \"admon_price\",\n",
    "                        \"interiorFeatures\": \"interior_features\",\n",
    "                        \"exteriorFeatures\": \"exterior_features\",\n",
    "                        \"sectorFeatures\": \"sector_features\"\n",
    "                    }, \n",
    "          inplace = True)"
   ]
  },
  {
   "cell_type": "markdown",
   "execution_count": null,
   "metadata": {},
   "outputs": [],
   "source": [
    "### Data Cleaning"
   ]
  },
  {
   "cell_type": "markdown",
   "execution_count": null,
   "metadata": {},
   "outputs": [],
   "source": [
    "#### New Properties"
   ]
  },
  {
   "cell_type": "code",
   "execution_count": 0,
   "metadata": {},
   "outputs": [],
   "source": [
    "df_new_properties['active'] = df_new_properties['active'].apply(lambda status: True if (status == 'Active') else False)\n",
    "df_new_properties['new_property'] = df_new_properties['new_property'].apply(lambda status: True if (status == 'Nuevo') else False)\n",
    "df_new_properties['includes_administration'] = df_new_properties['includes_administration'].apply(lambda status: True if (status == 'Nuevo') else False)\n",
    "df_new_properties['garages'] = df_new_properties['garages'].replace('', value = 0, regex = True).astype(int)\n",
    "df_new_properties['stratum'] = df_new_properties['stratum'].replace('', value = 0, regex = True).astype(int)\n",
    "df_new_properties['floor'] = df_new_properties['floor'].astype(int)\n",
    "df_new_properties['area'] = df_new_properties['area'].astype(float)\n",
    "df_new_properties['private_area'] = df_new_properties['private_area'].replace('', value = 0, regex = True)\n",
    "df_new_properties['private_area'] = df_new_properties['private_area'].astype(float)\n",
    "df_new_properties['rooms'] = df_new_properties['rooms'].astype(int)\n",
    "df_new_properties['bathrooms'] = df_new_properties['bathrooms'].astype(int)\n",
    "df_new_properties['price'] = df_new_properties['price'].apply(lambda price: Decimal(sub(r'[^\\d,]', '', price))).astype(int)"
   ]
  },
  {
   "cell_type": "markdown",
   "execution_count": null,
   "metadata": {},
   "outputs": [],
   "source": [
    "#### Old Properties"
   ]
  },
  {
   "cell_type": "code",
   "execution_count": 0,
   "metadata": {},
   "outputs": [],
   "source": [
    "df_old_properties['active'] = df_old_properties['active'].apply(lambda status: True if (status == 'Active') else False)\n",
    "df_old_properties['new_property'] = df_old_properties['new_property'].apply(lambda status: True if (status == 'Nuevo') else False)\n",
    "df_old_properties['includes_administration'] = df_old_properties['includes_administration'].apply(lambda status: True if (status == 'Nuevo') else False)\n",
    "df_old_properties['garages'] = df_old_properties['garages'].replace('', value = 0, regex = True)\n",
    "df_old_properties['garages'] = df_old_properties['garages'].replace('Más de 10', value = 0, regex = True)\n",
    "df_old_properties['garages'] = df_old_properties['garages'].astype(int)\n",
    "df_old_properties['stratum'] = df_old_properties['stratum'].replace('', value = 0, regex = True)\n",
    "df_old_properties['stratum'] = df_old_properties['stratum'].replace('Campestre', value = 0, regex = True)\n",
    "df_old_properties['stratum'] = df_old_properties['stratum'].astype(int)\n",
    "df_old_properties['price'] = df_old_properties['price'].apply(lambda price: Decimal(sub(r'[^\\d,]', '', price))).astype(int)\n",
    "df_old_properties['square_meters'] = df_old_properties['square_meters'].str[0:-3]\n",
    "df_old_properties['square_meters'] = df_old_properties['square_meters'].apply(lambda meters: Decimal(sub(r'[^\\d,]', '', meters))).astype(float)\n",
    "df_old_properties['private_area'] = df_old_properties['private_area'].str[0:-2]\n",
    "df_old_properties['private_area'] = df_old_properties['private_area'].replace('', value = '0', regex = True)\n",
    "df_old_properties['private_area'] = df_old_properties['private_area'].apply(lambda area: Decimal(sub(r'[^\\d.]', '', area))).astype(float)\n",
    "df_old_properties['construction_area'] = df_old_properties['construction_area'].str[0:-3]\n",
    "df_old_properties['construction_area'] = df_old_properties['construction_area'].apply(lambda area: Decimal(sub(r'[^\\d,]', '', area))).astype(float)\n",
    "df_old_properties['floor'] = df_old_properties['floor'].astype(int)"
   ]
  },
  {
   "cell_type": "markdown",
   "execution_count": null,
   "metadata": {},
   "outputs": [],
   "source": [
    "### Testing"
   ]
  },
  {
   "cell_type": "markdown",
   "execution_count": 7,
   "metadata": {},
   "outputs": [],
   "source": [
    "#### New Properties"
   ]
  },
  {
   "cell_type": "code",
   "execution_count": 0,
   "metadata": {},
   "outputs": [],
   "source": [
    "df_new_properties"
   ]
  },
  {
   "cell_type": "markdown",
   "execution_count": null,
   "metadata": {},
   "outputs": [],
   "source": [
    "#### Old Properties"
   ]
  },
  {
   "cell_type": "code",
   "execution_count": 0,
   "metadata": {},
   "outputs": [],
   "source": [
    "df_old_properties"
   ]
  }
 ]
}