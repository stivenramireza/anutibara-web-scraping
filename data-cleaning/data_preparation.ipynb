{
 "cells": [
  {
   "cell_type": "markdown",
   "metadata": {},
   "source": [
    "## Data Preparation"
   ]
  },
  {
   "cell_type": "code",
   "execution_count": 1,
   "metadata": {},
   "outputs": [],
   "source": [
    "import pandas as pd\n",
    "import numpy as np\n",
    "from pandas.io.json import json_normalize\n",
    "from pymongo import MongoClient\n",
    "import json, re\n",
    "from re import sub\n",
    "from decimal import Decimal\n",
    "import dask.dataframe as dd\n",
    "from dask.distributed import Client, progress\n",
    "import dask.dataframe as dd\n",
    "from dask.delayed import delayed"
   ]
  },
  {
   "cell_type": "markdown",
   "metadata": {},
   "source": [
    "### Dask Client"
   ]
  },
  {
   "cell_type": "code",
   "execution_count": 2,
   "metadata": {},
   "outputs": [
    {
     "data": {
      "text/html": [
       "<table style=\"border: 2px solid white;\">\n",
       "<tr>\n",
       "<td style=\"vertical-align: top; border: 0px solid white\">\n",
       "<h3 style=\"text-align: left;\">Client</h3>\n",
       "<ul style=\"text-align: left; list-style: none; margin: 0; padding: 0;\">\n",
       "  <li><b>Scheduler: </b>tcp://127.0.0.1:44481</li>\n",
       "  <li><b>Dashboard: </b><a href='http://127.0.0.1:8787/status' target='_blank'>http://127.0.0.1:8787/status</a>\n",
       "</ul>\n",
       "</td>\n",
       "<td style=\"vertical-align: top; border: 0px solid white\">\n",
       "<h3 style=\"text-align: left;\">Cluster</h3>\n",
       "<ul style=\"text-align: left; list-style:none; margin: 0; padding: 0;\">\n",
       "  <li><b>Workers: </b>4</li>\n",
       "  <li><b>Cores: </b>4</li>\n",
       "  <li><b>Memory: </b>16.63 GB</li>\n",
       "</ul>\n",
       "</td>\n",
       "</tr>\n",
       "</table>"
      ],
      "text/plain": [
       "<Client: 'tcp://127.0.0.1:44481' processes=4 threads=4, memory=16.63 GB>"
      ]
     },
     "execution_count": 2,
     "metadata": {},
     "output_type": "execute_result"
    }
   ],
   "source": [
    "client = Client(n_workers=4, threads_per_worker=1)\n",
    "client"
   ]
  },
  {
   "cell_type": "markdown",
   "metadata": {},
   "source": [
    "### Database Connection"
   ]
  },
  {
   "cell_type": "code",
   "execution_count": 3,
   "metadata": {},
   "outputs": [
    {
     "name": "stdout",
     "output_type": "stream",
     "text": [
      "Database connected successfully\n"
     ]
    }
   ],
   "source": [
    "DB_USER = 'anutibara'\n",
    "DB_PASS = 'anutibara'\n",
    "DB_HOST = 'scraping-cluster-7dtgt.gcp.mongodb.net'\n",
    "DB_NAME = 'scraping_db'\n",
    "\n",
    "try:\n",
    "    client = MongoClient(f'mongodb+srv://{DB_USER}:{DB_PASS}@{DB_HOST}/{DB_NAME}')\n",
    "    print(\"Database connected successfully\")\n",
    "except Exception as e:\n",
    "    print(\"Error to connect to database: \", e)\n",
    "db = client.get_database(DB_NAME)\n",
    "properties = db.properties"
   ]
  },
  {
   "cell_type": "markdown",
   "metadata": {},
   "source": [
    "### Database Queries"
   ]
  },
  {
   "cell_type": "code",
   "execution_count": 4,
   "metadata": {},
   "outputs": [
    {
     "data": {
      "text/plain": [
       "1896"
      ]
     },
     "execution_count": 4,
     "metadata": {},
     "output_type": "execute_result"
    }
   ],
   "source": [
    "properties.count_documents({})"
   ]
  },
  {
   "cell_type": "markdown",
   "metadata": {},
   "source": [
    "### Convert Mongo Collection to DataFrame"
   ]
  },
  {
   "cell_type": "markdown",
   "metadata": {},
   "source": [
    "#### New Properties"
   ]
  },
  {
   "cell_type": "code",
   "execution_count": 5,
   "metadata": {},
   "outputs": [],
   "source": [
    "new_properties_json = list(properties.find({ 'use': 'Nuevo' }))"
   ]
  },
  {
   "cell_type": "code",
   "execution_count": 6,
   "metadata": {},
   "outputs": [],
   "source": [
    "df_new_properties = json_normalize(new_properties_json, record_path='offersType', \n",
    "                                meta=['_id', \n",
    "                                    'urlProperty',\n",
    "                                    'scrapingDate', \n",
    "                                    'scrapingHour', \n",
    "                                    'modifyDate',\n",
    "                                    'modifyHour', \n",
    "                                    'code', \n",
    "                                    'status', \n",
    "                                    'type', \n",
    "                                    'use', \n",
    "                                    'nameProject', \n",
    "                                    'description',\n",
    "                                     'country',\n",
    "                                     'department',\n",
    "                                     'city',\n",
    "                                     'sector',\n",
    "                                     'neighborhood',\n",
    "                                     'address',\n",
    "                                     'latitude',\n",
    "                                     'longitude',\n",
    "                                     'idOwnerProperty',\n",
    "                                     'nameOwnerProperty',\n",
    "                                     'contractType',\n",
    "                                     'financing',\n",
    "                                     'schedule',\n",
    "                                     'price',\n",
    "                                     'squareMeters',\n",
    "                                     'rooms',\n",
    "                                     'bathrooms',\n",
    "                                     'garages',\n",
    "                                     'privateArea',\n",
    "                                     'constructionArea',\n",
    "                                     'squareMetersPrice',\n",
    "                                     'stratum',\n",
    "                                     'condition',\n",
    "                                     'antiquity',\n",
    "                                     'floor',\n",
    "                                     'interiorFloors',\n",
    "                                     'weather',\n",
    "                                     'includesAdministration',\n",
    "                                     'admonPrice',\n",
    "                                     'interiorFeatures',\n",
    "                                     'exteriorFeatures',\n",
    "                                     'sectorFeatures'])\n",
    "ddf_new_properties = dd.from_pandas(df_new_properties, npartitions=10)"
   ]
  },
  {
   "cell_type": "code",
   "execution_count": 7,
   "metadata": {},
   "outputs": [],
   "source": [
    "ddf_new_properties = ddf_new_properties.loc[:,~ddf_new_properties.columns.duplicated(keep='first')]"
   ]
  },
  {
   "cell_type": "code",
   "execution_count": 8,
   "metadata": {},
   "outputs": [],
   "source": [
    "ddf_new_properties = ddf_new_properties.dropna()"
   ]
  },
  {
   "cell_type": "markdown",
   "metadata": {},
   "source": [
    "#### Old Properties"
   ]
  },
  {
   "cell_type": "code",
   "execution_count": 9,
   "metadata": {},
   "outputs": [],
   "source": [
    "old_properties_json = list(properties.find({ 'use': 'Usado' }))"
   ]
  },
  {
   "cell_type": "code",
   "execution_count": 10,
   "metadata": {},
   "outputs": [],
   "source": [
    "df_old_properties = pd.DataFrame(old_properties_json, \n",
    "                                    columns=['_id', \n",
    "                                    'urlProperty', \n",
    "                                    'scrapingDate', \n",
    "                                    'scrapingHour', \n",
    "                                    'modifyDate',\n",
    "                                    'modifyHour', \n",
    "                                    'code', \n",
    "                                    'status', \n",
    "                                    'type', \n",
    "                                    'use', \n",
    "                                    'nameProject', \n",
    "                                    'description',\n",
    "                                    'country',\n",
    "                                     'department',\n",
    "                                     'city',\n",
    "                                     'sector',\n",
    "                                     'neighborhood',\n",
    "                                     'address',\n",
    "                                     'latitude',\n",
    "                                     'longitude',\n",
    "                                     'idOwnerProperty',\n",
    "                                     'nameOwnerProperty',\n",
    "                                     'contractType',\n",
    "                                     'financing',\n",
    "                                     'schedule',\n",
    "                                     'price',\n",
    "                                     'squareMeters',\n",
    "                                     'rooms',\n",
    "                                     'bathrooms',\n",
    "                                     'garages',\n",
    "                                     'privateArea',\n",
    "                                     'constructionArea',\n",
    "                                     'squareMetersPrice',\n",
    "                                     'stratum',\n",
    "                                     'condition',\n",
    "                                     'antiquity',\n",
    "                                     'floor',\n",
    "                                     'interiorFloors',\n",
    "                                     'weather',\n",
    "                                     'includesAdministration',\n",
    "                                     'admonPrice',\n",
    "                                     'interiorFeatures',\n",
    "                                     'exteriorFeatures',\n",
    "                                     'sectorFeatures'])\n",
    "ddf_old_properties = dd.from_pandas(df_old_properties, npartitions=10)"
   ]
  },
  {
   "cell_type": "code",
   "execution_count": 11,
   "metadata": {},
   "outputs": [],
   "source": [
    "ddf_old_properties = ddf_old_properties.loc[:,~ddf_old_properties.columns.duplicated(keep='first')]"
   ]
  },
  {
   "cell_type": "code",
   "execution_count": 12,
   "metadata": {},
   "outputs": [],
   "source": [
    "ddf_old_properties = ddf_old_properties.dropna()"
   ]
  },
  {
   "cell_type": "markdown",
   "metadata": {},
   "source": [
    "### Rename DataFrame Columns"
   ]
  },
  {
   "cell_type": "markdown",
   "metadata": {},
   "source": [
    "#### New Properties"
   ]
  },
  {
   "cell_type": "code",
   "execution_count": 13,
   "metadata": {},
   "outputs": [],
   "source": [
    "ddf_new_properties = ddf_new_properties.rename(columns={\n",
    "                        \"_id\": \"id_mongoose\", \n",
    "                        \"urlProperty\":\"id_property\",\n",
    "                        \"scrapingDate\": \"scraping_date\",\n",
    "                        \"scrapingHour\": \"scraping_hour\",\n",
    "                        \"modifyDate\": \"modify_date\",\n",
    "                        \"modifyHour\": \"modify_hour\",\n",
    "                        \"status\": \"active\",\n",
    "                        \"use\": \"new_property\",\n",
    "                        \"nameProject\": \"name_project\",\n",
    "                        \"offersType\": \"offers_type\",\n",
    "                        \"idOwnerProperty\": \"id_owner_property\",\n",
    "                        \"nameOwnerProperty\": \"name_owner_property\",\n",
    "                        \"contractType\": \"contract_type_owner_property\",\n",
    "                        \"financing\": \"financing_owner_property\",\n",
    "                        \"schedule\": \"schedule_owner_property\",\n",
    "                        \"bathrooms\": \"general_bathrooms\",\n",
    "                        \"rooms\": \"general_rooms\",\n",
    "                        \"price\": \"range_prices\",\n",
    "                        \"squareMeters\": \"range_square_meters\",\n",
    "                        \"constructionArea\": \"range_construction_area\",\n",
    "                        \"squareMetersPrice\": \"square_meters_price\",\n",
    "                        \"interiorFloors\": \"interior_floors\",\n",
    "                        \"includesAdministration\": \"includes_administration\",\n",
    "                        \"admonPrice\": \"admon_price\",\n",
    "                        \"interiorFeatures\": \"interior_features\",\n",
    "                        \"exteriorFeatures\": \"exterior_features\",\n",
    "                        \"sectorFeatures\": \"sector_features\",\n",
    "                        \"offerType\": \"offer_type\",\n",
    "                        \"privateArea\": \"range_private_area\",\n",
    "                        \"areaOfferType\": \"area\",\n",
    "                        \"bathroomsOfferType\": \"bathrooms\",\n",
    "                        \"priceOfferType\": \"price\",\n",
    "                        \"privateAreaOfferType\": \"private_area\",\n",
    "                        \"roomsOfferType\": \"rooms\"\n",
    "})"
   ]
  },
  {
   "cell_type": "markdown",
   "metadata": {},
   "source": [
    "#### Old Properties"
   ]
  },
  {
   "cell_type": "code",
   "execution_count": 14,
   "metadata": {},
   "outputs": [],
   "source": [
    "ddf_old_properties = ddf_old_properties.rename(columns={\n",
    "                        \"_id\": \"id_mongoose\", \n",
    "                        \"urlProperty\":\"id_property\",\n",
    "                        \"scrapingDate\": \"scraping_date\",\n",
    "                        \"scrapingHour\": \"scraping_hour\",\n",
    "                        \"modifyDate\": \"modify_date\",\n",
    "                        \"modifyHour\": \"modify_hour\",\n",
    "                        \"status\": \"active\",\n",
    "                        \"use\": \"new_property\",\n",
    "                        \"nameProject\": \"name_project\",\n",
    "                        \"offersType\": \"offers_type\",\n",
    "                        \"idOwnerProperty\": \"id_owner_property\",\n",
    "                        \"nameOwnerProperty\": \"name_owner_property\",\n",
    "                        \"contractType\": \"contract_type_owner_property\",\n",
    "                        \"financing\": \"financing_owner_property\",\n",
    "                        \"schedule\": \"schedule_owner_property\",\n",
    "                        \"squareMeters\": \"square_meters\",\n",
    "                        \"privateArea\": \"private_area\",\n",
    "                        \"constructionArea\": \"construction_area\",\n",
    "                        \"squareMetersPrice\": \"square_meters_price\",\n",
    "                        \"interiorFloors\": \"interior_floors\",\n",
    "                        \"includesAdministration\": \"includes_administration\",\n",
    "                        \"admonPrice\": \"admon_price\",\n",
    "                        \"offerType\": \"offer_type\",\n",
    "                        \"areaOfferType\": \"area\",\n",
    "                        \"bathroomsOfferType\": \"bathrooms\",\n",
    "                        \"priceOfferType\": \"price\",\n",
    "                        \"privateAreaOfferType\": \"private_area\",\n",
    "                        \"roomsOfferType\": \"rooms\"\n",
    "})"
   ]
  },
  {
   "cell_type": "markdown",
   "metadata": {},
   "source": [
    "### Data Cleaning"
   ]
  },
  {
   "cell_type": "markdown",
   "metadata": {},
   "source": [
    "#### New Properties"
   ]
  },
  {
   "cell_type": "code",
   "execution_count": 15,
   "metadata": {},
   "outputs": [],
   "source": [
    "ddf_new_properties['id_mongoose'] = ddf_new_properties['id_mongoose'].astype(str)\n",
    "ddf_new_properties['code'] = ddf_new_properties['code'].astype(int)\n",
    "ddf_new_properties['active'] = ddf_new_properties['active'].apply(lambda status: True if (status == 'Active') else False, meta=('active', 'bool'))\n",
    "ddf_new_properties['new_property'] = ddf_new_properties['new_property'].apply(lambda status: True if (status == 'Nuevo') else False, meta=('new_property', 'bool'))\n",
    "ddf_new_properties['includes_administration'] = ddf_new_properties['includes_administration'].apply(lambda status: True if (status == 'Nuevo') else False, meta=('includes_administration', 'bool'))\n",
    "ddf_new_properties['garages'] = ddf_new_properties['garages'].replace('', value = 0, regex = True).astype(int)\n",
    "ddf_new_properties['stratum'] = ddf_new_properties['stratum'].replace('', value = 0, regex = True).astype(int)\n",
    "ddf_new_properties['floor'] = ddf_new_properties['floor'].astype(int)\n",
    "ddf_new_properties['area'] = ddf_new_properties['area'].astype(float)\n",
    "ddf_new_properties['private_area'] = ddf_new_properties['private_area'].replace('', value = 0, regex = True)\n",
    "ddf_new_properties['private_area'] = ddf_new_properties['private_area'].astype(float)\n",
    "ddf_new_properties['rooms'] = ddf_new_properties['rooms'].astype(int)\n",
    "ddf_new_properties['bathrooms'] = ddf_new_properties['bathrooms'].astype(int)\n",
    "ddf_new_properties['price'] = ddf_new_properties['price'].apply(lambda price: Decimal(sub(r'[^\\d,]', '', price)), meta=('price', 'int'))\n",
    "ddf_new_properties['price'] = ddf_new_properties['price'].astype(int)"
   ]
  },
  {
   "cell_type": "markdown",
   "metadata": {},
   "source": [
    "#### Old Properties"
   ]
  },
  {
   "cell_type": "code",
   "execution_count": 16,
   "metadata": {},
   "outputs": [],
   "source": [
    "ddf_old_properties['id_mongoose'] = ddf_old_properties['id_mongoose'].astype(str)\n",
    "ddf_old_properties['code'] = ddf_old_properties['code'].astype(int)\n",
    "ddf_old_properties['active'] = ddf_old_properties['active'].apply(lambda status: True if (status == 'Active') else False, meta=('active', 'bool'))\n",
    "ddf_old_properties['new_property'] = ddf_old_properties['new_property'].apply(lambda status: True if (status == 'Nuevo') else False, meta=('new_property', 'bool'))\n",
    "ddf_old_properties['includes_administration'] = ddf_old_properties['includes_administration'].apply(lambda status: True if (status == 'Nuevo') else False, meta=('includes_administration', 'bool'))\n",
    "ddf_old_properties['garages'] = ddf_old_properties['garages'].replace('', value = 0, regex = True)\n",
    "ddf_old_properties['garages'] = ddf_old_properties['garages'].replace('Más de 10', value = 0, regex = True)\n",
    "ddf_old_properties['garages'] = ddf_old_properties['garages'].astype(int)\n",
    "ddf_old_properties['stratum'] = ddf_old_properties['stratum'].replace('', value = 0, regex = True)\n",
    "ddf_old_properties['stratum'] = ddf_old_properties['stratum'].replace('Campestre', value = 0, regex = True)\n",
    "ddf_old_properties['stratum'] = ddf_old_properties['stratum'].astype(int)\n",
    "ddf_old_properties['price'] = ddf_old_properties['price'].apply(lambda price: Decimal(sub(r'[^\\d,]', '', price)), meta=('price', 'int'))\n",
    "ddf_old_properties['price'] = ddf_old_properties['price'].astype(int)\n",
    "ddf_old_properties['square_meters'] = ddf_old_properties['square_meters'].str[0:-3]\n",
    "ddf_old_properties['square_meters'] = ddf_old_properties['square_meters'].apply(lambda meters: Decimal(sub(r'[^\\d,]', '', meters)), meta=('square_meters', 'float'))\n",
    "ddf_old_properties['square_meters'] = ddf_old_properties['square_meters'].astype(float)\n",
    "ddf_old_properties['private_area'] = ddf_old_properties['private_area'].str[0:-2]\n",
    "ddf_old_properties['private_area'] = ddf_old_properties['private_area'].replace('', value = '0', regex = True)\n",
    "ddf_old_properties['private_area'] = ddf_old_properties['private_area'].apply(lambda area: Decimal(sub(r'[^\\d.]', '', area)), meta=('private_area', 'float'))\n",
    "ddf_old_properties['private_area'] = ddf_old_properties['private_area'].astype(float)\n",
    "ddf_old_properties['construction_area'] = ddf_old_properties['construction_area'].str[0:-3]\n",
    "ddf_old_properties['construction_area'] = ddf_old_properties['construction_area'].apply(lambda area: Decimal(sub(r'[^\\d,]', '', area)), meta=('construction_area', 'float'))\n",
    "ddf_old_properties['construction_area'] = ddf_old_properties['construction_area'].astype(float)\n",
    "ddf_old_properties['floor'] = ddf_old_properties['floor'].astype(int)"
   ]
  },
  {
   "cell_type": "markdown",
   "metadata": {},
   "source": [
    "### Testing"
   ]
  },
  {
   "cell_type": "markdown",
   "metadata": {},
   "source": [
    "#### New Properties"
   ]
  },
  {
   "cell_type": "code",
   "execution_count": 17,
   "metadata": {},
   "outputs": [
    {
     "data": {
      "text/html": [
       "<div>\n",
       "<style scoped>\n",
       "    .dataframe tbody tr th:only-of-type {\n",
       "        vertical-align: middle;\n",
       "    }\n",
       "\n",
       "    .dataframe tbody tr th {\n",
       "        vertical-align: top;\n",
       "    }\n",
       "\n",
       "    .dataframe thead th {\n",
       "        text-align: right;\n",
       "    }\n",
       "</style>\n",
       "<table border=\"1\" class=\"dataframe\">\n",
       "  <thead>\n",
       "    <tr style=\"text-align: right;\">\n",
       "      <th></th>\n",
       "      <th>area</th>\n",
       "      <th>private_area</th>\n",
       "      <th>rooms</th>\n",
       "      <th>bathrooms</th>\n",
       "      <th>price</th>\n",
       "      <th>code</th>\n",
       "      <th>garages</th>\n",
       "      <th>stratum</th>\n",
       "      <th>floor</th>\n",
       "    </tr>\n",
       "  </thead>\n",
       "  <tbody>\n",
       "    <tr>\n",
       "      <td>count</td>\n",
       "      <td>3234.000000</td>\n",
       "      <td>3234.000000</td>\n",
       "      <td>3234.000000</td>\n",
       "      <td>3234.000000</td>\n",
       "      <td>3.234000e+03</td>\n",
       "      <td>3.234000e+03</td>\n",
       "      <td>3234.000000</td>\n",
       "      <td>3234.000000</td>\n",
       "      <td>3234.0</td>\n",
       "    </tr>\n",
       "    <tr>\n",
       "      <td>mean</td>\n",
       "      <td>82.776645</td>\n",
       "      <td>62.961645</td>\n",
       "      <td>2.432900</td>\n",
       "      <td>2.297155</td>\n",
       "      <td>5.053441e+08</td>\n",
       "      <td>2.780311e+06</td>\n",
       "      <td>0.858998</td>\n",
       "      <td>5.372913</td>\n",
       "      <td>0.0</td>\n",
       "    </tr>\n",
       "    <tr>\n",
       "      <td>std</td>\n",
       "      <td>22.394122</td>\n",
       "      <td>33.317993</td>\n",
       "      <td>0.843075</td>\n",
       "      <td>0.791900</td>\n",
       "      <td>1.647036e+08</td>\n",
       "      <td>5.620691e+05</td>\n",
       "      <td>0.436398</td>\n",
       "      <td>0.921655</td>\n",
       "      <td>0.0</td>\n",
       "    </tr>\n",
       "    <tr>\n",
       "      <td>min</td>\n",
       "      <td>41.750000</td>\n",
       "      <td>0.000000</td>\n",
       "      <td>1.000000</td>\n",
       "      <td>1.000000</td>\n",
       "      <td>2.062000e+08</td>\n",
       "      <td>1.518663e+06</td>\n",
       "      <td>0.000000</td>\n",
       "      <td>4.000000</td>\n",
       "      <td>0.0</td>\n",
       "    </tr>\n",
       "    <tr>\n",
       "      <td>25%</td>\n",
       "      <td>76.400000</td>\n",
       "      <td>56.130000</td>\n",
       "      <td>3.000000</td>\n",
       "      <td>2.000000</td>\n",
       "      <td>3.956325e+08</td>\n",
       "      <td>2.565842e+06</td>\n",
       "      <td>1.000000</td>\n",
       "      <td>6.000000</td>\n",
       "      <td>0.0</td>\n",
       "    </tr>\n",
       "  </tbody>\n",
       "</table>\n",
       "</div>"
      ],
      "text/plain": [
       "              area  private_area        rooms    bathrooms         price  \\\n",
       "count  3234.000000   3234.000000  3234.000000  3234.000000  3.234000e+03   \n",
       "mean     82.776645     62.961645     2.432900     2.297155  5.053441e+08   \n",
       "std      22.394122     33.317993     0.843075     0.791900  1.647036e+08   \n",
       "min      41.750000      0.000000     1.000000     1.000000  2.062000e+08   \n",
       "25%      76.400000     56.130000     3.000000     2.000000  3.956325e+08   \n",
       "\n",
       "               code      garages      stratum   floor  \n",
       "count  3.234000e+03  3234.000000  3234.000000  3234.0  \n",
       "mean   2.780311e+06     0.858998     5.372913     0.0  \n",
       "std    5.620691e+05     0.436398     0.921655     0.0  \n",
       "min    1.518663e+06     0.000000     4.000000     0.0  \n",
       "25%    2.565842e+06     1.000000     6.000000     0.0  "
      ]
     },
     "execution_count": 17,
     "metadata": {},
     "output_type": "execute_result"
    }
   ],
   "source": [
    "ddf_new_properties.describe().head()"
   ]
  },
  {
   "cell_type": "markdown",
   "metadata": {},
   "source": [
    "#### Old Properties"
   ]
  },
  {
   "cell_type": "code",
   "execution_count": 18,
   "metadata": {},
   "outputs": [
    {
     "data": {
      "text/html": [
       "<div>\n",
       "<style scoped>\n",
       "    .dataframe tbody tr th:only-of-type {\n",
       "        vertical-align: middle;\n",
       "    }\n",
       "\n",
       "    .dataframe tbody tr th {\n",
       "        vertical-align: top;\n",
       "    }\n",
       "\n",
       "    .dataframe thead th {\n",
       "        text-align: right;\n",
       "    }\n",
       "</style>\n",
       "<table border=\"1\" class=\"dataframe\">\n",
       "  <thead>\n",
       "    <tr style=\"text-align: right;\">\n",
       "      <th></th>\n",
       "      <th>code</th>\n",
       "      <th>latitude</th>\n",
       "      <th>longitude</th>\n",
       "      <th>id_owner_property</th>\n",
       "      <th>price</th>\n",
       "      <th>square_meters</th>\n",
       "      <th>rooms</th>\n",
       "      <th>bathrooms</th>\n",
       "      <th>garages</th>\n",
       "      <th>private_area</th>\n",
       "      <th>construction_area</th>\n",
       "      <th>square_meters_price</th>\n",
       "      <th>stratum</th>\n",
       "      <th>floor</th>\n",
       "      <th>interior_floors</th>\n",
       "      <th>admon_price</th>\n",
       "    </tr>\n",
       "  </thead>\n",
       "  <tbody>\n",
       "    <tr>\n",
       "      <td>count</td>\n",
       "      <td>1.558000e+03</td>\n",
       "      <td>1558.000000</td>\n",
       "      <td>1558.000000</td>\n",
       "      <td>1558.000000</td>\n",
       "      <td>1.558000e+03</td>\n",
       "      <td>1558.000000</td>\n",
       "      <td>1558.000000</td>\n",
       "      <td>1558.000000</td>\n",
       "      <td>1558.000000</td>\n",
       "      <td>1558.000000</td>\n",
       "      <td>1558.000000</td>\n",
       "      <td>1.558000e+03</td>\n",
       "      <td>1558.000000</td>\n",
       "      <td>1558.000000</td>\n",
       "      <td>1558.000000</td>\n",
       "      <td>1.558000e+03</td>\n",
       "    </tr>\n",
       "    <tr>\n",
       "      <td>mean</td>\n",
       "      <td>4.678477e+06</td>\n",
       "      <td>5.206960</td>\n",
       "      <td>-62.429049</td>\n",
       "      <td>493242.691271</td>\n",
       "      <td>3.319741e+08</td>\n",
       "      <td>219.950578</td>\n",
       "      <td>2.299101</td>\n",
       "      <td>2.380616</td>\n",
       "      <td>0.909499</td>\n",
       "      <td>90.163863</td>\n",
       "      <td>219.950578</td>\n",
       "      <td>4.298656e+06</td>\n",
       "      <td>4.862644</td>\n",
       "      <td>2.407574</td>\n",
       "      <td>0.050064</td>\n",
       "      <td>1.626652e+05</td>\n",
       "    </tr>\n",
       "    <tr>\n",
       "      <td>std</td>\n",
       "      <td>5.708427e+05</td>\n",
       "      <td>2.832496</td>\n",
       "      <td>28.787702</td>\n",
       "      <td>482790.588951</td>\n",
       "      <td>6.253754e+08</td>\n",
       "      <td>1852.562147</td>\n",
       "      <td>1.726781</td>\n",
       "      <td>1.541399</td>\n",
       "      <td>1.262634</td>\n",
       "      <td>117.573236</td>\n",
       "      <td>1852.562147</td>\n",
       "      <td>8.867612e+07</td>\n",
       "      <td>1.267297</td>\n",
       "      <td>4.328825</td>\n",
       "      <td>0.295649</td>\n",
       "      <td>1.840057e+06</td>\n",
       "    </tr>\n",
       "    <tr>\n",
       "      <td>min</td>\n",
       "      <td>8.224820e+05</td>\n",
       "      <td>-6.165193</td>\n",
       "      <td>-75.797394</td>\n",
       "      <td>28812.000000</td>\n",
       "      <td>4.000000e+05</td>\n",
       "      <td>1.000000</td>\n",
       "      <td>0.000000</td>\n",
       "      <td>0.000000</td>\n",
       "      <td>0.000000</td>\n",
       "      <td>0.000000</td>\n",
       "      <td>1.000000</td>\n",
       "      <td>2.667000e+01</td>\n",
       "      <td>0.000000</td>\n",
       "      <td>0.000000</td>\n",
       "      <td>0.000000</td>\n",
       "      <td>0.000000e+00</td>\n",
       "    </tr>\n",
       "    <tr>\n",
       "      <td>25%</td>\n",
       "      <td>4.820658e+06</td>\n",
       "      <td>6.201599</td>\n",
       "      <td>-75.581118</td>\n",
       "      <td>210587.000000</td>\n",
       "      <td>2.750000e+06</td>\n",
       "      <td>82.000000</td>\n",
       "      <td>2.000000</td>\n",
       "      <td>2.000000</td>\n",
       "      <td>0.000000</td>\n",
       "      <td>0.000000</td>\n",
       "      <td>82.000000</td>\n",
       "      <td>3.000000e+04</td>\n",
       "      <td>5.000000</td>\n",
       "      <td>0.000000</td>\n",
       "      <td>0.000000</td>\n",
       "      <td>0.000000e+00</td>\n",
       "    </tr>\n",
       "  </tbody>\n",
       "</table>\n",
       "</div>"
      ],
      "text/plain": [
       "               code     latitude    longitude  id_owner_property  \\\n",
       "count  1.558000e+03  1558.000000  1558.000000        1558.000000   \n",
       "mean   4.678477e+06     5.206960   -62.429049      493242.691271   \n",
       "std    5.708427e+05     2.832496    28.787702      482790.588951   \n",
       "min    8.224820e+05    -6.165193   -75.797394       28812.000000   \n",
       "25%    4.820658e+06     6.201599   -75.581118      210587.000000   \n",
       "\n",
       "              price  square_meters        rooms    bathrooms      garages  \\\n",
       "count  1.558000e+03    1558.000000  1558.000000  1558.000000  1558.000000   \n",
       "mean   3.319741e+08     219.950578     2.299101     2.380616     0.909499   \n",
       "std    6.253754e+08    1852.562147     1.726781     1.541399     1.262634   \n",
       "min    4.000000e+05       1.000000     0.000000     0.000000     0.000000   \n",
       "25%    2.750000e+06      82.000000     2.000000     2.000000     0.000000   \n",
       "\n",
       "       private_area  construction_area  square_meters_price      stratum  \\\n",
       "count   1558.000000        1558.000000         1.558000e+03  1558.000000   \n",
       "mean      90.163863         219.950578         4.298656e+06     4.862644   \n",
       "std      117.573236        1852.562147         8.867612e+07     1.267297   \n",
       "min        0.000000           1.000000         2.667000e+01     0.000000   \n",
       "25%        0.000000          82.000000         3.000000e+04     5.000000   \n",
       "\n",
       "             floor  interior_floors   admon_price  \n",
       "count  1558.000000      1558.000000  1.558000e+03  \n",
       "mean      2.407574         0.050064  1.626652e+05  \n",
       "std       4.328825         0.295649  1.840057e+06  \n",
       "min       0.000000         0.000000  0.000000e+00  \n",
       "25%       0.000000         0.000000  0.000000e+00  "
      ]
     },
     "execution_count": 18,
     "metadata": {},
     "output_type": "execute_result"
    }
   ],
   "source": [
    "ddf_old_properties.describe().head()"
   ]
  },
  {
   "cell_type": "code",
   "execution_count": null,
   "metadata": {},
   "outputs": [],
   "source": []
  }
 ],
 "metadata": {
  "file_extension": ".py",
  "kernelspec": {
   "display_name": "Python 3",
   "language": "python",
   "name": "python3"
  },
  "language_info": {
   "codemirror_mode": {
    "name": "ipython",
    "version": 3
   },
   "file_extension": ".py",
   "mimetype": "text/x-python",
   "name": "python",
   "nbconvert_exporter": "python",
   "pygments_lexer": "ipython3",
   "version": "3.7.3"
  },
  "mimetype": "text/x-python",
  "name": "python",
  "npconvert_exporter": "python",
  "pygments_lexer": "ipython3",
  "version": 3
 },
 "nbformat": 4,
 "nbformat_minor": 4
}
