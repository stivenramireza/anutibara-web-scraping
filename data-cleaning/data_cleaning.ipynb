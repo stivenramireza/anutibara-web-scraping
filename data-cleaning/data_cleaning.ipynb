{
 "cells": [
  {
   "cell_type": "markdown",
   "metadata": {},
   "source": [
    "## Data Preparation"
   ]
  },
  {
   "cell_type": "code",
   "execution_count": 2,
   "metadata": {},
   "outputs": [],
   "source": [
    "import pandas as pd \n",
    "from pandas.io.json import json_normalize\n",
    "import numpy as np \n",
    "from pymongo import MongoClient\n",
    "import json, ast"
   ]
  },
  {
   "cell_type": "markdown",
   "metadata": {},
   "source": [
    "### Database Connection"
   ]
  },
  {
   "cell_type": "code",
   "execution_count": 3,
   "metadata": {},
   "outputs": [
    {
     "name": "stdout",
     "output_type": "stream",
     "text": [
      "Database connected successfully\n"
     ]
    }
   ],
   "source": [
    "DB_USERNAME = 'anutibara'\n",
    "DB_PASSWORD = 'anutibara'\n",
    "DB_HOST = 'scraping-cluster-7dtgt.gcp.mongodb.net'\n",
    "DB_NAME = 'scraping_db'\n",
    "try:\n",
    "    client = MongoClient(f'mongodb+srv://{DB_USERNAME}:{DB_PASSWORD}@{DB_HOST}/{DB_NAME}')\n",
    "    print(\"Database connected successfully\")\n",
    "except Exception as e:\n",
    "    print(\"Error to connect to database: \", e)\n",
    "db = client.get_database('scraping_db')\n",
    "properties = db.properties"
   ]
  },
  {
   "cell_type": "markdown",
   "metadata": {},
   "source": [
    "### Database Queries"
   ]
  },
  {
   "cell_type": "markdown",
   "metadata": {},
   "source": [
    "##### Total Documents"
   ]
  },
  {
   "cell_type": "code",
   "execution_count": 4,
   "metadata": {},
   "outputs": [
    {
     "data": {
      "text/plain": [
       "34"
      ]
     },
     "execution_count": 4,
     "metadata": {},
     "output_type": "execute_result"
    }
   ],
   "source": [
    "properties.count_documents({})"
   ]
  },
  {
   "cell_type": "markdown",
   "metadata": {},
   "source": [
    "### Convert Mongo Collection to DataFrame"
   ]
  },
  {
   "cell_type": "code",
   "execution_count": 88,
   "metadata": {},
   "outputs": [],
   "source": [
    "json_documents = list(properties.find({}))\n",
    "df_general_info = pd.DataFrame(json_documents, columns=['_id', 'urlProperty', 'scrapingDate', 'modifyDate', 'code', 'status', 'type', 'use', 'nameProject', 'description'])\n",
    "df_location = json_normalize(json_documents, 'location')\n",
    "df_owner_property = json_normalize(json_documents, 'ownerProperty')\n",
    "df_features = json_normalize(json_documents, 'features')\n",
    "df_more_features = json_normalize(json_documents, 'moreFeatures')\n",
    "df_offers_type = json_normalize(json_documents, 'offersType')\n",
    "df = pd.concat([df_general_info, df_location, df_owner_property, df_features, df_more_features, df_offers_type], axis=1)"
   ]
  },
  {
   "cell_type": "markdown",
   "metadata": {},
   "source": [
    "### Rename DataFrame Columns "
   ]
  },
  {
   "cell_type": "code",
   "execution_count": 116,
   "metadata": {},
   "outputs": [],
   "source": [
    "df.columns = [\n",
    "                'Id_Mongoose', 'Id_Property', 'Scraping_Date', 'Modify_Date', 'Code', 'Active', 'Type', 'New_Property', \n",
    "                'Name_Project', 'Description', 'Address', 'City', 'Country', 'Department', 'Latitude', 'Longitude',\n",
    "                'Neighborhood', 'Sector', 'Contract_Type_Owner_Property', 'Financing_Owner_Property', 'Id_Owner_Property',\n",
    "                'Name_Owner_Property', 'Schedule_Owner_Property', 'Admon_Price', 'Antiquity', 'Bathrooms', 'Condition',\n",
    "                'Construction_Area', 'Floors', 'Garages', 'Includes_Administration', 'Interior_Floors', 'Price', 'Private_Area',\n",
    "                'Rooms', 'Square_Meters', 'Square_Meters_Price', 'Stratum', 'Weather', 'Exterior_Features', 'Interior_Features',\n",
    "                'Sector_Features', 'Area_Offers_Type', 'Bathrooms_Offers_Type', 'Transaction_Offers_Type', 'Price_Offers_Type',\n",
    "                'Private_Area_Offers_Type', 'Property_Offers_Type', 'Rooms_Offers_Type'\n",
    "             ]"
   ]
  },
  {
   "cell_type": "markdown",
   "metadata": {},
   "source": [
    "### Data Cleaning Methods"
   ]
  },
  {
   "cell_type": "code",
   "execution_count": 117,
   "metadata": {},
   "outputs": [],
   "source": [
    "def clean_status(status):\n",
    "    if(status == 'Active'):\n",
    "        return True\n",
    "    return False\n",
    "\n",
    "def clean_use(use_status):\n",
    "    if(use_status == 'Nuevo'):\n",
    "        return True\n",
    "    return False"
   ]
  },
  {
   "cell_type": "markdown",
   "metadata": {},
   "source": [
    "## Data Cleaning"
   ]
  },
  {
   "cell_type": "code",
   "execution_count": 120,
   "metadata": {},
   "outputs": [
    {
     "data": {
      "text/html": [
       "<div>\n",
       "<style scoped>\n",
       "    .dataframe tbody tr th:only-of-type {\n",
       "        vertical-align: middle;\n",
       "    }\n",
       "\n",
       "    .dataframe tbody tr th {\n",
       "        vertical-align: top;\n",
       "    }\n",
       "\n",
       "    .dataframe thead th {\n",
       "        text-align: right;\n",
       "    }\n",
       "</style>\n",
       "<table border=\"1\" class=\"dataframe\">\n",
       "  <thead>\n",
       "    <tr style=\"text-align: right;\">\n",
       "      <th></th>\n",
       "      <th>Id_Mongoose</th>\n",
       "      <th>Id_Property</th>\n",
       "      <th>Scraping_Date</th>\n",
       "      <th>Modify_Date</th>\n",
       "      <th>Code</th>\n",
       "      <th>Active</th>\n",
       "      <th>Type</th>\n",
       "      <th>New_Property</th>\n",
       "      <th>Name_Project</th>\n",
       "      <th>Description</th>\n",
       "      <th>...</th>\n",
       "      <th>Exterior_Features</th>\n",
       "      <th>Interior_Features</th>\n",
       "      <th>Sector_Features</th>\n",
       "      <th>Area_Offers_Type</th>\n",
       "      <th>Bathrooms_Offers_Type</th>\n",
       "      <th>Transaction_Offers_Type</th>\n",
       "      <th>Price_Offers_Type</th>\n",
       "      <th>Private_Area_Offers_Type</th>\n",
       "      <th>Property_Offers_Type</th>\n",
       "      <th>Rooms_Offers_Type</th>\n",
       "    </tr>\n",
       "  </thead>\n",
       "  <tbody>\n",
       "    <tr>\n",
       "      <th>0</th>\n",
       "      <td>5db1aebc3fa8955315cf92c6</td>\n",
       "      <td>https://www.fincaraiz.com.co/bosston-lives/med...</td>\n",
       "      <td>10/24/2019 09:00:58 AM</td>\n",
       "      <td>10/9/2019 2:21:13 PM</td>\n",
       "      <td>4981342.0</td>\n",
       "      <td>False</td>\n",
       "      <td>Venta</td>\n",
       "      <td>False</td>\n",
       "      <td>BOSSTON LIVES</td>\n",
       "      <td>Boston es un sector tranquilo donde se pueden ...</td>\n",
       "      <td>...</td>\n",
       "      <td>[Ascensor, Salón de Juegos]</td>\n",
       "      <td>[Balcón, Comedor]</td>\n",
       "      <td>[Cerca centro comercial, Cómodas vias de acces...</td>\n",
       "      <td>58.50</td>\n",
       "      <td>2</td>\n",
       "      <td>Venta</td>\n",
       "      <td>246.925.000</td>\n",
       "      <td></td>\n",
       "      <td>Apartamento</td>\n",
       "      <td>2</td>\n",
       "    </tr>\n",
       "    <tr>\n",
       "      <th>1</th>\n",
       "      <td>5db1aebccc8b1ab334cf92c6</td>\n",
       "      <td>https://www.fincaraiz.com.co/apartamento-en-ve...</td>\n",
       "      <td>10/24/2019 09:00:58 AM</td>\n",
       "      <td>10/24/2019 6:17:38 AM</td>\n",
       "      <td>5024650.0</td>\n",
       "      <td>False</td>\n",
       "      <td>Venta</td>\n",
       "      <td>False</td>\n",
       "      <td>Apartamento en Venta - Medellín La América</td>\n",
       "      <td>Apartamento ubicado en la América (Medellín / ...</td>\n",
       "      <td>...</td>\n",
       "      <td>[]</td>\n",
       "      <td>[Balcón, Barra estilo americano, Calentador, C...</td>\n",
       "      <td>[Colegios / Universidades, Parques cercanos, S...</td>\n",
       "      <td>64.15</td>\n",
       "      <td>2</td>\n",
       "      <td>Venta</td>\n",
       "      <td>252.487.000</td>\n",
       "      <td></td>\n",
       "      <td>Apartamento</td>\n",
       "      <td>3</td>\n",
       "    </tr>\n",
       "  </tbody>\n",
       "</table>\n",
       "<p>2 rows × 49 columns</p>\n",
       "</div>"
      ],
      "text/plain": [
       "                Id_Mongoose  \\\n",
       "0  5db1aebc3fa8955315cf92c6   \n",
       "1  5db1aebccc8b1ab334cf92c6   \n",
       "\n",
       "                                         Id_Property           Scraping_Date  \\\n",
       "0  https://www.fincaraiz.com.co/bosston-lives/med...  10/24/2019 09:00:58 AM   \n",
       "1  https://www.fincaraiz.com.co/apartamento-en-ve...  10/24/2019 09:00:58 AM   \n",
       "\n",
       "             Modify_Date       Code  Active   Type  New_Property  \\\n",
       "0   10/9/2019 2:21:13 PM  4981342.0   False  Venta         False   \n",
       "1  10/24/2019 6:17:38 AM  5024650.0   False  Venta         False   \n",
       "\n",
       "                                 Name_Project  \\\n",
       "0                               BOSSTON LIVES   \n",
       "1  Apartamento en Venta - Medellín La América   \n",
       "\n",
       "                                         Description  ...  \\\n",
       "0  Boston es un sector tranquilo donde se pueden ...  ...   \n",
       "1  Apartamento ubicado en la América (Medellín / ...  ...   \n",
       "\n",
       "             Exterior_Features  \\\n",
       "0  [Ascensor, Salón de Juegos]   \n",
       "1                           []   \n",
       "\n",
       "                                   Interior_Features  \\\n",
       "0                                  [Balcón, Comedor]   \n",
       "1  [Balcón, Barra estilo americano, Calentador, C...   \n",
       "\n",
       "                                     Sector_Features Area_Offers_Type  \\\n",
       "0  [Cerca centro comercial, Cómodas vias de acces...            58.50   \n",
       "1  [Colegios / Universidades, Parques cercanos, S...            64.15   \n",
       "\n",
       "   Bathrooms_Offers_Type  Transaction_Offers_Type Price_Offers_Type  \\\n",
       "0                      2                    Venta       246.925.000   \n",
       "1                      2                    Venta       252.487.000   \n",
       "\n",
       "  Private_Area_Offers_Type Property_Offers_Type Rooms_Offers_Type  \n",
       "0                                   Apartamento                 2  \n",
       "1                                   Apartamento                 3  \n",
       "\n",
       "[2 rows x 49 columns]"
      ]
     },
     "execution_count": 120,
     "metadata": {},
     "output_type": "execute_result"
    }
   ],
   "source": [
    "df['Active'] = df['Active'].apply(clean_status)\n",
    "df['New_Property'] = df['New_Property'].apply(clean_use)\n",
    "df.head(2)"
   ]
  },
  {
   "cell_type": "code",
   "execution_count": null,
   "metadata": {},
   "outputs": [],
   "source": []
  }
 ],
 "metadata": {
  "file_extension": ".py",
  "kernelspec": {
   "display_name": "Python 3",
   "language": "python",
   "name": "python3"
  },
  "language_info": {
   "codemirror_mode": {
    "name": "ipython",
    "version": 3
   },
   "file_extension": ".py",
   "mimetype": "text/x-python",
   "name": "python",
   "nbconvert_exporter": "python",
   "pygments_lexer": "ipython3",
   "version": "3.7.3"
  },
  "mimetype": "text/x-python",
  "name": "python",
  "npconvert_exporter": "python",
  "pygments_lexer": "ipython3",
  "version": 3
 },
 "nbformat": 4,
 "nbformat_minor": 4
}
