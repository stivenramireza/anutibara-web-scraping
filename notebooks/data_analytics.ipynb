{
 "cells": [
  {
   "cell_type": "markdown",
   "metadata": {},
   "source": [
    "## Data Analytics"
   ]
  },
  {
   "cell_type": "code",
   "execution_count": 1,
   "metadata": {},
   "outputs": [],
   "source": [
    "import pandas as pd\n",
    "import numpy as np\n",
    "from pandas.io.json import json_normalize\n",
    "from pymongo import MongoClient\n",
    "import json, re\n",
    "from re import sub\n",
    "from decimal import Decimal\n",
    "import dask.dataframe as dd\n",
    "from dask.distributed import Client, progress\n",
    "import dask.dataframe as dd\n",
    "from dask.delayed import delayed"
   ]
  },
  {
   "cell_type": "markdown",
   "metadata": {},
   "source": [
    "### Dask Client"
   ]
  },
  {
   "cell_type": "code",
   "execution_count": 3,
   "metadata": {},
   "outputs": [
    {
     "data": {
      "text/html": [
       "<table style=\"border: 2px solid white;\">\n",
       "<tr>\n",
       "<td style=\"vertical-align: top; border: 0px solid white\">\n",
       "<h3 style=\"text-align: left;\">Client</h3>\n",
       "<ul style=\"text-align: left; list-style: none; margin: 0; padding: 0;\">\n",
       "  <li><b>Scheduler: </b>tcp://127.0.0.1:37589</li>\n",
       "  <li><b>Dashboard: </b><a href='http://127.0.0.1:37195/status' target='_blank'>http://127.0.0.1:37195/status</a>\n",
       "</ul>\n",
       "</td>\n",
       "<td style=\"vertical-align: top; border: 0px solid white\">\n",
       "<h3 style=\"text-align: left;\">Cluster</h3>\n",
       "<ul style=\"text-align: left; list-style:none; margin: 0; padding: 0;\">\n",
       "  <li><b>Workers: </b>4</li>\n",
       "  <li><b>Cores: </b>4</li>\n",
       "  <li><b>Memory: </b>16.63 GB</li>\n",
       "</ul>\n",
       "</td>\n",
       "</tr>\n",
       "</table>"
      ],
      "text/plain": [
       "<Client: 'tcp://127.0.0.1:37589' processes=4 threads=4, memory=16.63 GB>"
      ]
     },
     "execution_count": 3,
     "metadata": {},
     "output_type": "execute_result"
    }
   ],
   "source": [
    "client = Client(n_workers=4, threads_per_worker=1)\n",
    "client"
   ]
  },
  {
   "cell_type": "markdown",
   "metadata": {},
   "source": [
    "### Database Connection"
   ]
  },
  {
   "cell_type": "code",
   "execution_count": 4,
   "metadata": {},
   "outputs": [
    {
     "name": "stdout",
     "output_type": "stream",
     "text": [
      "Database connected successfully\n"
     ]
    }
   ],
   "source": [
    "DB_USER = 'anutibara'\n",
    "DB_PASS = 'anutibara'\n",
    "DB_HOST = 'scraping-cluster-7dtgt.gcp.mongodb.net'\n",
    "DB_NAME = 'test_scraping_db'\n",
    "\n",
    "try:\n",
    "    client = MongoClient(f'mongodb+srv://{DB_USER}:{DB_PASS}@{DB_HOST}/{DB_NAME}')\n",
    "    print(\"Database connected successfully\")\n",
    "except Exception as e:\n",
    "    print(\"Error to connect to database: \", e)\n",
    "db = client.get_database(DB_NAME)\n",
    "properties = db.properties"
   ]
  },
  {
   "cell_type": "markdown",
   "metadata": {},
   "source": [
    "### Database Queries"
   ]
  },
  {
   "cell_type": "code",
   "execution_count": 4,
   "metadata": {},
   "outputs": [
    {
     "data": {
      "text/plain": [
       "46486"
      ]
     },
     "execution_count": 4,
     "metadata": {},
     "output_type": "execute_result"
    }
   ],
   "source": [
    "properties.count_documents({})"
   ]
  },
  {
   "cell_type": "markdown",
   "metadata": {},
   "source": [
    "### Convert Mongo Collection to DataFrame"
   ]
  },
  {
   "cell_type": "markdown",
   "metadata": {},
   "source": [
    "#### New Properties"
   ]
  },
  {
   "cell_type": "code",
   "execution_count": 5,
   "metadata": {},
   "outputs": [],
   "source": [
    "new_properties_json = list(properties.find({ 'use': 'Nuevo' }))"
   ]
  },
  {
   "cell_type": "code",
   "execution_count": 6,
   "metadata": {},
   "outputs": [],
   "source": [
    "df_new_properties = json_normalize(new_properties_json, record_path='offersType', \n",
    "                                meta=['_id', \n",
    "                                    'urlProperty',\n",
    "                                    'scrapingDate', \n",
    "                                    'scrapingHour', \n",
    "                                    'modifyDate',\n",
    "                                    'modifyHour', \n",
    "                                    'code', \n",
    "                                    'status', \n",
    "                                    'type', \n",
    "                                    'use', \n",
    "                                    'nameProject', \n",
    "                                    'description',\n",
    "                                     'country',\n",
    "                                     'department',\n",
    "                                     'city',\n",
    "                                     'sector',\n",
    "                                     'neighborhood',\n",
    "                                     'address',\n",
    "                                     'latitude',\n",
    "                                     'longitude',\n",
    "                                     'idOwnerProperty',\n",
    "                                     'nameOwnerProperty',\n",
    "                                     'contractType',\n",
    "                                     'financing',\n",
    "                                     'schedule',\n",
    "                                     'price',\n",
    "                                     'squareMeters',\n",
    "                                     'rooms',\n",
    "                                     'bathrooms',\n",
    "                                     'garages',\n",
    "                                     'privateArea',\n",
    "                                     'constructionArea',\n",
    "                                     'squareMetersPrice',\n",
    "                                     'stratum',\n",
    "                                     'condition',\n",
    "                                     'antiquity',\n",
    "                                     'floor',\n",
    "                                     'interiorFloors',\n",
    "                                     'weather',\n",
    "                                     'includesAdministration',\n",
    "                                     'admonPrice',\n",
    "                                     'interiorFeatures',\n",
    "                                     'exteriorFeatures',\n",
    "                                     'sectorFeatures'])\n",
    "ddf_new_properties = dd.from_pandas(df_new_properties, npartitions=10)"
   ]
  },
  {
   "cell_type": "code",
   "execution_count": 7,
   "metadata": {},
   "outputs": [],
   "source": [
    "ddf_new_properties = ddf_new_properties.loc[:,~ddf_new_properties.columns.duplicated(keep='first')]"
   ]
  },
  {
   "cell_type": "code",
   "execution_count": 8,
   "metadata": {},
   "outputs": [],
   "source": [
    "ddf_new_properties = ddf_new_properties.dropna()"
   ]
  },
  {
   "cell_type": "markdown",
   "metadata": {},
   "source": [
    "#### Old Properties"
   ]
  },
  {
   "cell_type": "code",
   "execution_count": 9,
   "metadata": {},
   "outputs": [],
   "source": [
    "old_properties_json = list(properties.find({ 'use': 'Usado' }))"
   ]
  },
  {
   "cell_type": "code",
   "execution_count": 95,
   "metadata": {},
   "outputs": [],
   "source": [
    "df_old_properties = pd.DataFrame(old_properties_json, \n",
    "                                    columns=['_id', \n",
    "                                    'urlProperty', \n",
    "                                    'scrapingDate', \n",
    "                                    'scrapingHour', \n",
    "                                    'modifyDate',\n",
    "                                    'modifyHour', \n",
    "                                    'code', \n",
    "                                    'status', \n",
    "                                    'type', \n",
    "                                    'use', \n",
    "                                    'nameProject', \n",
    "                                    'description',\n",
    "                                    'country',\n",
    "                                     'department',\n",
    "                                     'city',\n",
    "                                     'sector',\n",
    "                                     'neighborhood',\n",
    "                                     'address',\n",
    "                                     'latitude',\n",
    "                                     'longitude',\n",
    "                                     'idOwnerProperty',\n",
    "                                     'nameOwnerProperty',\n",
    "                                     'contractType',\n",
    "                                     'financing',\n",
    "                                     'schedule',\n",
    "                                     'price',\n",
    "                                     'squareMeters',\n",
    "                                     'rooms',\n",
    "                                     'bathrooms',\n",
    "                                     'garages',\n",
    "                                     'privateArea',\n",
    "                                     'constructionArea',\n",
    "                                     'squareMetersPrice',\n",
    "                                     'stratum',\n",
    "                                     'condition',\n",
    "                                     'antiquity',\n",
    "                                     'floor',\n",
    "                                     'interiorFloors',\n",
    "                                     'weather',\n",
    "                                     'includesAdministration',\n",
    "                                     'admonPrice',\n",
    "                                     'interiorFeatures',\n",
    "                                     'exteriorFeatures',\n",
    "                                     'sectorFeatures'])\n",
    "ddf_old_properties = dd.from_pandas(df_old_properties, npartitions=10)"
   ]
  },
  {
   "cell_type": "code",
   "execution_count": 96,
   "metadata": {},
   "outputs": [],
   "source": [
    "ddf_old_properties = ddf_old_properties.loc[:,~ddf_old_properties.columns.duplicated(keep='first')]"
   ]
  },
  {
   "cell_type": "code",
   "execution_count": 97,
   "metadata": {},
   "outputs": [],
   "source": [
    "ddf_old_properties = ddf_old_properties.dropna()"
   ]
  },
  {
   "cell_type": "markdown",
   "metadata": {},
   "source": [
    "### Rename DataFrame Columns"
   ]
  },
  {
   "cell_type": "markdown",
   "metadata": {},
   "source": [
    "#### New Properties"
   ]
  },
  {
   "cell_type": "code",
   "execution_count": 13,
   "metadata": {},
   "outputs": [],
   "source": [
    "ddf_new_properties = ddf_new_properties.rename(columns={\n",
    "                        \"_id\": \"id_mongoose\", \n",
    "                        \"urlProperty\":\"id_property\",\n",
    "                        \"scrapingDate\": \"scraping_date\",\n",
    "                        \"scrapingHour\": \"scraping_hour\",\n",
    "                        \"modifyDate\": \"modify_date\",\n",
    "                        \"modifyHour\": \"modify_hour\",\n",
    "                        \"status\": \"active\",\n",
    "                        \"use\": \"new_property\",\n",
    "                        \"nameProject\": \"name_project\",\n",
    "                        \"offersType\": \"offers_type\",\n",
    "                        \"idOwnerProperty\": \"id_owner_property\",\n",
    "                        \"nameOwnerProperty\": \"name_owner_property\",\n",
    "                        \"contractType\": \"contract_type_owner_property\",\n",
    "                        \"financing\": \"financing_owner_property\",\n",
    "                        \"schedule\": \"schedule_owner_property\",\n",
    "                        \"squareMetersPrice\": \"square_meters_price\",\n",
    "                        \"interiorFloors\": \"interior_floors\",\n",
    "                        \"includesAdministration\": \"includes_administration\",\n",
    "                        \"admonPrice\": \"admon_price\",\n",
    "                        \"interiorFeatures\": \"interior_features\",\n",
    "                        \"exteriorFeatures\": \"exterior_features\",\n",
    "                        \"sectorFeatures\": \"sector_features\",\n",
    "                        \"bathrooms\": \"general_bathrooms\",\n",
    "                        \"rooms\": \"general_rooms\",\n",
    "                        \"price\": \"range_prices\",\n",
    "                        \"squareMeters\": \"range_square_meters\",\n",
    "                        \"constructionArea\": \"range_construction_area\",\n",
    "                        \"offerType\": \"offer_type\",\n",
    "                        \"privateArea\": \"range_private_area\",\n",
    "                        \"areaOfferType\": \"area\",\n",
    "                        \"bathroomsOfferType\": \"bathrooms\",\n",
    "                        \"priceOfferType\": \"price\",\n",
    "                        \"privateAreaOfferType\": \"private_area\",\n",
    "                        \"roomsOfferType\": \"rooms\"\n",
    "})"
   ]
  },
  {
   "cell_type": "markdown",
   "metadata": {},
   "source": [
    "#### Old Properties"
   ]
  },
  {
   "cell_type": "code",
   "execution_count": 98,
   "metadata": {},
   "outputs": [],
   "source": [
    "ddf_old_properties = ddf_old_properties.rename(columns={\n",
    "                        \"_id\": \"id_mongoose\", \n",
    "                        \"urlProperty\":\"id_property\",\n",
    "                        \"scrapingDate\": \"scraping_date\",\n",
    "                        \"scrapingHour\": \"scraping_hour\",\n",
    "                        \"modifyDate\": \"modify_date\",\n",
    "                        \"modifyHour\": \"modify_hour\",\n",
    "                        \"status\": \"active\",\n",
    "                        \"use\": \"new_property\",\n",
    "                        \"nameProject\": \"name_project\",\n",
    "                        \"offersType\": \"offers_type\",\n",
    "                        \"idOwnerProperty\": \"id_owner_property\",\n",
    "                        \"nameOwnerProperty\": \"name_owner_property\",\n",
    "                        \"contractType\": \"contract_type_owner_property\",\n",
    "                        \"financing\": \"financing_owner_property\",\n",
    "                        \"schedule\": \"schedule_owner_property\",\n",
    "                        \"squareMeters\": \"square_meters\",\n",
    "                        \"privateArea\": \"private_area\",\n",
    "                        \"constructionArea\": \"construction_area\",\n",
    "                        \"squareMetersPrice\": \"square_meters_price\",\n",
    "                        \"interiorFloors\": \"interior_floors\",\n",
    "                        \"includesAdministration\": \"includes_administration\",\n",
    "                        \"admonPrice\": \"admon_price\",\n",
    "                        \"offerType\": \"offer_type\",\n",
    "                        \"areaOfferType\": \"area\",\n",
    "                        \"bathroomsOfferType\": \"bathrooms\",\n",
    "                        \"priceOfferType\": \"price\",\n",
    "                        \"privateAreaOfferType\": \"private_area\",\n",
    "                        \"roomsOfferType\": \"rooms\"\n",
    "})"
   ]
  },
  {
   "cell_type": "markdown",
   "metadata": {},
   "source": [
    "### Data Cleaning"
   ]
  },
  {
   "cell_type": "markdown",
   "metadata": {},
   "source": [
    "#### New Properties"
   ]
  },
  {
   "cell_type": "code",
   "execution_count": 15,
   "metadata": {},
   "outputs": [],
   "source": [
    "ddf_new_properties['id_mongoose'] = ddf_new_properties['id_mongoose'].astype(str)\n",
    "ddf_new_properties['code'] = ddf_new_properties['code'].astype(int)\n",
    "ddf_new_properties['active'] = ddf_new_properties['active'].apply(lambda status: True if (status == 'Active') else False, meta=('active', 'bool'))\n",
    "ddf_new_properties['new_property'] = ddf_new_properties['new_property'].apply(lambda status: True if (status == 'Nuevo') else False, meta=('new_property', 'bool'))\n",
    "ddf_new_properties['includes_administration'] = ddf_new_properties['includes_administration'].apply(lambda status: True if (status == 'Nuevo') else False, meta=('includes_administration', 'bool'))\n",
    "ddf_new_properties['garages'] = ddf_new_properties['garages'].replace('', value = 0, regex = True).astype(int)\n",
    "ddf_new_properties['stratum'] = ddf_new_properties['stratum'].replace('', value = 0, regex = True).astype(int)\n",
    "ddf_new_properties['floor'] = ddf_new_properties['floor'].astype(int)\n",
    "ddf_new_properties['area'] = ddf_new_properties['area'].astype(float)\n",
    "ddf_new_properties['private_area'] = ddf_new_properties['private_area'].replace('', value = 0, regex = True)\n",
    "ddf_new_properties['private_area'] = ddf_new_properties['private_area'].astype(float)\n",
    "ddf_new_properties['rooms'] = ddf_new_properties['rooms'].astype(int)\n",
    "ddf_new_properties['bathrooms'] = ddf_new_properties['bathrooms'].astype(int)\n",
    "ddf_new_properties['price'] = ddf_new_properties['price'].apply(lambda price: Decimal(sub(r'[^\\d,]', '', price)), meta=('price', 'int'))\n",
    "ddf_new_properties['price'] = ddf_new_properties['price'].astype(int)"
   ]
  },
  {
   "cell_type": "markdown",
   "metadata": {},
   "source": [
    "#### Old Properties"
   ]
  },
  {
   "cell_type": "code",
   "execution_count": 99,
   "metadata": {},
   "outputs": [],
   "source": [
    "ddf_old_properties['id_mongoose'] = ddf_old_properties['id_mongoose'].astype(str)\n",
    "ddf_old_properties['code'] = ddf_old_properties['code'].astype(int)\n",
    "ddf_old_properties['active'] = ddf_old_properties['active'].apply(lambda status: True if (status == 'Active') else False, meta=('active', 'bool'))\n",
    "ddf_old_properties['new_property'] = ddf_old_properties['new_property'].apply(lambda status: True if (status == 'Nuevo') else False, meta=('new_property', 'bool'))\n",
    "ddf_old_properties['includes_administration'] = ddf_old_properties['includes_administration'].apply(lambda status: True if (status == 'Nuevo') else False, meta=('includes_administration', 'bool'))\n",
    "ddf_old_properties['garages'] = ddf_old_properties['garages'].replace('', value = 0, regex = True)\n",
    "ddf_old_properties['garages'] = ddf_old_properties['garages'].replace('Más de 10', value = 0, regex = True)\n",
    "ddf_old_properties['garages'] = ddf_old_properties['garages'].astype(int)\n",
    "ddf_old_properties['stratum'] = ddf_old_properties['stratum'].replace('', value = 0, regex = True)\n",
    "ddf_old_properties['stratum'] = ddf_old_properties['stratum'].replace('Campestre', value = 0, regex = True)\n",
    "ddf_old_properties['stratum'] = ddf_old_properties['stratum'].astype(int)\n",
    "ddf_old_properties['price'] = ddf_old_properties['price'].apply(lambda price: Decimal(sub(r'[^\\d,]', '', price)), meta=('price', 'int'))\n",
    "ddf_old_properties['price'] = ddf_old_properties['price'].astype(int)\n",
    "ddf_old_properties['square_meters'] = ddf_old_properties['square_meters'].str[0:-3]\n",
    "ddf_old_properties['square_meters'] = ddf_old_properties['square_meters'].replace('', value = '0', regex = True)\n",
    "ddf_old_properties['square_meters'] = ddf_old_properties['square_meters'].apply(lambda meters: Decimal(sub(r'[^\\d,]', '', meters)), meta=('square_meters', 'float'))\n",
    "ddf_old_properties['square_meters'] = ddf_old_properties['square_meters'].astype(float)\n",
    "ddf_old_properties['private_area'] = ddf_old_properties['private_area'].str[0:-3]\n",
    "ddf_old_properties['private_area'] = ddf_old_properties['private_area'].replace('', value = '0', regex = True)\n",
    "ddf_old_properties['private_area'] = ddf_old_properties['private_area'].apply(lambda area: Decimal(sub(r'[^\\d,]', '', area)), meta=('private_area', 'float'))\n",
    "ddf_old_properties['private_area'] = ddf_old_properties['private_area'].astype(float)\n",
    "ddf_old_properties['construction_area'] = ddf_old_properties['construction_area'].str[0:-3]\n",
    "ddf_old_properties['construction_area'] = ddf_old_properties['construction_area'].replace('', value = '0', regex = True)\n",
    "ddf_old_properties['construction_area'] = ddf_old_properties['construction_area'].apply(lambda area: Decimal(sub(r'[^\\d,]', '', area)), meta=('construction_area', 'float'))\n",
    "ddf_old_properties['construction_area'] = ddf_old_properties['construction_area'].astype(float)\n",
    "ddf_old_properties['floor'] = ddf_old_properties['floor'].astype(int)"
   ]
  },
  {
   "cell_type": "markdown",
   "metadata": {},
   "source": [
    "### Testing"
   ]
  },
  {
   "cell_type": "markdown",
   "metadata": {},
   "source": [
    "#### New Properties"
   ]
  },
  {
   "cell_type": "code",
   "execution_count": 18,
   "metadata": {},
   "outputs": [
    {
     "data": {
      "text/html": [
       "<div>\n",
       "<style scoped>\n",
       "    .dataframe tbody tr th:only-of-type {\n",
       "        vertical-align: middle;\n",
       "    }\n",
       "\n",
       "    .dataframe tbody tr th {\n",
       "        vertical-align: top;\n",
       "    }\n",
       "\n",
       "    .dataframe thead th {\n",
       "        text-align: right;\n",
       "    }\n",
       "</style>\n",
       "<table border=\"1\" class=\"dataframe\">\n",
       "  <thead>\n",
       "    <tr style=\"text-align: right;\">\n",
       "      <th></th>\n",
       "      <th>area</th>\n",
       "      <th>private_area</th>\n",
       "      <th>rooms</th>\n",
       "      <th>bathrooms</th>\n",
       "      <th>price</th>\n",
       "      <th>code</th>\n",
       "      <th>garages</th>\n",
       "      <th>stratum</th>\n",
       "      <th>floor</th>\n",
       "    </tr>\n",
       "  </thead>\n",
       "  <tbody>\n",
       "    <tr>\n",
       "      <td>count</td>\n",
       "      <td>78681.000000</td>\n",
       "      <td>78681.000000</td>\n",
       "      <td>78681.000000</td>\n",
       "      <td>78681.000000</td>\n",
       "      <td>7.868100e+04</td>\n",
       "      <td>7.868100e+04</td>\n",
       "      <td>78681.000000</td>\n",
       "      <td>78681.00000</td>\n",
       "      <td>78681.0</td>\n",
       "    </tr>\n",
       "    <tr>\n",
       "      <td>mean</td>\n",
       "      <td>81.999844</td>\n",
       "      <td>61.294816</td>\n",
       "      <td>2.456502</td>\n",
       "      <td>2.267511</td>\n",
       "      <td>4.952768e+08</td>\n",
       "      <td>2.855213e+06</td>\n",
       "      <td>0.823617</td>\n",
       "      <td>5.32478</td>\n",
       "      <td>0.0</td>\n",
       "    </tr>\n",
       "    <tr>\n",
       "      <td>std</td>\n",
       "      <td>22.080716</td>\n",
       "      <td>33.119092</td>\n",
       "      <td>0.822916</td>\n",
       "      <td>0.776018</td>\n",
       "      <td>1.723553e+08</td>\n",
       "      <td>6.298648e+05</td>\n",
       "      <td>0.502335</td>\n",
       "      <td>0.94187</td>\n",
       "      <td>0.0</td>\n",
       "    </tr>\n",
       "    <tr>\n",
       "      <td>min</td>\n",
       "      <td>41.750000</td>\n",
       "      <td>0.000000</td>\n",
       "      <td>1.000000</td>\n",
       "      <td>1.000000</td>\n",
       "      <td>2.062000e+08</td>\n",
       "      <td>1.518663e+06</td>\n",
       "      <td>0.000000</td>\n",
       "      <td>4.00000</td>\n",
       "      <td>0.0</td>\n",
       "    </tr>\n",
       "    <tr>\n",
       "      <td>25%</td>\n",
       "      <td>68.740000</td>\n",
       "      <td>41.760000</td>\n",
       "      <td>2.000000</td>\n",
       "      <td>2.000000</td>\n",
       "      <td>3.462501e+08</td>\n",
       "      <td>2.565842e+06</td>\n",
       "      <td>1.000000</td>\n",
       "      <td>6.00000</td>\n",
       "      <td>0.0</td>\n",
       "    </tr>\n",
       "  </tbody>\n",
       "</table>\n",
       "</div>"
      ],
      "text/plain": [
       "               area  private_area         rooms     bathrooms         price  \\\n",
       "count  78681.000000  78681.000000  78681.000000  78681.000000  7.868100e+04   \n",
       "mean      81.999844     61.294816      2.456502      2.267511  4.952768e+08   \n",
       "std       22.080716     33.119092      0.822916      0.776018  1.723553e+08   \n",
       "min       41.750000      0.000000      1.000000      1.000000  2.062000e+08   \n",
       "25%       68.740000     41.760000      2.000000      2.000000  3.462501e+08   \n",
       "\n",
       "               code       garages      stratum    floor  \n",
       "count  7.868100e+04  78681.000000  78681.00000  78681.0  \n",
       "mean   2.855213e+06      0.823617      5.32478      0.0  \n",
       "std    6.298648e+05      0.502335      0.94187      0.0  \n",
       "min    1.518663e+06      0.000000      4.00000      0.0  \n",
       "25%    2.565842e+06      1.000000      6.00000      0.0  "
      ]
     },
     "execution_count": 18,
     "metadata": {},
     "output_type": "execute_result"
    }
   ],
   "source": [
    "ddf_new_properties.describe().head()"
   ]
  },
  {
   "cell_type": "markdown",
   "metadata": {},
   "source": [
    "#### Old Properties"
   ]
  },
  {
   "cell_type": "code",
   "execution_count": 101,
   "metadata": {},
   "outputs": [
    {
     "data": {
      "text/html": [
       "<div>\n",
       "<style scoped>\n",
       "    .dataframe tbody tr th:only-of-type {\n",
       "        vertical-align: middle;\n",
       "    }\n",
       "\n",
       "    .dataframe tbody tr th {\n",
       "        vertical-align: top;\n",
       "    }\n",
       "\n",
       "    .dataframe thead th {\n",
       "        text-align: right;\n",
       "    }\n",
       "</style>\n",
       "<table border=\"1\" class=\"dataframe\">\n",
       "  <thead>\n",
       "    <tr style=\"text-align: right;\">\n",
       "      <th></th>\n",
       "      <th>code</th>\n",
       "      <th>latitude</th>\n",
       "      <th>longitude</th>\n",
       "      <th>id_owner_property</th>\n",
       "      <th>price</th>\n",
       "      <th>square_meters</th>\n",
       "      <th>rooms</th>\n",
       "      <th>bathrooms</th>\n",
       "      <th>garages</th>\n",
       "      <th>private_area</th>\n",
       "      <th>construction_area</th>\n",
       "      <th>square_meters_price</th>\n",
       "      <th>stratum</th>\n",
       "      <th>floor</th>\n",
       "      <th>interior_floors</th>\n",
       "      <th>admon_price</th>\n",
       "    </tr>\n",
       "  </thead>\n",
       "  <tbody>\n",
       "    <tr>\n",
       "      <td>count</td>\n",
       "      <td>3.796900e+04</td>\n",
       "      <td>37969.000000</td>\n",
       "      <td>37969.000000</td>\n",
       "      <td>37969.000000</td>\n",
       "      <td>3.796900e+04</td>\n",
       "      <td>37969.000000</td>\n",
       "      <td>37969.000000</td>\n",
       "      <td>37969.000000</td>\n",
       "      <td>37969.000000</td>\n",
       "      <td>37969.000000</td>\n",
       "      <td>37969.000000</td>\n",
       "      <td>3.796900e+04</td>\n",
       "      <td>37969.000000</td>\n",
       "      <td>37969.000000</td>\n",
       "      <td>37969.000000</td>\n",
       "      <td>3.796900e+04</td>\n",
       "    </tr>\n",
       "    <tr>\n",
       "      <td>mean</td>\n",
       "      <td>4.561586e+06</td>\n",
       "      <td>4.861192</td>\n",
       "      <td>-58.565363</td>\n",
       "      <td>472069.105718</td>\n",
       "      <td>5.668084e+08</td>\n",
       "      <td>2394.020385</td>\n",
       "      <td>2.253549</td>\n",
       "      <td>2.309410</td>\n",
       "      <td>0.897574</td>\n",
       "      <td>704.919619</td>\n",
       "      <td>2394.020385</td>\n",
       "      <td>2.573771e+07</td>\n",
       "      <td>4.637836</td>\n",
       "      <td>2.560510</td>\n",
       "      <td>0.048908</td>\n",
       "      <td>3.634888e+05</td>\n",
       "    </tr>\n",
       "    <tr>\n",
       "      <td>std</td>\n",
       "      <td>6.149655e+05</td>\n",
       "      <td>2.867668</td>\n",
       "      <td>31.759995</td>\n",
       "      <td>496577.618712</td>\n",
       "      <td>2.666137e+10</td>\n",
       "      <td>380903.897364</td>\n",
       "      <td>1.943904</td>\n",
       "      <td>2.024652</td>\n",
       "      <td>1.172881</td>\n",
       "      <td>77215.296680</td>\n",
       "      <td>380903.897364</td>\n",
       "      <td>4.109346e+09</td>\n",
       "      <td>1.431437</td>\n",
       "      <td>4.571807</td>\n",
       "      <td>0.294911</td>\n",
       "      <td>1.252428e+07</td>\n",
       "    </tr>\n",
       "    <tr>\n",
       "      <td>min</td>\n",
       "      <td>7.925350e+05</td>\n",
       "      <td>-31.587999</td>\n",
       "      <td>-216.562500</td>\n",
       "      <td>526.000000</td>\n",
       "      <td>1.000000e+00</td>\n",
       "      <td>0.000000</td>\n",
       "      <td>0.000000</td>\n",
       "      <td>0.000000</td>\n",
       "      <td>0.000000</td>\n",
       "      <td>0.000000</td>\n",
       "      <td>0.000000</td>\n",
       "      <td>0.000000e+00</td>\n",
       "      <td>0.000000</td>\n",
       "      <td>0.000000</td>\n",
       "      <td>0.000000</td>\n",
       "      <td>0.000000e+00</td>\n",
       "    </tr>\n",
       "    <tr>\n",
       "      <td>25%</td>\n",
       "      <td>4.671887e+06</td>\n",
       "      <td>6.192779</td>\n",
       "      <td>-75.580429</td>\n",
       "      <td>210587.000000</td>\n",
       "      <td>3.600000e+06</td>\n",
       "      <td>76.000000</td>\n",
       "      <td>2.000000</td>\n",
       "      <td>2.000000</td>\n",
       "      <td>0.000000</td>\n",
       "      <td>0.000000</td>\n",
       "      <td>76.000000</td>\n",
       "      <td>3.800000e+04</td>\n",
       "      <td>4.000000</td>\n",
       "      <td>0.000000</td>\n",
       "      <td>0.000000</td>\n",
       "      <td>0.000000e+00</td>\n",
       "    </tr>\n",
       "  </tbody>\n",
       "</table>\n",
       "</div>"
      ],
      "text/plain": [
       "               code      latitude     longitude  id_owner_property  \\\n",
       "count  3.796900e+04  37969.000000  37969.000000       37969.000000   \n",
       "mean   4.561586e+06      4.861192    -58.565363      472069.105718   \n",
       "std    6.149655e+05      2.867668     31.759995      496577.618712   \n",
       "min    7.925350e+05    -31.587999   -216.562500         526.000000   \n",
       "25%    4.671887e+06      6.192779    -75.580429      210587.000000   \n",
       "\n",
       "              price  square_meters         rooms     bathrooms       garages  \\\n",
       "count  3.796900e+04   37969.000000  37969.000000  37969.000000  37969.000000   \n",
       "mean   5.668084e+08    2394.020385      2.253549      2.309410      0.897574   \n",
       "std    2.666137e+10  380903.897364      1.943904      2.024652      1.172881   \n",
       "min    1.000000e+00       0.000000      0.000000      0.000000      0.000000   \n",
       "25%    3.600000e+06      76.000000      2.000000      2.000000      0.000000   \n",
       "\n",
       "       private_area  construction_area  square_meters_price       stratum  \\\n",
       "count  37969.000000       37969.000000         3.796900e+04  37969.000000   \n",
       "mean     704.919619        2394.020385         2.573771e+07      4.637836   \n",
       "std    77215.296680      380903.897364         4.109346e+09      1.431437   \n",
       "min        0.000000           0.000000         0.000000e+00      0.000000   \n",
       "25%        0.000000          76.000000         3.800000e+04      4.000000   \n",
       "\n",
       "              floor  interior_floors   admon_price  \n",
       "count  37969.000000     37969.000000  3.796900e+04  \n",
       "mean       2.560510         0.048908  3.634888e+05  \n",
       "std        4.571807         0.294911  1.252428e+07  \n",
       "min        0.000000         0.000000  0.000000e+00  \n",
       "25%        0.000000         0.000000  0.000000e+00  "
      ]
     },
     "execution_count": 101,
     "metadata": {},
     "output_type": "execute_result"
    }
   ],
   "source": [
    "ddf_old_properties.describe().head()"
   ]
  }
 ],
 "metadata": {
  "file_extension": ".py",
  "kernelspec": {
   "display_name": "Python 3",
   "language": "python",
   "name": "python3"
  },
  "language_info": {
   "codemirror_mode": {
    "name": "ipython",
    "version": 3
   },
   "file_extension": ".py",
   "mimetype": "text/x-python",
   "name": "python",
   "nbconvert_exporter": "python",
   "pygments_lexer": "ipython3",
   "version": "3.7.3"
  },
  "mimetype": "text/x-python",
  "name": "python",
  "npconvert_exporter": "python",
  "pygments_lexer": "ipython3",
  "version": 3
 },
 "nbformat": 4,
 "nbformat_minor": 4
}
