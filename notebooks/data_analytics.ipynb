{
 "cells": [
  {
   "cell_type": "markdown",
   "metadata": {},
   "source": [
    "## Data Analytics"
   ]
  },
  {
   "cell_type": "code",
   "execution_count": 55,
   "metadata": {},
   "outputs": [],
   "source": [
    "import pandas as pd\n",
    "import numpy as np\n",
    "from pandas.io.json import json_normalize\n",
    "from pymongo import MongoClient\n",
    "import json, re\n",
    "from re import sub\n",
    "from decimal import Decimal\n",
    "import dask.dataframe as dd\n",
    "from dask.distributed import Client, progress\n",
    "import dask.dataframe as dd\n",
    "from dask.delayed import delayed"
   ]
  },
  {
   "cell_type": "markdown",
   "metadata": {},
   "source": [
    "### Dask Client"
   ]
  },
  {
   "cell_type": "code",
   "execution_count": 56,
   "metadata": {},
   "outputs": [
    {
     "name": "stderr",
     "output_type": "stream",
     "text": [
      "/home/stivenramireza/anaconda3/lib/python3.7/site-packages/distributed/dashboard/core.py:72: UserWarning: \n",
      "Port 8787 is already in use. \n",
      "Perhaps you already have a cluster running?\n",
      "Hosting the diagnostics dashboard on a random port instead.\n",
      "  warnings.warn(\"\\n\" + msg)\n"
     ]
    },
    {
     "data": {
      "text/html": [
       "<table style=\"border: 2px solid white;\">\n",
       "<tr>\n",
       "<td style=\"vertical-align: top; border: 0px solid white\">\n",
       "<h3 style=\"text-align: left;\">Client</h3>\n",
       "<ul style=\"text-align: left; list-style: none; margin: 0; padding: 0;\">\n",
       "  <li><b>Scheduler: </b>tcp://127.0.0.1:34999</li>\n",
       "  <li><b>Dashboard: </b><a href='http://127.0.0.1:44599/status' target='_blank'>http://127.0.0.1:44599/status</a>\n",
       "</ul>\n",
       "</td>\n",
       "<td style=\"vertical-align: top; border: 0px solid white\">\n",
       "<h3 style=\"text-align: left;\">Cluster</h3>\n",
       "<ul style=\"text-align: left; list-style:none; margin: 0; padding: 0;\">\n",
       "  <li><b>Workers: </b>4</li>\n",
       "  <li><b>Cores: </b>4</li>\n",
       "  <li><b>Memory: </b>16.63 GB</li>\n",
       "</ul>\n",
       "</td>\n",
       "</tr>\n",
       "</table>"
      ],
      "text/plain": [
       "<Client: 'tcp://127.0.0.1:34999' processes=4 threads=4, memory=16.63 GB>"
      ]
     },
     "execution_count": 56,
     "metadata": {},
     "output_type": "execute_result"
    }
   ],
   "source": [
    "client = Client(n_workers=4, threads_per_worker=1)\n",
    "client"
   ]
  },
  {
   "cell_type": "markdown",
   "metadata": {},
   "source": [
    "### Database Connection"
   ]
  },
  {
   "cell_type": "code",
   "execution_count": 57,
   "metadata": {},
   "outputs": [
    {
     "name": "stdout",
     "output_type": "stream",
     "text": [
      "Database connected successfully\n"
     ]
    }
   ],
   "source": [
    "DB_USER = 'anutibara'\n",
    "DB_PASS = 'anutibara'\n",
    "DB_HOST = 'scraping-cluster-7dtgt.gcp.mongodb.net'\n",
    "DB_NAME = 'scraping_db'\n",
    "\n",
    "try:\n",
    "    client = MongoClient(f'mongodb+srv://{DB_USER}:{DB_PASS}@{DB_HOST}/{DB_NAME}')\n",
    "    print(\"Database connected successfully\")\n",
    "except Exception as e:\n",
    "    print(\"Error to connect to database: \", e)\n",
    "db = client.get_database(DB_NAME)\n",
    "properties = db.properties"
   ]
  },
  {
   "cell_type": "markdown",
   "metadata": {},
   "source": [
    "### Database Queries"
   ]
  },
  {
   "cell_type": "code",
   "execution_count": 58,
   "metadata": {},
   "outputs": [
    {
     "data": {
      "text/plain": [
       "22574"
      ]
     },
     "execution_count": 58,
     "metadata": {},
     "output_type": "execute_result"
    }
   ],
   "source": [
    "properties.count_documents({})"
   ]
  },
  {
   "cell_type": "markdown",
   "metadata": {},
   "source": [
    "### Convert Mongo Collection to DataFrame"
   ]
  },
  {
   "cell_type": "markdown",
   "metadata": {},
   "source": [
    "#### New Properties"
   ]
  },
  {
   "cell_type": "code",
   "execution_count": 59,
   "metadata": {},
   "outputs": [],
   "source": [
    "new_properties_json = list(properties.find({ 'use': 'Nuevo' }))"
   ]
  },
  {
   "cell_type": "code",
   "execution_count": 60,
   "metadata": {},
   "outputs": [],
   "source": [
    "df_new_properties = json_normalize(new_properties_json, record_path='offersType', \n",
    "                                meta=['_id', \n",
    "                                    'urlProperty',\n",
    "                                    'scrapingDate', \n",
    "                                    'scrapingHour', \n",
    "                                    'modifyDate',\n",
    "                                    'modifyHour', \n",
    "                                    'code', \n",
    "                                    'status', \n",
    "                                    'type', \n",
    "                                    'use', \n",
    "                                    'nameProject', \n",
    "                                    'description',\n",
    "                                     'country',\n",
    "                                     'department',\n",
    "                                     'city',\n",
    "                                     'sector',\n",
    "                                     'neighborhood',\n",
    "                                     'address',\n",
    "                                     'latitude',\n",
    "                                     'longitude',\n",
    "                                     'idOwnerProperty',\n",
    "                                     'nameOwnerProperty',\n",
    "                                     'contractType',\n",
    "                                     'financing',\n",
    "                                     'schedule',\n",
    "                                     'price',\n",
    "                                     'squareMeters',\n",
    "                                     'rooms',\n",
    "                                     'bathrooms',\n",
    "                                     'garages',\n",
    "                                     'privateArea',\n",
    "                                     'constructionArea',\n",
    "                                     'squareMetersPrice',\n",
    "                                     'stratum',\n",
    "                                     'condition',\n",
    "                                     'antiquity',\n",
    "                                     'floor',\n",
    "                                     'interiorFloors',\n",
    "                                     'weather',\n",
    "                                     'includesAdministration',\n",
    "                                     'admonPrice'])\n",
    "ddf_new_properties = dd.from_pandas(df_new_properties, npartitions=1)"
   ]
  },
  {
   "cell_type": "code",
   "execution_count": 61,
   "metadata": {},
   "outputs": [],
   "source": [
    "ddf_new_properties = ddf_new_properties.loc[:,~ddf_new_properties.columns.duplicated(keep='first')]"
   ]
  },
  {
   "cell_type": "code",
   "execution_count": 62,
   "metadata": {},
   "outputs": [],
   "source": [
    "ddf_new_properties = ddf_new_properties.dropna()"
   ]
  },
  {
   "cell_type": "markdown",
   "metadata": {},
   "source": [
    "#### Old Properties"
   ]
  },
  {
   "cell_type": "code",
   "execution_count": 63,
   "metadata": {},
   "outputs": [],
   "source": [
    "old_properties_json = list(properties.find({ 'use': 'Usado' }))"
   ]
  },
  {
   "cell_type": "code",
   "execution_count": 64,
   "metadata": {},
   "outputs": [],
   "source": [
    "df_old_properties = pd.DataFrame(old_properties_json, \n",
    "                                    columns=['_id', \n",
    "                                    'urlProperty', \n",
    "                                    'scrapingDate', \n",
    "                                    'scrapingHour', \n",
    "                                    'modifyDate',\n",
    "                                    'modifyHour', \n",
    "                                    'code', \n",
    "                                    'status', \n",
    "                                    'type', \n",
    "                                    'use', \n",
    "                                    'nameProject', \n",
    "                                    'description',\n",
    "                                    'country',\n",
    "                                     'department',\n",
    "                                     'city',\n",
    "                                     'sector',\n",
    "                                     'neighborhood',\n",
    "                                     'address',\n",
    "                                     'latitude',\n",
    "                                     'longitude',\n",
    "                                     'idOwnerProperty',\n",
    "                                     'nameOwnerProperty',\n",
    "                                     'contractType',\n",
    "                                     'financing',\n",
    "                                     'schedule',\n",
    "                                     'price',\n",
    "                                     'squareMeters',\n",
    "                                     'rooms',\n",
    "                                     'bathrooms',\n",
    "                                     'garages',\n",
    "                                     'privateArea',\n",
    "                                     'constructionArea',\n",
    "                                     'squareMetersPrice',\n",
    "                                     'stratum',\n",
    "                                     'condition',\n",
    "                                     'antiquity',\n",
    "                                     'floor',\n",
    "                                     'interiorFloors',\n",
    "                                     'weather',\n",
    "                                     'includesAdministration',\n",
    "                                     'admonPrice'])\n",
    "ddf_old_properties = dd.from_pandas(df_old_properties, npartitions=1)"
   ]
  },
  {
   "cell_type": "code",
   "execution_count": 65,
   "metadata": {},
   "outputs": [],
   "source": [
    "ddf_old_properties = ddf_old_properties.loc[:,~ddf_old_properties.columns.duplicated(keep='first')]"
   ]
  },
  {
   "cell_type": "code",
   "execution_count": 66,
   "metadata": {},
   "outputs": [],
   "source": [
    "ddf_old_properties = ddf_old_properties.dropna()"
   ]
  },
  {
   "cell_type": "markdown",
   "metadata": {},
   "source": [
    "### Rename DataFrame Columns"
   ]
  },
  {
   "cell_type": "markdown",
   "metadata": {},
   "source": [
    "#### New Properties"
   ]
  },
  {
   "cell_type": "code",
   "execution_count": 67,
   "metadata": {},
   "outputs": [],
   "source": [
    "ddf_new_properties = ddf_new_properties.rename(columns={\n",
    "                        \"_id\": \"id_mongoose\", \n",
    "                        \"urlProperty\":\"id_property\",\n",
    "                        \"scrapingDate\": \"scraping_date\",\n",
    "                        \"scrapingHour\": \"scraping_hour\",\n",
    "                        \"modifyDate\": \"modify_date\",\n",
    "                        \"modifyHour\": \"modify_hour\",\n",
    "                        \"status\": \"active\",\n",
    "                        \"use\": \"new_property\",\n",
    "                        \"nameProject\": \"name_project\",\n",
    "                        \"offersType\": \"offers_type\",\n",
    "                        \"idOwnerProperty\": \"id_owner_property\",\n",
    "                        \"nameOwnerProperty\": \"name_owner_property\",\n",
    "                        \"contractType\": \"contract_type_owner_property\",\n",
    "                        \"financing\": \"financing_owner_property\",\n",
    "                        \"schedule\": \"schedule_owner_property\",\n",
    "                        \"squareMetersPrice\": \"square_meters_price\",\n",
    "                        \"interiorFloors\": \"interior_floors\",\n",
    "                        \"includesAdministration\": \"includes_administration\",\n",
    "                        \"admonPrice\": \"admon_price\",\n",
    "                        \"interiorFeatures\": \"interior_features\",\n",
    "                        \"exteriorFeatures\": \"exterior_features\",\n",
    "                        \"sectorFeatures\": \"sector_features\",\n",
    "                        \"bathrooms\": \"general_bathrooms\",\n",
    "                        \"rooms\": \"general_rooms\",\n",
    "                        \"price\": \"range_prices\",\n",
    "                        \"squareMeters\": \"range_square_meters\",\n",
    "                        \"constructionArea\": \"range_construction_area\",\n",
    "                        \"offerType\": \"offer_type\",\n",
    "                        \"privateArea\": \"range_private_area\",\n",
    "                        \"areaOfferType\": \"area\",\n",
    "                        \"bathroomsOfferType\": \"bathrooms\",\n",
    "                        \"priceOfferType\": \"price\",\n",
    "                        \"privateAreaOfferType\": \"private_area\",\n",
    "                        \"roomsOfferType\": \"rooms\"\n",
    "})"
   ]
  },
  {
   "cell_type": "markdown",
   "metadata": {},
   "source": [
    "#### Old Properties"
   ]
  },
  {
   "cell_type": "code",
   "execution_count": 68,
   "metadata": {},
   "outputs": [],
   "source": [
    "ddf_old_properties = ddf_old_properties.rename(columns={\n",
    "                        \"_id\": \"id_mongoose\", \n",
    "                        \"urlProperty\":\"id_property\",\n",
    "                        \"scrapingDate\": \"scraping_date\",\n",
    "                        \"scrapingHour\": \"scraping_hour\",\n",
    "                        \"modifyDate\": \"modify_date\",\n",
    "                        \"modifyHour\": \"modify_hour\",\n",
    "                        \"status\": \"active\",\n",
    "                        \"use\": \"new_property\",\n",
    "                        \"nameProject\": \"name_project\",\n",
    "                        \"offersType\": \"offers_type\",\n",
    "                        \"idOwnerProperty\": \"id_owner_property\",\n",
    "                        \"nameOwnerProperty\": \"name_owner_property\",\n",
    "                        \"contractType\": \"contract_type_owner_property\",\n",
    "                        \"financing\": \"financing_owner_property\",\n",
    "                        \"schedule\": \"schedule_owner_property\",\n",
    "                        \"squareMeters\": \"square_meters\",\n",
    "                        \"privateArea\": \"private_area\",\n",
    "                        \"constructionArea\": \"construction_area\",\n",
    "                        \"squareMetersPrice\": \"square_meters_price\",\n",
    "                        \"interiorFloors\": \"interior_floors\",\n",
    "                        \"includesAdministration\": \"includes_administration\",\n",
    "                        \"admonPrice\": \"admon_price\",\n",
    "                        \"offerType\": \"offer_type\",\n",
    "                        \"areaOfferType\": \"area\",\n",
    "                        \"bathroomsOfferType\": \"bathrooms\",\n",
    "                        \"priceOfferType\": \"price\",\n",
    "                        \"privateAreaOfferType\": \"private_area\",\n",
    "                        \"roomsOfferType\": \"rooms\"\n",
    "})"
   ]
  },
  {
   "cell_type": "markdown",
   "metadata": {},
   "source": [
    "### Data Cleaning"
   ]
  },
  {
   "cell_type": "markdown",
   "metadata": {},
   "source": [
    "#### New Properties"
   ]
  },
  {
   "cell_type": "code",
   "execution_count": 69,
   "metadata": {},
   "outputs": [],
   "source": [
    "ddf_new_properties['id_mongoose'] = ddf_new_properties['id_mongoose'].astype(str)\n",
    "ddf_new_properties['code'] = ddf_new_properties['code'].astype(int)\n",
    "ddf_new_properties['active'] = ddf_new_properties['active'].apply(lambda status: True if (status == 'Active') else False, meta=('active', 'bool'))\n",
    "ddf_new_properties['new_property'] = ddf_new_properties['new_property'].apply(lambda status: True if (status == 'Nuevo') else False, meta=('new_property', 'bool'))\n",
    "ddf_new_properties['includes_administration'] = ddf_new_properties['includes_administration'].apply(lambda status: True if (status == 'Nuevo') else False, meta=('includes_administration', 'bool'))\n",
    "ddf_new_properties['garages'] = ddf_new_properties['garages'].replace('', value = 0, regex = True).astype(int)\n",
    "ddf_new_properties['stratum'] = ddf_new_properties['stratum'].replace('', value = 0, regex = True).astype(int)\n",
    "ddf_new_properties['floor'] = ddf_new_properties['floor'].astype(int)\n",
    "ddf_new_properties['area'] = ddf_new_properties['area'].astype(float)\n",
    "ddf_new_properties['private_area'] = ddf_new_properties['private_area'].replace('', value = 0, regex = True)\n",
    "ddf_new_properties['private_area'] = ddf_new_properties['private_area'].astype(float)\n",
    "ddf_new_properties['rooms'] = ddf_new_properties['rooms'].astype(int)\n",
    "ddf_new_properties['bathrooms'] = ddf_new_properties['bathrooms'].astype(int)\n",
    "ddf_new_properties['price'] = ddf_new_properties['price'].apply(lambda price: Decimal(sub(r'[^\\d,]', '', price)), meta=('price', 'int'))\n",
    "ddf_new_properties['price'] = ddf_new_properties['price'].astype(int)"
   ]
  },
  {
   "cell_type": "markdown",
   "metadata": {},
   "source": [
    "#### Old Properties"
   ]
  },
  {
   "cell_type": "code",
   "execution_count": 70,
   "metadata": {},
   "outputs": [],
   "source": [
    "ddf_old_properties['id_mongoose'] = ddf_old_properties['id_mongoose'].astype(str)\n",
    "ddf_old_properties['code'] = ddf_old_properties['code'].astype(int)\n",
    "ddf_old_properties['active'] = ddf_old_properties['active'].apply(lambda status: True if (status == 'Active') else False, meta=('active', 'bool'))\n",
    "ddf_old_properties['new_property'] = ddf_old_properties['new_property'].apply(lambda status: True if (status == 'Nuevo') else False, meta=('new_property', 'bool'))\n",
    "ddf_old_properties['includes_administration'] = ddf_old_properties['includes_administration'].apply(lambda status: True if (status == 'Nuevo') else False, meta=('includes_administration', 'bool'))\n",
    "ddf_old_properties['garages'] = ddf_old_properties['garages'].replace('', value = 0, regex = True)\n",
    "ddf_old_properties['garages'] = ddf_old_properties['garages'].replace('Más de 10', value = 0, regex = True)\n",
    "ddf_old_properties['garages'] = ddf_old_properties['garages'].astype(int)\n",
    "ddf_old_properties['stratum'] = ddf_old_properties['stratum'].replace('', value = 0, regex = True)\n",
    "ddf_old_properties['stratum'] = ddf_old_properties['stratum'].replace('Campestre', value = 0, regex = True)\n",
    "ddf_old_properties['stratum'] = ddf_old_properties['stratum'].astype(int)\n",
    "ddf_old_properties['price'] = ddf_old_properties['price'].apply(lambda price: Decimal(sub(r'[^\\d,]', '', price)), meta=('price', 'int'))\n",
    "ddf_old_properties['price'] = ddf_old_properties['price'].astype(int)\n",
    "ddf_old_properties['square_meters'] = ddf_old_properties['square_meters'].str[0:-3]\n",
    "ddf_old_properties['square_meters'] = ddf_old_properties['square_meters'].replace('', value = '0', regex = True)\n",
    "ddf_old_properties['square_meters'] = ddf_old_properties['square_meters'].apply(lambda meters: Decimal(sub(r'[^\\d,]', '', meters)), meta=('square_meters', 'float'))\n",
    "ddf_old_properties['square_meters'] = ddf_old_properties['square_meters'].astype(float)\n",
    "ddf_old_properties['private_area'] = ddf_old_properties['private_area'].str[0:-3]\n",
    "ddf_old_properties['private_area'] = ddf_old_properties['private_area'].replace('', value = '0', regex = True)\n",
    "ddf_old_properties['private_area'] = ddf_old_properties['private_area'].apply(lambda area: Decimal(sub(r'[^\\d,]', '', area)), meta=('private_area', 'float'))\n",
    "ddf_old_properties['private_area'] = ddf_old_properties['private_area'].astype(float)\n",
    "ddf_old_properties['construction_area'] = ddf_old_properties['construction_area'].str[0:-3]\n",
    "ddf_old_properties['construction_area'] = ddf_old_properties['construction_area'].replace('', value = '0', regex = True)\n",
    "ddf_old_properties['construction_area'] = ddf_old_properties['construction_area'].apply(lambda area: Decimal(sub(r'[^\\d,]', '', area)), meta=('construction_area', 'float'))\n",
    "ddf_old_properties['construction_area'] = ddf_old_properties['construction_area'].astype(float)\n",
    "ddf_old_properties['floor'] = ddf_old_properties['floor'].astype(int)"
   ]
  },
  {
   "cell_type": "markdown",
   "metadata": {},
   "source": [
    "### Data Analytics"
   ]
  },
  {
   "cell_type": "code",
   "execution_count": 490,
   "metadata": {},
   "outputs": [],
   "source": [
    "import pyarrow\n",
    "from dask.diagnostics import ProgressBar\n",
    "from dask.array import stats as dask_stats\n",
    "import seaborn\n",
    "import matplotlib.pyplot as plt"
   ]
  },
  {
   "cell_type": "code",
   "execution_count": 691,
   "metadata": {},
   "outputs": [],
   "source": [
    "seaborn.set()"
   ]
  },
  {
   "cell_type": "code",
   "execution_count": 692,
   "metadata": {},
   "outputs": [],
   "source": [
    "def round_cmm(number):\n",
    "    list_numbers = [int(x) for x in str(number)]\n",
    "    if(list_numbers[1] < 5):\n",
    "        fill_blanks(list_numbers)\n",
    "    else:\n",
    "        list_numbers[0] = list_numbers[0] + 1\n",
    "        fill_blanks(list_numbers)\n",
    "    number = int(''.join([str(i) for i in list_numbers]))\n",
    "    return number"
   ]
  },
  {
   "cell_type": "code",
   "execution_count": 693,
   "metadata": {},
   "outputs": [],
   "source": [
    "def fill_blanks(list_numbers):\n",
    "    for i in range(0, len(list_numbers)):\n",
    "        if(i >= 1):\n",
    "            list_numbers[i] = 0"
   ]
  },
  {
   "cell_type": "markdown",
   "metadata": {},
   "source": [
    "#### New Properties"
   ]
  },
  {
   "cell_type": "code",
   "execution_count": 700,
   "metadata": {},
   "outputs": [],
   "source": [
    "dd.to_parquet(ddf_new_properties, 'new-properties', engine='pyarrow')"
   ]
  },
  {
   "cell_type": "code",
   "execution_count": 712,
   "metadata": {},
   "outputs": [],
   "source": [
    "with open(r'./new-properties/part.0.parquet', 'rb') as f:\n",
    "    data_new_properties = pd.read_parquet(f, engine='pyarrow')\n",
    "    data_new_properties['price'] = data_new_properties['price'].apply(round_cmm)\n",
    "    data_new_properties.to_csv('./data/new-properties.csv') "
   ]
  },
  {
   "cell_type": "code",
   "execution_count": 702,
   "metadata": {},
   "outputs": [],
   "source": [
    "with ProgressBar():\n",
    "    stratum_by_price_new = data_new_properties['price'].value_counts()"
   ]
  },
  {
   "cell_type": "code",
   "execution_count": 703,
   "metadata": {},
   "outputs": [],
   "source": [
    "df_new = stratum_by_price_new.to_frame()\n",
    "df_new = df_new.rename(columns={'price': 'frequency'})\n",
    "df_new.index = df_new.index.rename('price')\n",
    "df_new = df_new.reset_index('price')"
   ]
  },
  {
   "cell_type": "code",
   "execution_count": 704,
   "metadata": {},
   "outputs": [],
   "source": [
    "df_new.to_csv('./data/new-properties-frequency.csv')  "
   ]
  },
  {
   "cell_type": "code",
   "execution_count": 705,
   "metadata": {},
   "outputs": [
    {
     "data": {
      "image/png": "[encoded data removed]",
      "text/plain": [
       "<Figure size 720x720 with 1 Axes>"
      ]
     },
     "metadata": {},
     "output_type": "display_data"
    }
   ],
   "source": [
    "seaborn.set(style=\"whitegrid\")\n",
    "f, ax = plt.subplots(figsize=(10, 10))\n",
    "seaborn.despine(f, left=True, bottom=True)\n",
    "\n",
    "with ProgressBar():\n",
    "    seaborn.scatterplot(x='price', y='frequency',\n",
    "                data=df_new, ax=ax)\n",
    "    plt.ylim(ymin=0, ymax=12000)\n",
    "    plt.xlim(xmin=0, xmax=1000000000)\n",
    "    plt.savefig('./data/new-properties-frequency.png')"
   ]
  },
  {
   "cell_type": "markdown",
   "metadata": {},
   "source": [
    "#### Old Properties"
   ]
  },
  {
   "cell_type": "code",
   "execution_count": 706,
   "metadata": {},
   "outputs": [],
   "source": [
    "dd.to_parquet(ddf_old_properties, 'old-properties', engine='pyarrow')"
   ]
  },
  {
   "cell_type": "code",
   "execution_count": 713,
   "metadata": {},
   "outputs": [],
   "source": [
    "with open(r'./old-properties/part.0.parquet', 'rb') as f:\n",
    "    data_old_properties = pd.read_parquet(f, engine='pyarrow')\n",
    "    data_old_properties = data_old_properties[data_old_properties['type'] == 'Venta']\n",
    "    data_old_properties['price'] = data_old_properties['price'].apply(round_cmm)\n",
    "    data_new_properties.to_csv('./data/old-properties.csv') "
   ]
  },
  {
   "cell_type": "code",
   "execution_count": 708,
   "metadata": {},
   "outputs": [],
   "source": [
    "with ProgressBar():\n",
    "    stratum_by_price_old = data_old_properties['price'].value_counts()"
   ]
  },
  {
   "cell_type": "code",
   "execution_count": 709,
   "metadata": {},
   "outputs": [],
   "source": [
    "df_old = stratum_by_price_old.to_frame()\n",
    "df_old = df_old.rename(columns={'price': 'frequency'})\n",
    "df_old.index = df_old.index.rename('price')\n",
    "df_old = df_old.reset_index('price')"
   ]
  },
  {
   "cell_type": "code",
   "execution_count": 710,
   "metadata": {},
   "outputs": [],
   "source": [
    "df_old.to_csv('./data/old-properties-frequency.csv')  "
   ]
  },
  {
   "cell_type": "code",
   "execution_count": 711,
   "metadata": {},
   "outputs": [
    {
     "data": {
      "image/png": "[encoded data removed]",
      "text/plain": [
       "<Figure size 720x720 with 1 Axes>"
      ]
     },
     "metadata": {},
     "output_type": "display_data"
    }
   ],
   "source": [
    "seaborn.set(style=\"whitegrid\")\n",
    "f, ax = plt.subplots(figsize=(10, 10))\n",
    "seaborn.despine(f, left=True, bottom=True)\n",
    "\n",
    "with ProgressBar():\n",
    "    seaborn.scatterplot(x='price', y=\"frequency\",\n",
    "                data=df_old, ax=ax)\n",
    "    plt.ylim(ymin=0, ymax=1700)\n",
    "    plt.xlim(xmin=0, xmax=1000000000)\n",
    "    plt.savefig('./data/old-properties-frequency.png')"
   ]
  }
 ],
 "metadata": {
  "file_extension": ".py",
  "kernelspec": {
   "display_name": "Python 3",
   "language": "python",
   "name": "python3"
  },
  "language_info": {
   "codemirror_mode": {
    "name": "ipython",
    "version": 3
   },
   "file_extension": ".py",
   "mimetype": "text/x-python",
   "name": "python",
   "nbconvert_exporter": "python",
   "pygments_lexer": "ipython3",
   "version": "3.7.3"
  },
  "mimetype": "text/x-python",
  "name": "python",
  "npconvert_exporter": "python",
  "pygments_lexer": "ipython3",
  "version": 3
 },
 "nbformat": 4,
 "nbformat_minor": 4
}
