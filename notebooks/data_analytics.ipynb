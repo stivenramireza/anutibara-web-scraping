{
 "cells": [
  {
   "cell_type": "markdown",
   "metadata": {},
   "source": [
    "## Data Analytics"
   ]
  },
  {
   "cell_type": "code",
   "execution_count": 1,
   "metadata": {},
   "outputs": [],
   "source": [
    "import pandas as pd\n",
    "import numpy as np\n",
    "from pandas.io.json import json_normalize\n",
    "from pymongo import MongoClient\n",
    "import json, re\n",
    "from re import sub\n",
    "from decimal import Decimal\n",
    "import dask.dataframe as dd\n",
    "from dask.distributed import Client, progress\n",
    "import dask.dataframe as dd\n",
    "from dask.delayed import delayed"
   ]
  },
  {
   "cell_type": "markdown",
   "metadata": {},
   "source": [
    "### Dask Client"
   ]
  },
  {
   "cell_type": "code",
   "execution_count": 2,
   "metadata": {},
   "outputs": [
    {
     "data": {
      "text/html": [
       "<table style=\"border: 2px solid white;\">\n",
       "<tr>\n",
       "<td style=\"vertical-align: top; border: 0px solid white\">\n",
       "<h3 style=\"text-align: left;\">Client</h3>\n",
       "<ul style=\"text-align: left; list-style: none; margin: 0; padding: 0;\">\n",
       "  <li><b>Scheduler: </b>tcp://127.0.0.1:44653</li>\n",
       "  <li><b>Dashboard: </b><a href='http://127.0.0.1:8787/status' target='_blank'>http://127.0.0.1:8787/status</a>\n",
       "</ul>\n",
       "</td>\n",
       "<td style=\"vertical-align: top; border: 0px solid white\">\n",
       "<h3 style=\"text-align: left;\">Cluster</h3>\n",
       "<ul style=\"text-align: left; list-style:none; margin: 0; padding: 0;\">\n",
       "  <li><b>Workers: </b>4</li>\n",
       "  <li><b>Cores: </b>4</li>\n",
       "  <li><b>Memory: </b>16.63 GB</li>\n",
       "</ul>\n",
       "</td>\n",
       "</tr>\n",
       "</table>"
      ],
      "text/plain": [
       "<Client: 'tcp://127.0.0.1:44653' processes=4 threads=4, memory=16.63 GB>"
      ]
     },
     "execution_count": 2,
     "metadata": {},
     "output_type": "execute_result"
    }
   ],
   "source": [
    "client = Client(n_workers=4, threads_per_worker=1)\n",
    "client"
   ]
  },
  {
   "cell_type": "markdown",
   "metadata": {},
   "source": [
    "### Database Connection"
   ]
  },
  {
   "cell_type": "code",
   "execution_count": 3,
   "metadata": {},
   "outputs": [
    {
     "name": "stdout",
     "output_type": "stream",
     "text": [
      "Database connected successfully\n"
     ]
    }
   ],
   "source": [
    "DB_USER = 'anutibara'\n",
    "DB_PASS = 'anutibara'\n",
    "DB_HOST = 'scraping-cluster-7dtgt.gcp.mongodb.net'\n",
    "DB_NAME = 'scraping_db'\n",
    "\n",
    "try:\n",
    "    client = MongoClient(f'mongodb+srv://{DB_USER}:{DB_PASS}@{DB_HOST}/{DB_NAME}')\n",
    "    print(\"Database connected successfully\")\n",
    "except Exception as e:\n",
    "    print(\"Error to connect to database: \", e)\n",
    "db = client.get_database(DB_NAME)\n",
    "properties = db.properties"
   ]
  },
  {
   "cell_type": "markdown",
   "metadata": {},
   "source": [
    "### Database Queries"
   ]
  },
  {
   "cell_type": "code",
   "execution_count": 4,
   "metadata": {},
   "outputs": [
    {
     "data": {
      "text/plain": [
       "22574"
      ]
     },
     "execution_count": 4,
     "metadata": {},
     "output_type": "execute_result"
    }
   ],
   "source": [
    "properties.count_documents({})"
   ]
  },
  {
   "cell_type": "markdown",
   "metadata": {},
   "source": [
    "### Convert Mongo Collection to DataFrame"
   ]
  },
  {
   "cell_type": "markdown",
   "metadata": {},
   "source": [
    "#### New Properties"
   ]
  },
  {
   "cell_type": "code",
   "execution_count": 5,
   "metadata": {},
   "outputs": [],
   "source": [
    "new_properties_json = list(properties.find({ 'use': 'Nuevo' }))"
   ]
  },
  {
   "cell_type": "code",
   "execution_count": 308,
   "metadata": {},
   "outputs": [],
   "source": [
    "df_new_properties = json_normalize(new_properties_json, record_path='offersType', \n",
    "                                meta=['_id', \n",
    "                                    'urlProperty',\n",
    "                                    'scrapingDate', \n",
    "                                    'scrapingHour', \n",
    "                                    'modifyDate',\n",
    "                                    'modifyHour', \n",
    "                                    'code', \n",
    "                                    'status', \n",
    "                                    'type', \n",
    "                                    'use', \n",
    "                                    'nameProject', \n",
    "                                    'description',\n",
    "                                     'country',\n",
    "                                     'department',\n",
    "                                     'city',\n",
    "                                     'sector',\n",
    "                                     'neighborhood',\n",
    "                                     'address',\n",
    "                                     'latitude',\n",
    "                                     'longitude',\n",
    "                                     'idOwnerProperty',\n",
    "                                     'nameOwnerProperty',\n",
    "                                     'contractType',\n",
    "                                     'financing',\n",
    "                                     'schedule',\n",
    "                                     'price',\n",
    "                                     'squareMeters',\n",
    "                                     'rooms',\n",
    "                                     'bathrooms',\n",
    "                                     'garages',\n",
    "                                     'privateArea',\n",
    "                                     'constructionArea',\n",
    "                                     'squareMetersPrice',\n",
    "                                     'stratum',\n",
    "                                     'condition',\n",
    "                                     'antiquity',\n",
    "                                     'floor',\n",
    "                                     'interiorFloors',\n",
    "                                     'weather',\n",
    "                                     'includesAdministration',\n",
    "                                     'admonPrice'])\n",
    "ddf_new_properties = dd.from_pandas(df_new_properties, npartitions=1)"
   ]
  },
  {
   "cell_type": "code",
   "execution_count": 309,
   "metadata": {},
   "outputs": [],
   "source": [
    "ddf_new_properties = ddf_new_properties.loc[:,~ddf_new_properties.columns.duplicated(keep='first')]"
   ]
  },
  {
   "cell_type": "code",
   "execution_count": 310,
   "metadata": {},
   "outputs": [],
   "source": [
    "ddf_new_properties = ddf_new_properties.dropna()"
   ]
  },
  {
   "cell_type": "markdown",
   "metadata": {},
   "source": [
    "#### Old Properties"
   ]
  },
  {
   "cell_type": "code",
   "execution_count": 33,
   "metadata": {},
   "outputs": [],
   "source": [
    "old_properties_json = list(properties.find({ 'use': 'Usado' }))"
   ]
  },
  {
   "cell_type": "code",
   "execution_count": 311,
   "metadata": {},
   "outputs": [],
   "source": [
    "df_old_properties = pd.DataFrame(old_properties_json, \n",
    "                                    columns=['_id', \n",
    "                                    'urlProperty', \n",
    "                                    'scrapingDate', \n",
    "                                    'scrapingHour', \n",
    "                                    'modifyDate',\n",
    "                                    'modifyHour', \n",
    "                                    'code', \n",
    "                                    'status', \n",
    "                                    'type', \n",
    "                                    'use', \n",
    "                                    'nameProject', \n",
    "                                    'description',\n",
    "                                    'country',\n",
    "                                     'department',\n",
    "                                     'city',\n",
    "                                     'sector',\n",
    "                                     'neighborhood',\n",
    "                                     'address',\n",
    "                                     'latitude',\n",
    "                                     'longitude',\n",
    "                                     'idOwnerProperty',\n",
    "                                     'nameOwnerProperty',\n",
    "                                     'contractType',\n",
    "                                     'financing',\n",
    "                                     'schedule',\n",
    "                                     'price',\n",
    "                                     'squareMeters',\n",
    "                                     'rooms',\n",
    "                                     'bathrooms',\n",
    "                                     'garages',\n",
    "                                     'privateArea',\n",
    "                                     'constructionArea',\n",
    "                                     'squareMetersPrice',\n",
    "                                     'stratum',\n",
    "                                     'condition',\n",
    "                                     'antiquity',\n",
    "                                     'floor',\n",
    "                                     'interiorFloors',\n",
    "                                     'weather',\n",
    "                                     'includesAdministration',\n",
    "                                     'admonPrice'])\n",
    "ddf_old_properties = dd.from_pandas(df_old_properties, npartitions=1)"
   ]
  },
  {
   "cell_type": "code",
   "execution_count": 312,
   "metadata": {},
   "outputs": [],
   "source": [
    "ddf_old_properties = ddf_old_properties.loc[:,~ddf_old_properties.columns.duplicated(keep='first')]"
   ]
  },
  {
   "cell_type": "code",
   "execution_count": 313,
   "metadata": {},
   "outputs": [],
   "source": [
    "ddf_old_properties = ddf_old_properties.dropna()"
   ]
  },
  {
   "cell_type": "markdown",
   "metadata": {},
   "source": [
    "### Rename DataFrame Columns"
   ]
  },
  {
   "cell_type": "markdown",
   "metadata": {},
   "source": [
    "#### New Properties"
   ]
  },
  {
   "cell_type": "code",
   "execution_count": 314,
   "metadata": {},
   "outputs": [],
   "source": [
    "ddf_new_properties = ddf_new_properties.rename(columns={\n",
    "                        \"_id\": \"id_mongoose\", \n",
    "                        \"urlProperty\":\"id_property\",\n",
    "                        \"scrapingDate\": \"scraping_date\",\n",
    "                        \"scrapingHour\": \"scraping_hour\",\n",
    "                        \"modifyDate\": \"modify_date\",\n",
    "                        \"modifyHour\": \"modify_hour\",\n",
    "                        \"status\": \"active\",\n",
    "                        \"use\": \"new_property\",\n",
    "                        \"nameProject\": \"name_project\",\n",
    "                        \"offersType\": \"offers_type\",\n",
    "                        \"idOwnerProperty\": \"id_owner_property\",\n",
    "                        \"nameOwnerProperty\": \"name_owner_property\",\n",
    "                        \"contractType\": \"contract_type_owner_property\",\n",
    "                        \"financing\": \"financing_owner_property\",\n",
    "                        \"schedule\": \"schedule_owner_property\",\n",
    "                        \"squareMetersPrice\": \"square_meters_price\",\n",
    "                        \"interiorFloors\": \"interior_floors\",\n",
    "                        \"includesAdministration\": \"includes_administration\",\n",
    "                        \"admonPrice\": \"admon_price\",\n",
    "                        \"interiorFeatures\": \"interior_features\",\n",
    "                        \"exteriorFeatures\": \"exterior_features\",\n",
    "                        \"sectorFeatures\": \"sector_features\",\n",
    "                        \"bathrooms\": \"general_bathrooms\",\n",
    "                        \"rooms\": \"general_rooms\",\n",
    "                        \"price\": \"range_prices\",\n",
    "                        \"squareMeters\": \"range_square_meters\",\n",
    "                        \"constructionArea\": \"range_construction_area\",\n",
    "                        \"offerType\": \"offer_type\",\n",
    "                        \"privateArea\": \"range_private_area\",\n",
    "                        \"areaOfferType\": \"area\",\n",
    "                        \"bathroomsOfferType\": \"bathrooms\",\n",
    "                        \"priceOfferType\": \"price\",\n",
    "                        \"privateAreaOfferType\": \"private_area\",\n",
    "                        \"roomsOfferType\": \"rooms\"\n",
    "})"
   ]
  },
  {
   "cell_type": "markdown",
   "metadata": {},
   "source": [
    "#### Old Properties"
   ]
  },
  {
   "cell_type": "code",
   "execution_count": 315,
   "metadata": {},
   "outputs": [],
   "source": [
    "ddf_old_properties = ddf_old_properties.rename(columns={\n",
    "                        \"_id\": \"id_mongoose\", \n",
    "                        \"urlProperty\":\"id_property\",\n",
    "                        \"scrapingDate\": \"scraping_date\",\n",
    "                        \"scrapingHour\": \"scraping_hour\",\n",
    "                        \"modifyDate\": \"modify_date\",\n",
    "                        \"modifyHour\": \"modify_hour\",\n",
    "                        \"status\": \"active\",\n",
    "                        \"use\": \"new_property\",\n",
    "                        \"nameProject\": \"name_project\",\n",
    "                        \"offersType\": \"offers_type\",\n",
    "                        \"idOwnerProperty\": \"id_owner_property\",\n",
    "                        \"nameOwnerProperty\": \"name_owner_property\",\n",
    "                        \"contractType\": \"contract_type_owner_property\",\n",
    "                        \"financing\": \"financing_owner_property\",\n",
    "                        \"schedule\": \"schedule_owner_property\",\n",
    "                        \"squareMeters\": \"square_meters\",\n",
    "                        \"privateArea\": \"private_area\",\n",
    "                        \"constructionArea\": \"construction_area\",\n",
    "                        \"squareMetersPrice\": \"square_meters_price\",\n",
    "                        \"interiorFloors\": \"interior_floors\",\n",
    "                        \"includesAdministration\": \"includes_administration\",\n",
    "                        \"admonPrice\": \"admon_price\",\n",
    "                        \"offerType\": \"offer_type\",\n",
    "                        \"areaOfferType\": \"area\",\n",
    "                        \"bathroomsOfferType\": \"bathrooms\",\n",
    "                        \"priceOfferType\": \"price\",\n",
    "                        \"privateAreaOfferType\": \"private_area\",\n",
    "                        \"roomsOfferType\": \"rooms\"\n",
    "})"
   ]
  },
  {
   "cell_type": "markdown",
   "metadata": {},
   "source": [
    "### Data Cleaning"
   ]
  },
  {
   "cell_type": "markdown",
   "metadata": {},
   "source": [
    "#### New Properties"
   ]
  },
  {
   "cell_type": "code",
   "execution_count": 316,
   "metadata": {},
   "outputs": [],
   "source": [
    "ddf_new_properties['id_mongoose'] = ddf_new_properties['id_mongoose'].astype(str)\n",
    "ddf_new_properties['code'] = ddf_new_properties['code'].astype(int)\n",
    "ddf_new_properties['active'] = ddf_new_properties['active'].apply(lambda status: True if (status == 'Active') else False, meta=('active', 'bool'))\n",
    "ddf_new_properties['new_property'] = ddf_new_properties['new_property'].apply(lambda status: True if (status == 'Nuevo') else False, meta=('new_property', 'bool'))\n",
    "ddf_new_properties['includes_administration'] = ddf_new_properties['includes_administration'].apply(lambda status: True if (status == 'Nuevo') else False, meta=('includes_administration', 'bool'))\n",
    "ddf_new_properties['garages'] = ddf_new_properties['garages'].replace('', value = 0, regex = True).astype(int)\n",
    "ddf_new_properties['stratum'] = ddf_new_properties['stratum'].replace('', value = 0, regex = True).astype(int)\n",
    "ddf_new_properties['floor'] = ddf_new_properties['floor'].astype(int)\n",
    "ddf_new_properties['area'] = ddf_new_properties['area'].astype(float)\n",
    "ddf_new_properties['private_area'] = ddf_new_properties['private_area'].replace('', value = 0, regex = True)\n",
    "ddf_new_properties['private_area'] = ddf_new_properties['private_area'].astype(float)\n",
    "ddf_new_properties['rooms'] = ddf_new_properties['rooms'].astype(int)\n",
    "ddf_new_properties['bathrooms'] = ddf_new_properties['bathrooms'].astype(int)\n",
    "ddf_new_properties['price'] = ddf_new_properties['price'].apply(lambda price: Decimal(sub(r'[^\\d,]', '', price)), meta=('price', 'int'))\n",
    "ddf_new_properties['price'] = ddf_new_properties['price'].astype(int)"
   ]
  },
  {
   "cell_type": "markdown",
   "metadata": {},
   "source": [
    "#### Old Properties"
   ]
  },
  {
   "cell_type": "code",
   "execution_count": 317,
   "metadata": {},
   "outputs": [],
   "source": [
    "ddf_old_properties['id_mongoose'] = ddf_old_properties['id_mongoose'].astype(str)\n",
    "ddf_old_properties['code'] = ddf_old_properties['code'].astype(int)\n",
    "ddf_old_properties['active'] = ddf_old_properties['active'].apply(lambda status: True if (status == 'Active') else False, meta=('active', 'bool'))\n",
    "ddf_old_properties['new_property'] = ddf_old_properties['new_property'].apply(lambda status: True if (status == 'Nuevo') else False, meta=('new_property', 'bool'))\n",
    "ddf_old_properties['includes_administration'] = ddf_old_properties['includes_administration'].apply(lambda status: True if (status == 'Nuevo') else False, meta=('includes_administration', 'bool'))\n",
    "ddf_old_properties['garages'] = ddf_old_properties['garages'].replace('', value = 0, regex = True)\n",
    "ddf_old_properties['garages'] = ddf_old_properties['garages'].replace('Más de 10', value = 0, regex = True)\n",
    "ddf_old_properties['garages'] = ddf_old_properties['garages'].astype(int)\n",
    "ddf_old_properties['stratum'] = ddf_old_properties['stratum'].replace('', value = 0, regex = True)\n",
    "ddf_old_properties['stratum'] = ddf_old_properties['stratum'].replace('Campestre', value = 0, regex = True)\n",
    "ddf_old_properties['stratum'] = ddf_old_properties['stratum'].astype(int)\n",
    "ddf_old_properties['price'] = ddf_old_properties['price'].apply(lambda price: Decimal(sub(r'[^\\d,]', '', price)), meta=('price', 'int'))\n",
    "ddf_old_properties['price'] = ddf_old_properties['price'].astype(int)\n",
    "ddf_old_properties['square_meters'] = ddf_old_properties['square_meters'].str[0:-3]\n",
    "ddf_old_properties['square_meters'] = ddf_old_properties['square_meters'].replace('', value = '0', regex = True)\n",
    "ddf_old_properties['square_meters'] = ddf_old_properties['square_meters'].apply(lambda meters: Decimal(sub(r'[^\\d,]', '', meters)), meta=('square_meters', 'float'))\n",
    "ddf_old_properties['square_meters'] = ddf_old_properties['square_meters'].astype(float)\n",
    "ddf_old_properties['private_area'] = ddf_old_properties['private_area'].str[0:-3]\n",
    "ddf_old_properties['private_area'] = ddf_old_properties['private_area'].replace('', value = '0', regex = True)\n",
    "ddf_old_properties['private_area'] = ddf_old_properties['private_area'].apply(lambda area: Decimal(sub(r'[^\\d,]', '', area)), meta=('private_area', 'float'))\n",
    "ddf_old_properties['private_area'] = ddf_old_properties['private_area'].astype(float)\n",
    "ddf_old_properties['construction_area'] = ddf_old_properties['construction_area'].str[0:-3]\n",
    "ddf_old_properties['construction_area'] = ddf_old_properties['construction_area'].replace('', value = '0', regex = True)\n",
    "ddf_old_properties['construction_area'] = ddf_old_properties['construction_area'].apply(lambda area: Decimal(sub(r'[^\\d,]', '', area)), meta=('construction_area', 'float'))\n",
    "ddf_old_properties['construction_area'] = ddf_old_properties['construction_area'].astype(float)\n",
    "ddf_old_properties['floor'] = ddf_old_properties['floor'].astype(int)"
   ]
  },
  {
   "cell_type": "markdown",
   "metadata": {},
   "source": [
    "### Data Analytics"
   ]
  },
  {
   "cell_type": "markdown",
   "metadata": {},
   "source": [
    "#### New Properties"
   ]
  },
  {
   "cell_type": "code",
   "execution_count": 362,
   "metadata": {},
   "outputs": [],
   "source": [
    "import pyarrow\n",
    "from dask.diagnostics import ProgressBar\n",
    "from dask.array import stats as dask_stats\n",
    "import seaborn\n",
    "import matplotlib.pyplot as plt"
   ]
  },
  {
   "cell_type": "code",
   "execution_count": 363,
   "metadata": {},
   "outputs": [],
   "source": [
    "dd.to_parquet(ddf_new_properties, 'new-properties', engine='pyarrow')"
   ]
  },
  {
   "cell_type": "code",
   "execution_count": 364,
   "metadata": {},
   "outputs": [],
   "source": [
    "with open(r'./new-properties/part.0.parquet', 'rb') as f:\n",
    "    data_new_properties = pd.read_parquet(f, engine='pyarrow')"
   ]
  },
  {
   "cell_type": "code",
   "execution_count": 365,
   "metadata": {},
   "outputs": [],
   "source": [
    "with ProgressBar():\n",
    "    condition = (data_new_properties['stratum'] == 4)\n",
    "    stratum_by_price_new = data_new_properties[condition]['price'].value_counts().sort_values()"
   ]
  },
  {
   "cell_type": "code",
   "execution_count": 366,
   "metadata": {},
   "outputs": [],
   "source": [
    "df_new = stratum_by_price_new.to_frame()"
   ]
  },
  {
   "cell_type": "code",
   "execution_count": 367,
   "metadata": {},
   "outputs": [
    {
     "data": {
      "image/png": "[encoded data removed]",
      "text/plain": [
       "<Figure size 720x720 with 1 Axes>"
      ]
     },
     "metadata": {},
     "output_type": "display_data"
    }
   ],
   "source": [
    "seaborn.set(style=\"whitegrid\")\n",
    "f, ax = plt.subplots(figsize=(10, 10))\n",
    "seaborn.despine(f, left=True, bottom=True)\n",
    "\n",
    "with ProgressBar():\n",
    "    seaborn.scatterplot(x=df_new.index, y=\"price\",\n",
    "                data=df_new, ax=ax)\n",
    "    plt.ylim(ymin=0)\n",
    "    plt.xlim(xmin=0)"
   ]
  },
  {
   "cell_type": "markdown",
   "metadata": {},
   "source": [
    "#### Old Properties"
   ]
  },
  {
   "cell_type": "code",
   "execution_count": 368,
   "metadata": {},
   "outputs": [],
   "source": [
    "dd.to_parquet(ddf_old_properties, 'old-properties', engine='pyarrow')"
   ]
  },
  {
   "cell_type": "code",
   "execution_count": 369,
   "metadata": {},
   "outputs": [],
   "source": [
    "with open(r'./old-properties/part.0.parquet', 'rb') as f:\n",
    "    data_old_properties = pd.read_parquet(f, engine='pyarrow')"
   ]
  },
  {
   "cell_type": "code",
   "execution_count": 370,
   "metadata": {},
   "outputs": [],
   "source": [
    "with ProgressBar():\n",
    "    condition = (data_old_properties['stratum'] == 4) & (data_old_properties['type'] == 'Arriendo')\n",
    "    stratum_by_price_old = data_old_properties[condition]['price'].value_counts().sort_values()"
   ]
  },
  {
   "cell_type": "code",
   "execution_count": 372,
   "metadata": {},
   "outputs": [],
   "source": [
    "df_old = stratum_by_price_old.to_frame()"
   ]
  },
  {
   "cell_type": "code",
   "execution_count": null,
   "metadata": {},
   "outputs": [],
   "source": [
    "seaborn.set(style=\"whitegrid\")\n",
    "f, ax = plt.subplots(figsize=(10, 10))\n",
    "seaborn.despine(f, left=True, bottom=True)\n",
    "\n",
    "with ProgressBar():\n",
    "    seaborn.scatterplot(x=df_new.index, y=\"price\",\n",
    "                data=df_new, ax=ax)\n",
    "    plt.ylim(ymin=0)\n",
    "    plt.xlim(xmin=0)"
   ]
  }
 ],
 "metadata": {
  "file_extension": ".py",
  "kernelspec": {
   "display_name": "Python 3",
   "language": "python",
   "name": "python3"
  },
  "language_info": {
   "codemirror_mode": {
    "name": "ipython",
    "version": 3
   },
   "file_extension": ".py",
   "mimetype": "text/x-python",
   "name": "python",
   "nbconvert_exporter": "python",
   "pygments_lexer": "ipython3",
   "version": "3.7.3"
  },
  "mimetype": "text/x-python",
  "name": "python",
  "npconvert_exporter": "python",
  "pygments_lexer": "ipython3",
  "version": 3
 },
 "nbformat": 4,
 "nbformat_minor": 4
}
