{
 "cells": [
  {
   "cell_type": "markdown",
   "metadata": {},
   "source": [
    "## Data Analytics"
   ]
  },
  {
   "cell_type": "code",
   "execution_count": 2,
   "metadata": {},
   "outputs": [],
   "source": [
    "import pandas as pd\n",
    "import numpy as np\n",
    "from pandas.io.json import json_normalize\n",
    "from pymongo import MongoClient\n",
    "import json, re\n",
    "from re import sub\n",
    "from decimal import Decimal\n",
    "import dask.dataframe as dd\n",
    "from dask.distributed import Client, progress\n",
    "import dask.dataframe as dd\n",
    "from dask.delayed import delayed"
   ]
  },
  {
   "cell_type": "markdown",
   "metadata": {},
   "source": [
    "### Dask Client"
   ]
  },
  {
   "cell_type": "code",
   "execution_count": 3,
   "metadata": {},
   "outputs": [
    {
     "name": "stderr",
     "output_type": "stream",
     "text": [
      "/home/stiven/anaconda3/lib/python3.7/site-packages/distributed/dashboard/core.py:74: UserWarning: \n",
      "Port 8787 is already in use. \n",
      "Perhaps you already have a cluster running?\n",
      "Hosting the diagnostics dashboard on a random port instead.\n",
      "  warnings.warn(\"\\n\" + msg)\n"
     ]
    },
    {
     "data": {
      "text/html": [
       "<table style=\"border: 2px solid white;\">\n",
       "<tr>\n",
       "<td style=\"vertical-align: top; border: 0px solid white\">\n",
       "<h3>Client</h3>\n",
       "<ul>\n",
       "  <li><b>Scheduler: </b>tcp://127.0.0.1:33603\n",
       "  <li><b>Dashboard: </b><a href='http://127.0.0.1:46693/status' target='_blank'>http://127.0.0.1:46693/status</a>\n",
       "</ul>\n",
       "</td>\n",
       "<td style=\"vertical-align: top; border: 0px solid white\">\n",
       "<h3>Cluster</h3>\n",
       "<ul>\n",
       "  <li><b>Workers: </b>4</li>\n",
       "  <li><b>Cores: </b>4</li>\n",
       "  <li><b>Memory: </b>8.26 GB</li>\n",
       "</ul>\n",
       "</td>\n",
       "</tr>\n",
       "</table>"
      ],
      "text/plain": [
       "<Client: scheduler='tcp://127.0.0.1:33603' processes=4 cores=4>"
      ]
     },
     "execution_count": 3,
     "metadata": {},
     "output_type": "execute_result"
    }
   ],
   "source": [
    "client = Client(n_workers=4, threads_per_worker=1)\n",
    "client"
   ]
  },
  {
   "cell_type": "markdown",
   "metadata": {},
   "source": [
    "### Database Connection"
   ]
  },
  {
   "cell_type": "code",
   "execution_count": 4,
   "metadata": {},
   "outputs": [
    {
     "name": "stdout",
     "output_type": "stream",
     "text": [
      "Database connected successfully\n"
     ]
    }
   ],
   "source": [
    "DB_USER = 'anutibara'\n",
    "DB_PASS = 'anutibara'\n",
    "DB_HOST = 'scraping-cluster-7dtgt.gcp.mongodb.net'\n",
    "DB_NAME = 'scraping_db'\n",
    "\n",
    "try:\n",
    "    client = MongoClient(f'mongodb+srv://{DB_USER}:{DB_PASS}@{DB_HOST}/{DB_NAME}')\n",
    "    print(\"Database connected successfully\")\n",
    "except Exception as e:\n",
    "    print(\"Error to connect to database: \", e)\n",
    "db = client.get_database(DB_NAME)\n",
    "properties = db.properties"
   ]
  },
  {
   "cell_type": "markdown",
   "metadata": {},
   "source": [
    "### Database Queries"
   ]
  },
  {
   "cell_type": "code",
   "execution_count": 5,
   "metadata": {},
   "outputs": [
    {
     "data": {
      "text/plain": [
       "22574"
      ]
     },
     "execution_count": 5,
     "metadata": {},
     "output_type": "execute_result"
    }
   ],
   "source": [
    "properties.count_documents({})"
   ]
  },
  {
   "cell_type": "markdown",
   "metadata": {},
   "source": [
    "### Convert Mongo Collection to DataFrame"
   ]
  },
  {
   "cell_type": "markdown",
   "metadata": {},
   "source": [
    "#### New Properties"
   ]
  },
  {
   "cell_type": "code",
   "execution_count": 6,
   "metadata": {},
   "outputs": [],
   "source": [
    "new_properties_json = list(properties.find({ 'use': 'Nuevo' }))"
   ]
  },
  {
   "cell_type": "code",
   "execution_count": 7,
   "metadata": {},
   "outputs": [],
   "source": [
    "df_new_properties = json_normalize(new_properties_json, record_path='offersType', \n",
    "                                meta=['_id', \n",
    "                                    'urlProperty',\n",
    "                                    'scrapingDate', \n",
    "                                    'scrapingHour', \n",
    "                                    'modifyDate',\n",
    "                                    'modifyHour', \n",
    "                                    'code', \n",
    "                                    'status', \n",
    "                                    'type', \n",
    "                                    'use', \n",
    "                                    'nameProject', \n",
    "                                    'description',\n",
    "                                     'country',\n",
    "                                     'department',\n",
    "                                     'city',\n",
    "                                     'sector',\n",
    "                                     'neighborhood',\n",
    "                                     'address',\n",
    "                                     'latitude',\n",
    "                                     'longitude',\n",
    "                                     'idOwnerProperty',\n",
    "                                     'nameOwnerProperty',\n",
    "                                     'contractType',\n",
    "                                     'financing',\n",
    "                                     'schedule',\n",
    "                                     'price',\n",
    "                                     'squareMeters',\n",
    "                                     'rooms',\n",
    "                                     'bathrooms',\n",
    "                                     'garages',\n",
    "                                     'privateArea',\n",
    "                                     'constructionArea',\n",
    "                                     'squareMetersPrice',\n",
    "                                     'stratum',\n",
    "                                     'condition',\n",
    "                                     'antiquity',\n",
    "                                     'floor',\n",
    "                                     'interiorFloors',\n",
    "                                     'weather',\n",
    "                                     'includesAdministration',\n",
    "                                     'admonPrice',\n",
    "                                     'interiorFeatures',\n",
    "                                     'exteriorFeatures',\n",
    "                                     'sectorFeatures'])\n",
    "ddf_new_properties = dd.from_pandas(df_new_properties, npartitions=10)"
   ]
  },
  {
   "cell_type": "code",
   "execution_count": 8,
   "metadata": {},
   "outputs": [],
   "source": [
    "ddf_new_properties = ddf_new_properties.loc[:,~ddf_new_properties.columns.duplicated(keep='first')]"
   ]
  },
  {
   "cell_type": "code",
   "execution_count": 9,
   "metadata": {},
   "outputs": [],
   "source": [
    "ddf_new_properties = ddf_new_properties.dropna()"
   ]
  },
  {
   "cell_type": "markdown",
   "metadata": {},
   "source": [
    "#### Old Properties"
   ]
  },
  {
   "cell_type": "code",
   "execution_count": 10,
   "metadata": {},
   "outputs": [],
   "source": [
    "old_properties_json = list(properties.find({ 'use': 'Usado' }))"
   ]
  },
  {
   "cell_type": "code",
   "execution_count": 11,
   "metadata": {},
   "outputs": [],
   "source": [
    "df_old_properties = pd.DataFrame(old_properties_json, \n",
    "                                    columns=['_id', \n",
    "                                    'urlProperty', \n",
    "                                    'scrapingDate', \n",
    "                                    'scrapingHour', \n",
    "                                    'modifyDate',\n",
    "                                    'modifyHour', \n",
    "                                    'code', \n",
    "                                    'status', \n",
    "                                    'type', \n",
    "                                    'use', \n",
    "                                    'nameProject', \n",
    "                                    'description',\n",
    "                                    'country',\n",
    "                                     'department',\n",
    "                                     'city',\n",
    "                                     'sector',\n",
    "                                     'neighborhood',\n",
    "                                     'address',\n",
    "                                     'latitude',\n",
    "                                     'longitude',\n",
    "                                     'idOwnerProperty',\n",
    "                                     'nameOwnerProperty',\n",
    "                                     'contractType',\n",
    "                                     'financing',\n",
    "                                     'schedule',\n",
    "                                     'price',\n",
    "                                     'squareMeters',\n",
    "                                     'rooms',\n",
    "                                     'bathrooms',\n",
    "                                     'garages',\n",
    "                                     'privateArea',\n",
    "                                     'constructionArea',\n",
    "                                     'squareMetersPrice',\n",
    "                                     'stratum',\n",
    "                                     'condition',\n",
    "                                     'antiquity',\n",
    "                                     'floor',\n",
    "                                     'interiorFloors',\n",
    "                                     'weather',\n",
    "                                     'includesAdministration',\n",
    "                                     'admonPrice',\n",
    "                                     'interiorFeatures',\n",
    "                                     'exteriorFeatures',\n",
    "                                     'sectorFeatures'])\n",
    "ddf_old_properties = dd.from_pandas(df_old_properties, npartitions=10)"
   ]
  },
  {
   "cell_type": "code",
   "execution_count": 12,
   "metadata": {},
   "outputs": [],
   "source": [
    "ddf_old_properties = ddf_old_properties.loc[:,~ddf_old_properties.columns.duplicated(keep='first')]"
   ]
  },
  {
   "cell_type": "code",
   "execution_count": 13,
   "metadata": {},
   "outputs": [],
   "source": [
    "ddf_old_properties = ddf_old_properties.dropna()"
   ]
  },
  {
   "cell_type": "markdown",
   "metadata": {},
   "source": [
    "### Rename DataFrame Columns"
   ]
  },
  {
   "cell_type": "markdown",
   "metadata": {},
   "source": [
    "#### New Properties"
   ]
  },
  {
   "cell_type": "code",
   "execution_count": 14,
   "metadata": {},
   "outputs": [],
   "source": [
    "ddf_new_properties = ddf_new_properties.rename(columns={\n",
    "                        \"_id\": \"id_mongoose\", \n",
    "                        \"urlProperty\":\"id_property\",\n",
    "                        \"scrapingDate\": \"scraping_date\",\n",
    "                        \"scrapingHour\": \"scraping_hour\",\n",
    "                        \"modifyDate\": \"modify_date\",\n",
    "                        \"modifyHour\": \"modify_hour\",\n",
    "                        \"status\": \"active\",\n",
    "                        \"use\": \"new_property\",\n",
    "                        \"nameProject\": \"name_project\",\n",
    "                        \"offersType\": \"offers_type\",\n",
    "                        \"idOwnerProperty\": \"id_owner_property\",\n",
    "                        \"nameOwnerProperty\": \"name_owner_property\",\n",
    "                        \"contractType\": \"contract_type_owner_property\",\n",
    "                        \"financing\": \"financing_owner_property\",\n",
    "                        \"schedule\": \"schedule_owner_property\",\n",
    "                        \"squareMetersPrice\": \"square_meters_price\",\n",
    "                        \"interiorFloors\": \"interior_floors\",\n",
    "                        \"includesAdministration\": \"includes_administration\",\n",
    "                        \"admonPrice\": \"admon_price\",\n",
    "                        \"interiorFeatures\": \"interior_features\",\n",
    "                        \"exteriorFeatures\": \"exterior_features\",\n",
    "                        \"sectorFeatures\": \"sector_features\",\n",
    "                        \"bathrooms\": \"general_bathrooms\",\n",
    "                        \"rooms\": \"general_rooms\",\n",
    "                        \"price\": \"range_prices\",\n",
    "                        \"squareMeters\": \"range_square_meters\",\n",
    "                        \"constructionArea\": \"range_construction_area\",\n",
    "                        \"offerType\": \"offer_type\",\n",
    "                        \"privateArea\": \"range_private_area\",\n",
    "                        \"areaOfferType\": \"area\",\n",
    "                        \"bathroomsOfferType\": \"bathrooms\",\n",
    "                        \"priceOfferType\": \"price\",\n",
    "                        \"privateAreaOfferType\": \"private_area\",\n",
    "                        \"roomsOfferType\": \"rooms\"\n",
    "})"
   ]
  },
  {
   "cell_type": "markdown",
   "metadata": {},
   "source": [
    "#### Old Properties"
   ]
  },
  {
   "cell_type": "code",
   "execution_count": 15,
   "metadata": {},
   "outputs": [],
   "source": [
    "ddf_old_properties = ddf_old_properties.rename(columns={\n",
    "                        \"_id\": \"id_mongoose\", \n",
    "                        \"urlProperty\":\"id_property\",\n",
    "                        \"scrapingDate\": \"scraping_date\",\n",
    "                        \"scrapingHour\": \"scraping_hour\",\n",
    "                        \"modifyDate\": \"modify_date\",\n",
    "                        \"modifyHour\": \"modify_hour\",\n",
    "                        \"status\": \"active\",\n",
    "                        \"use\": \"new_property\",\n",
    "                        \"nameProject\": \"name_project\",\n",
    "                        \"offersType\": \"offers_type\",\n",
    "                        \"idOwnerProperty\": \"id_owner_property\",\n",
    "                        \"nameOwnerProperty\": \"name_owner_property\",\n",
    "                        \"contractType\": \"contract_type_owner_property\",\n",
    "                        \"financing\": \"financing_owner_property\",\n",
    "                        \"schedule\": \"schedule_owner_property\",\n",
    "                        \"squareMeters\": \"square_meters\",\n",
    "                        \"privateArea\": \"private_area\",\n",
    "                        \"constructionArea\": \"construction_area\",\n",
    "                        \"squareMetersPrice\": \"square_meters_price\",\n",
    "                        \"interiorFloors\": \"interior_floors\",\n",
    "                        \"includesAdministration\": \"includes_administration\",\n",
    "                        \"admonPrice\": \"admon_price\",\n",
    "                        \"offerType\": \"offer_type\",\n",
    "                        \"areaOfferType\": \"area\",\n",
    "                        \"bathroomsOfferType\": \"bathrooms\",\n",
    "                        \"priceOfferType\": \"price\",\n",
    "                        \"privateAreaOfferType\": \"private_area\",\n",
    "                        \"roomsOfferType\": \"rooms\"\n",
    "})"
   ]
  },
  {
   "cell_type": "markdown",
   "metadata": {},
   "source": [
    "### Data Cleaning"
   ]
  },
  {
   "cell_type": "markdown",
   "metadata": {},
   "source": [
    "#### New Properties"
   ]
  },
  {
   "cell_type": "code",
   "execution_count": 16,
   "metadata": {},
   "outputs": [],
   "source": [
    "ddf_new_properties['id_mongoose'] = ddf_new_properties['id_mongoose'].astype(str)\n",
    "ddf_new_properties['code'] = ddf_new_properties['code'].astype(int)\n",
    "ddf_new_properties['active'] = ddf_new_properties['active'].apply(lambda status: True if (status == 'Active') else False, meta=('active', 'bool'))\n",
    "ddf_new_properties['new_property'] = ddf_new_properties['new_property'].apply(lambda status: True if (status == 'Nuevo') else False, meta=('new_property', 'bool'))\n",
    "ddf_new_properties['includes_administration'] = ddf_new_properties['includes_administration'].apply(lambda status: True if (status == 'Nuevo') else False, meta=('includes_administration', 'bool'))\n",
    "ddf_new_properties['garages'] = ddf_new_properties['garages'].replace('', value = 0, regex = True).astype(int)\n",
    "ddf_new_properties['stratum'] = ddf_new_properties['stratum'].replace('', value = 0, regex = True).astype(int)\n",
    "ddf_new_properties['floor'] = ddf_new_properties['floor'].astype(int)\n",
    "ddf_new_properties['area'] = ddf_new_properties['area'].astype(float)\n",
    "ddf_new_properties['private_area'] = ddf_new_properties['private_area'].replace('', value = 0, regex = True)\n",
    "ddf_new_properties['private_area'] = ddf_new_properties['private_area'].astype(float)\n",
    "ddf_new_properties['rooms'] = ddf_new_properties['rooms'].astype(int)\n",
    "ddf_new_properties['bathrooms'] = ddf_new_properties['bathrooms'].astype(int)\n",
    "ddf_new_properties['price'] = ddf_new_properties['price'].apply(lambda price: Decimal(sub(r'[^\\d,]', '', price)), meta=('price', 'int'))\n",
    "ddf_new_properties['price'] = ddf_new_properties['price'].astype(int)"
   ]
  },
  {
   "cell_type": "markdown",
   "metadata": {},
   "source": [
    "#### Old Properties"
   ]
  },
  {
   "cell_type": "code",
   "execution_count": 17,
   "metadata": {},
   "outputs": [],
   "source": [
    "ddf_old_properties['id_mongoose'] = ddf_old_properties['id_mongoose'].astype(str)\n",
    "ddf_old_properties['code'] = ddf_old_properties['code'].astype(int)\n",
    "ddf_old_properties['active'] = ddf_old_properties['active'].apply(lambda status: True if (status == 'Active') else False, meta=('active', 'bool'))\n",
    "ddf_old_properties['new_property'] = ddf_old_properties['new_property'].apply(lambda status: True if (status == 'Nuevo') else False, meta=('new_property', 'bool'))\n",
    "ddf_old_properties['includes_administration'] = ddf_old_properties['includes_administration'].apply(lambda status: True if (status == 'Nuevo') else False, meta=('includes_administration', 'bool'))\n",
    "ddf_old_properties['garages'] = ddf_old_properties['garages'].replace('', value = 0, regex = True)\n",
    "ddf_old_properties['garages'] = ddf_old_properties['garages'].replace('Más de 10', value = 0, regex = True)\n",
    "ddf_old_properties['garages'] = ddf_old_properties['garages'].astype(int)\n",
    "ddf_old_properties['stratum'] = ddf_old_properties['stratum'].replace('', value = 0, regex = True)\n",
    "ddf_old_properties['stratum'] = ddf_old_properties['stratum'].replace('Campestre', value = 0, regex = True)\n",
    "ddf_old_properties['stratum'] = ddf_old_properties['stratum'].astype(int)\n",
    "ddf_old_properties['price'] = ddf_old_properties['price'].apply(lambda price: Decimal(sub(r'[^\\d,]', '', price)), meta=('price', 'int'))\n",
    "ddf_old_properties['price'] = ddf_old_properties['price'].astype(int)\n",
    "ddf_old_properties['square_meters'] = ddf_old_properties['square_meters'].str[0:-3]\n",
    "ddf_old_properties['square_meters'] = ddf_old_properties['square_meters'].replace('', value = '0', regex = True)\n",
    "ddf_old_properties['square_meters'] = ddf_old_properties['square_meters'].apply(lambda meters: Decimal(sub(r'[^\\d,]', '', meters)), meta=('square_meters', 'float'))\n",
    "ddf_old_properties['square_meters'] = ddf_old_properties['square_meters'].astype(float)\n",
    "ddf_old_properties['private_area'] = ddf_old_properties['private_area'].str[0:-3]\n",
    "ddf_old_properties['private_area'] = ddf_old_properties['private_area'].replace('', value = '0', regex = True)\n",
    "ddf_old_properties['private_area'] = ddf_old_properties['private_area'].apply(lambda area: Decimal(sub(r'[^\\d,]', '', area)), meta=('private_area', 'float'))\n",
    "ddf_old_properties['private_area'] = ddf_old_properties['private_area'].astype(float)\n",
    "ddf_old_properties['construction_area'] = ddf_old_properties['construction_area'].str[0:-3]\n",
    "ddf_old_properties['construction_area'] = ddf_old_properties['construction_area'].replace('', value = '0', regex = True)\n",
    "ddf_old_properties['construction_area'] = ddf_old_properties['construction_area'].apply(lambda area: Decimal(sub(r'[^\\d,]', '', area)), meta=('construction_area', 'float'))\n",
    "ddf_old_properties['construction_area'] = ddf_old_properties['construction_area'].astype(float)\n",
    "ddf_old_properties['floor'] = ddf_old_properties['floor'].astype(int)"
   ]
  },
  {
   "cell_type": "markdown",
   "metadata": {},
   "source": [
    "### Data Analytics"
   ]
  },
  {
   "cell_type": "markdown",
   "metadata": {},
   "source": [
    "#### New Properties"
   ]
  },
  {
   "cell_type": "code",
   "execution_count": 24,
   "metadata": {},
   "outputs": [],
   "source": [
    "import pyarrow\n",
    "from dask.diagnostics import ProgressBar\n",
    "from dask.array import stats as dask_stats"
   ]
  },
  {
   "cell_type": "code",
   "execution_count": null,
   "metadata": {},
   "outputs": [],
   "source": [
    "ddf_new_properties.to_parquet('data/*.parquet', engine='pyarrow')"
   ]
  },
  {
   "cell_type": "code",
   "execution_count": 25,
   "metadata": {},
   "outputs": [
    {
     "name": "stderr",
     "output_type": "stream",
     "text": [
      "/home/stiven/anaconda3/lib/python3.7/site-packages/dask/array/core.py:3808: RuntimeWarning: invalid value encountered in true_divide\n",
      "  result = function(*args, **kwargs)\n"
     ]
    }
   ],
   "source": [
    "with ProgressBar():\n",
    "    mean = ddf_new_properties['price'].mean().compute()\n",
    "    stdev = ddf_new_properties['price'].std().compute()\n",
    "    minimum = ddf_new_properties['price'].min().compute()\n",
    "    maximum = ddf_new_properties['price'].max().compute()\n",
    "    skewness = float(dask_stats.skew(ddf_new_properties['price'].values).compute())"
   ]
  },
  {
   "cell_type": "markdown",
   "metadata": {},
   "source": [
    "#### Old Properties"
   ]
  },
  {
   "cell_type": "code",
   "execution_count": 19,
   "metadata": {},
   "outputs": [
    {
     "data": {
      "text/html": [
       "<div>\n",
       "<style scoped>\n",
       "    .dataframe tbody tr th:only-of-type {\n",
       "        vertical-align: middle;\n",
       "    }\n",
       "\n",
       "    .dataframe tbody tr th {\n",
       "        vertical-align: top;\n",
       "    }\n",
       "\n",
       "    .dataframe thead th {\n",
       "        text-align: right;\n",
       "    }\n",
       "</style>\n",
       "<table border=\"1\" class=\"dataframe\">\n",
       "  <thead>\n",
       "    <tr style=\"text-align: right;\">\n",
       "      <th></th>\n",
       "      <th>code</th>\n",
       "      <th>latitude</th>\n",
       "      <th>longitude</th>\n",
       "      <th>id_owner_property</th>\n",
       "      <th>price</th>\n",
       "      <th>square_meters</th>\n",
       "      <th>rooms</th>\n",
       "      <th>bathrooms</th>\n",
       "      <th>garages</th>\n",
       "      <th>private_area</th>\n",
       "      <th>construction_area</th>\n",
       "      <th>square_meters_price</th>\n",
       "      <th>stratum</th>\n",
       "      <th>floor</th>\n",
       "      <th>interior_floors</th>\n",
       "      <th>admon_price</th>\n",
       "    </tr>\n",
       "  </thead>\n",
       "  <tbody>\n",
       "    <tr>\n",
       "      <th>count</th>\n",
       "      <td>1.825800e+04</td>\n",
       "      <td>18258.000000</td>\n",
       "      <td>18258.000000</td>\n",
       "      <td>18258.000000</td>\n",
       "      <td>1.825800e+04</td>\n",
       "      <td>18258.000000</td>\n",
       "      <td>18258.000000</td>\n",
       "      <td>18258.000000</td>\n",
       "      <td>18258.000000</td>\n",
       "      <td>18258.000000</td>\n",
       "      <td>18258.000000</td>\n",
       "      <td>1.825800e+04</td>\n",
       "      <td>18258.000000</td>\n",
       "      <td>18258.000000</td>\n",
       "      <td>18258.000000</td>\n",
       "      <td>1.825800e+04</td>\n",
       "    </tr>\n",
       "    <tr>\n",
       "      <th>mean</th>\n",
       "      <td>4.446559e+06</td>\n",
       "      <td>4.823758</td>\n",
       "      <td>-57.946446</td>\n",
       "      <td>434693.334155</td>\n",
       "      <td>4.062433e+08</td>\n",
       "      <td>617.811644</td>\n",
       "      <td>2.310439</td>\n",
       "      <td>2.319915</td>\n",
       "      <td>0.916804</td>\n",
       "      <td>1156.719630</td>\n",
       "      <td>617.811644</td>\n",
       "      <td>4.229739e+06</td>\n",
       "      <td>4.631778</td>\n",
       "      <td>2.567806</td>\n",
       "      <td>0.045021</td>\n",
       "      <td>4.257709e+05</td>\n",
       "    </tr>\n",
       "    <tr>\n",
       "      <th>std</th>\n",
       "      <td>6.295899e+05</td>\n",
       "      <td>3.017403</td>\n",
       "      <td>32.041486</td>\n",
       "      <td>456690.175640</td>\n",
       "      <td>4.383077e+09</td>\n",
       "      <td>41769.152924</td>\n",
       "      <td>2.097169</td>\n",
       "      <td>1.635189</td>\n",
       "      <td>1.181196</td>\n",
       "      <td>111226.911805</td>\n",
       "      <td>41769.152924</td>\n",
       "      <td>8.214235e+07</td>\n",
       "      <td>1.423545</td>\n",
       "      <td>4.612702</td>\n",
       "      <td>0.275429</td>\n",
       "      <td>2.123649e+07</td>\n",
       "    </tr>\n",
       "    <tr>\n",
       "      <th>min</th>\n",
       "      <td>7.964960e+05</td>\n",
       "      <td>-31.587999</td>\n",
       "      <td>-116.400002</td>\n",
       "      <td>13235.000000</td>\n",
       "      <td>1.000000e+00</td>\n",
       "      <td>0.000000</td>\n",
       "      <td>0.000000</td>\n",
       "      <td>0.000000</td>\n",
       "      <td>0.000000</td>\n",
       "      <td>0.000000</td>\n",
       "      <td>0.000000</td>\n",
       "      <td>0.000000e+00</td>\n",
       "      <td>0.000000</td>\n",
       "      <td>0.000000</td>\n",
       "      <td>0.000000</td>\n",
       "      <td>-1.773791e+09</td>\n",
       "    </tr>\n",
       "    <tr>\n",
       "      <th>25%</th>\n",
       "      <td>4.497874e+06</td>\n",
       "      <td>6.184126</td>\n",
       "      <td>-75.581215</td>\n",
       "      <td>172611.000000</td>\n",
       "      <td>4.000000e+06</td>\n",
       "      <td>74.000000</td>\n",
       "      <td>2.000000</td>\n",
       "      <td>2.000000</td>\n",
       "      <td>0.000000</td>\n",
       "      <td>0.000000</td>\n",
       "      <td>74.000000</td>\n",
       "      <td>4.280393e+04</td>\n",
       "      <td>4.000000</td>\n",
       "      <td>0.000000</td>\n",
       "      <td>0.000000</td>\n",
       "      <td>0.000000e+00</td>\n",
       "    </tr>\n",
       "  </tbody>\n",
       "</table>\n",
       "</div>"
      ],
      "text/plain": [
       "               code      latitude     longitude  id_owner_property  \\\n",
       "count  1.825800e+04  18258.000000  18258.000000       18258.000000   \n",
       "mean   4.446559e+06      4.823758    -57.946446      434693.334155   \n",
       "std    6.295899e+05      3.017403     32.041486      456690.175640   \n",
       "min    7.964960e+05    -31.587999   -116.400002       13235.000000   \n",
       "25%    4.497874e+06      6.184126    -75.581215      172611.000000   \n",
       "\n",
       "              price  square_meters         rooms     bathrooms       garages  \\\n",
       "count  1.825800e+04   18258.000000  18258.000000  18258.000000  18258.000000   \n",
       "mean   4.062433e+08     617.811644      2.310439      2.319915      0.916804   \n",
       "std    4.383077e+09   41769.152924      2.097169      1.635189      1.181196   \n",
       "min    1.000000e+00       0.000000      0.000000      0.000000      0.000000   \n",
       "25%    4.000000e+06      74.000000      2.000000      2.000000      0.000000   \n",
       "\n",
       "        private_area  construction_area  square_meters_price       stratum  \\\n",
       "count   18258.000000       18258.000000         1.825800e+04  18258.000000   \n",
       "mean     1156.719630         617.811644         4.229739e+06      4.631778   \n",
       "std    111226.911805       41769.152924         8.214235e+07      1.423545   \n",
       "min         0.000000           0.000000         0.000000e+00      0.000000   \n",
       "25%         0.000000          74.000000         4.280393e+04      4.000000   \n",
       "\n",
       "              floor  interior_floors   admon_price  \n",
       "count  18258.000000     18258.000000  1.825800e+04  \n",
       "mean       2.567806         0.045021  4.257709e+05  \n",
       "std        4.612702         0.275429  2.123649e+07  \n",
       "min        0.000000         0.000000 -1.773791e+09  \n",
       "25%        0.000000         0.000000  0.000000e+00  "
      ]
     },
     "execution_count": 19,
     "metadata": {},
     "output_type": "execute_result"
    }
   ],
   "source": [
    "ddf_old_properties.describe().head()"
   ]
  }
 ],
 "metadata": {
  "file_extension": ".py",
  "kernelspec": {
   "display_name": "Python 3",
   "language": "python",
   "name": "python3"
  },
  "language_info": {
   "codemirror_mode": {
    "name": "ipython",
    "version": 3
   },
   "file_extension": ".py",
   "mimetype": "text/x-python",
   "name": "python",
   "nbconvert_exporter": "python",
   "pygments_lexer": "ipython3",
   "version": "3.7.3"
  },
  "mimetype": "text/x-python",
  "name": "python",
  "npconvert_exporter": "python",
  "pygments_lexer": "ipython3",
  "version": 3
 },
 "nbformat": 4,
 "nbformat_minor": 4
}
